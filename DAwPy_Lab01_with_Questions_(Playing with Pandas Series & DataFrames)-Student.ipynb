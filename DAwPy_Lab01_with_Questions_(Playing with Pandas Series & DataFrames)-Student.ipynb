{
 "cells": [
  {
   "cell_type": "markdown",
   "metadata": {
    "id": "MkTCBtBXuPZA"
   },
   "source": [
    "___\n",
    "\n",
    "<p style=\"text-align: center;\"><img src=\"https://docs.google.com/uc?id=1lY0Uj5R04yMY3-ZppPWxqCr5pvBLYPnV\" class=\"img-fluid\" \n",
    "alt=\"CLRSWY\"></p>\n",
    "\n",
    "## <p style=\"background-color:#FDFEFE; font-family:newtimeroman; color:#9d4f8c; font-size:100%; text-align:center; border-radius:10px 10px;\">WAY TO REINVENT YOURSELF</p>"
   ]
  },
  {
   "cell_type": "markdown",
   "metadata": {},
   "source": [
    "<img src=https://i.ibb.co/6gCsHd6/1200px-Pandas-logo-svg.png width=\"700\" height=\"200\">\n",
    "\n",
    "## <p style=\"background-color:#FDFEFE; font-family:newtimeroman; color:#060108; font-size:200%; text-align:center; border-radius:10px 10px;\">Data Analysis with Python</p>\n",
    "\n",
    "## <p style=\"background-color:#FDFEFE; font-family:newtimeroman; color:#060108; font-size:150%; text-align:center; border-radius:10px 10px;\">Lab-01 Session</p>\n",
    "\n",
    "## <p style=\"background-color:#FDFEFE; font-family:newtimeroman; color:#4d77cf; font-size:200%; text-align:center; border-radius:10px 10px;\">Playing with Pandas Series & DataFrames</p>"
   ]
  },
  {
   "cell_type": "markdown",
   "metadata": {},
   "source": [
    "<a id=\"toc\"></a>\n",
    "\n",
    "## <p style=\"background-color:#9d4f8c; font-family:newtimeroman; color:#FFF9ED; font-size:175%; text-align:center; border-radius:10px 10px;\">Content</p>\n",
    "\n",
    "* [OVERVIEW](#0)\n",
    "* [IMPORTING LIBRARIES NEEDED IN THIS NOTEBOOK](#1)\n",
    "* [CREATING NUMPY ARRAYS](#2)\n",
    "* [WORKING WITH SERIES DATA STRUCTURE](#3)\n",
    "* [CREATING A PANDAS DATAFRAMES](#4)\n",
    "* [WORKING WITH DATAFRAMES](#5)\n",
    "* [INDEXING, SLICING & SELECTION](#6)\n",
    "* [THE END OF THE LAB-01 SESSION](#7)"
   ]
  },
  {
   "cell_type": "markdown",
   "metadata": {},
   "source": [
    "## <p style=\"background-color:#9d4f8c; font-family:newtimeroman; color:#FFF9ED; font-size:175%; text-align:center; border-radius:10px 10px;\">Overview</p>\n",
    "\n",
    "<a id=\"0\"></a>\n",
    "<a href=\"#toc\" class=\"btn btn-primary btn-sm\" role=\"button\" aria-pressed=\"true\" \n",
    "style=\"color:blue; background-color:#dfa8e4\" data-toggle=\"popover\">Content</a>\n",
    "\n",
    "## What is Pandas in Python?\n",
    "\n",
    "[**Pandas**](http://pandas.pydata.org/) is the most famous python library providing fast, flexible, and expressive data structures designed to make working with \"relational\" or \"labeled\" data both easy and intuitive. It aims to be the fundamental high-level building block for doing practical, real world data analysis in Python. Additionally, it has the broader goal of becoming the most powerful and flexible open source data analysis / manipulation tool available in any language. It is already well on its way towards this goal.\n",
    "\n",
    "In Pandas, the data is usually utilized to support the statistical analysis in SciPy, plotting functions from Matplotlib, and machine learning algorithms in Scikit-learn.\n",
    "\n",
    "Its popularity has surged in recent years, coincident with the rise of fields such as data science and machine learning. Here’s a popularity comparison over time against STATA, SAS, and [dplyr](https://dplyr.tidyverse.org/) courtesy of Stack Overflow Trends\n",
    "\n",
    "<img src=\"https://i.ibb.co/crf3ksp/pandas-vs-rest.png\" style=\"\">\n",
    "\n",
    "## Core Components of Pandas Data Structure\n",
    "\n",
    "Organizing any data in a particular way is known as a data structure. **``Pandas``** have **two core data structure** components, and all operations are based on those two objects. Here are the two pandas data structures:\n",
    "\n",
    "  - [**Series :**](https://pandas.pydata.org/docs/reference/api/pandas.Series.html) A kind of one-dimensional array of any data type that we specified in the pandas module.\n",
    "  - [**DataFrame :**](https://pandas.pydata.org/docs/reference/api/pandas.DataFrame.html) a 2 dimensional data structure, like a 2 dimensional array, or a table with rows and columns of potentially different types.\n",
    "\n",
    "## Main Features\n",
    "\n",
    "Just as [**NumPy**](http://www.numpy.org/) provides the basic array data type plus core array operations, **``Pandas``**;\n",
    "\n",
    "1. defines fundamental structures for working with data and  \n",
    "1. endows them with methods that facilitate operations such as  \n",
    "  \n",
    "  - reading in data  \n",
    "  - adjusting indices  \n",
    "  - working with dates and time series  \n",
    "  - sorting, grouping, re-ordering and general data munging <sup><a href=#mung id=mung-link>[1]</a></sup>  \n",
    "  - dealing with missing values, etc., etc.  \n",
    "  \n",
    "Here are just a few of the things that pandas does well:\n",
    "\n",
    "  - Easy handling of [missing data](https://pandas.pydata.org/pandas-docs/stable/user_guide/missing_data.html) (represented as **``NaN``**) in floating point as well as non-floating point data\n",
    "  - Size mutability: columns can be [inserted and deleted](https://pandas.pydata.org/pandas-docs/stable/user_guide/dsintro.html) from DataFrame and higher dimensional objects\n",
    "  - Automatic and explicit [data alignment](https://pandas.pydata.org/pandas-docs/stable/user_guide/dsintro.html): objects can be explicitly aligned to a set of labels, or the user can simply ignore the labels and let **``Series``**, **``DataFrame``**, etc. automatically align the data for you in computations\n",
    "  - Powerful, flexible [group by](https://pandas.pydata.org/pandas-docs/stable/user_guide/groupby.html) functionality to perform split-apply-combine operations on data sets, for both aggregating and transforming data\n",
    "  - Make it [easy to convert](https://pandas.pydata.org/pandas-docs/stable/user_guide/dsintro.html) ragged, differently-indexed data in other Python and NumPy data structures into DataFrame objects\n",
    "  - Intelligent label-based [slicing](https://pandas.pydata.org/pandas-docs/stable/user_guide/indexing.html), [fancy indexing](https://pandas.pydata.org/pandas-docs/stable/user_guide/indexing.html), and [subsetting](https://pandas.pydata.org/pandas-docs/stable/user_guide/indexing.html) of large data sets\n",
    "  - Intuitive [merging](https://pandas.pydata.org/pandas-docs/stable/user_guide/merging.html) and [joining](https://pandas.pydata.org/pandas-docs/stable/user_guide/merging.html) datasets\n",
    "  - Flexible [reshaping](https://pandas.pydata.org/pandas-docs/stable/user_guide/reshaping.html) and [pivoting](https://pandas.pydata.org/pandas-docs/stable/user_guide/reshaping.html) of datasets\n",
    "  - [Hierarchical labeling](https://pandas.pydata.org/pandas-docs/stable/user_guide/indexing.html) of axes (possible to have multiple labels per tick)\n",
    "  - Robust IO tools for loading data from [flat files](https://pandas.pydata.org/pandas-docs/stable/user_guide/io.html) (CSV and delimited), [Excel files](https://pandas.pydata.org/pandas-docs/stable/user_guide/io.html), [databases](https://pandas.pydata.org/pandas-docs/stable/user_guide/io.html), and saving/loading data from the ultrafast [HDF5 format](https://pandas.pydata.org/pandas-docs/stable/user_guide/io.html)\n",
    "  - [Time series](https://pandas.pydata.org/pandas-docs/stable/user_guide/timeseries.html)-specific functionality: date range generation and frequency conversion, moving window statistics, moving window linear regressions, date shifting and lagging, etc.\n",
    "\n",
    "More sophisticated statistical functionality is left to other packages, such as [statsmodels](http://www.statsmodels.org/) and [scikit-learn](http://scikit-learn.org/), which are built on top of pandas.\n",
    "\n",
    "This session will provide a basic introduction to Pandas. Throughout the session, we will assume that the following imports have taken place."
   ]
  },
  {
   "cell_type": "markdown",
   "metadata": {},
   "source": [
    "## <p style=\"background-color:#9d4f8c; font-family:newtimeroman; color:#FFF9ED; font-size:175%; text-align:center; border-radius:10px 10px;\">Importing Libraries Needed in This Notebook</p>\n",
    "\n",
    "<a id=\"1\"></a>\n",
    "<a href=\"#toc\" class=\"btn btn-primary btn-sm\" role=\"button\" aria-pressed=\"true\" \n",
    "style=\"color:blue; background-color:#dfa8e4\" data-toggle=\"popover\">Content</a>\n",
    "\n",
    "Once you've installed NumPy & Pandas you can import them as a library:"
   ]
  },
  {
   "cell_type": "code",
   "execution_count": 104,
   "metadata": {
    "id": "i7VkXwmNuPZL"
   },
   "outputs": [],
   "source": [
    "import numpy as np\n",
    "import pandas as pd\n",
    "\n",
    "# pd.options.display.float_format = '{:20,.2f}'.format  # Suppressing scientific notation in pandas"
   ]
  },
  {
   "cell_type": "code",
   "execution_count": 3,
   "metadata": {},
   "outputs": [
    {
     "data": {
      "text/html": [
       "<div>\n",
       "<style scoped>\n",
       "    .dataframe tbody tr th:only-of-type {\n",
       "        vertical-align: middle;\n",
       "    }\n",
       "\n",
       "    .dataframe tbody tr th {\n",
       "        vertical-align: top;\n",
       "    }\n",
       "\n",
       "    .dataframe thead th {\n",
       "        text-align: right;\n",
       "    }\n",
       "</style>\n",
       "<table border=\"1\" class=\"dataframe\">\n",
       "  <thead>\n",
       "    <tr style=\"text-align: right;\">\n",
       "      <th></th>\n",
       "      <th>random</th>\n",
       "    </tr>\n",
       "  </thead>\n",
       "  <tbody>\n",
       "    <tr>\n",
       "      <th>0</th>\n",
       "      <td>2.306064e-07</td>\n",
       "    </tr>\n",
       "    <tr>\n",
       "      <th>1</th>\n",
       "      <td>4.374932e-01</td>\n",
       "    </tr>\n",
       "    <tr>\n",
       "      <th>2</th>\n",
       "      <td>6.423575e-05</td>\n",
       "    </tr>\n",
       "    <tr>\n",
       "      <th>3</th>\n",
       "      <td>4.329661e-03</td>\n",
       "    </tr>\n",
       "    <tr>\n",
       "      <th>4</th>\n",
       "      <td>8.688196e-07</td>\n",
       "    </tr>\n",
       "  </tbody>\n",
       "</table>\n",
       "</div>"
      ],
      "text/plain": [
       "         random\n",
       "0  2.306064e-07\n",
       "1  4.374932e-01\n",
       "2  6.423575e-05\n",
       "3  4.329661e-03\n",
       "4  8.688196e-07"
      ]
     },
     "execution_count": 3,
     "metadata": {},
     "output_type": "execute_result"
    }
   ],
   "source": [
    "df = pd.DataFrame(np.random.random(5)**10, columns=[\"random\"])\n",
    "df"
   ]
  },
  {
   "cell_type": "code",
   "execution_count": 2,
   "metadata": {},
   "outputs": [
    {
     "name": "stdout",
     "output_type": "stream",
     "text": [
      "True\n"
     ]
    }
   ],
   "source": [
    "print(7.187458e-07 == 0.0000007187458)"
   ]
  },
  {
   "cell_type": "code",
   "execution_count": 3,
   "metadata": {},
   "outputs": [
    {
     "name": "stdout",
     "output_type": "stream",
     "text": [
      "   random\n",
      "0    0.00\n",
      "1    0.43\n",
      "2    0.00\n",
      "3    0.00\n",
      "4    0.00\n"
     ]
    }
   ],
   "source": [
    "# Solution-1 --> round()function\n",
    "\n",
    "print(df.round(2))"
   ]
  },
  {
   "cell_type": "code",
   "execution_count": 4,
   "metadata": {},
   "outputs": [
    {
     "data": {
      "application/javascript": [
       "\n",
       "        if (window._pyforest_update_imports_cell) { window._pyforest_update_imports_cell('import numpy as np\\nimport pandas as pd'); }\n",
       "    "
      ],
      "text/plain": [
       "<IPython.core.display.Javascript object>"
      ]
     },
     "metadata": {},
     "output_type": "display_data"
    },
    {
     "name": "stdout",
     "output_type": "stream",
     "text": [
      "[1.22162358e-09 1.49971158e-02 5.36457930e-05 1.27556586e-03\n",
      " 5.02661524e-03]\n",
      "------------------------------\n"
     ]
    },
    {
     "data": {
      "application/javascript": [
       "\n",
       "        if (window._pyforest_update_imports_cell) { window._pyforest_update_imports_cell('import numpy as np\\nimport pandas as pd'); }\n",
       "    "
      ],
      "text/plain": [
       "<IPython.core.display.Javascript object>"
      ]
     },
     "metadata": {},
     "output_type": "display_data"
    },
    {
     "name": "stdout",
     "output_type": "stream",
     "text": [
      "[0.    0.015 0.    0.001 0.005]\n"
     ]
    }
   ],
   "source": [
    "# For numpy arrays\n",
    "\n",
    "arr = np.random.random(5)**10\n",
    "print(arr)\n",
    "print(\"---\"*10)\n",
    "print(np.round(arr,3))"
   ]
  },
  {
   "cell_type": "code",
   "execution_count": 5,
   "metadata": {},
   "outputs": [
    {
     "data": {
      "application/javascript": [
       "\n",
       "        if (window._pyforest_update_imports_cell) { window._pyforest_update_imports_cell('import numpy as np\\nimport pandas as pd'); }\n",
       "    "
      ],
      "text/plain": [
       "<IPython.core.display.Javascript object>"
      ]
     },
     "metadata": {},
     "output_type": "display_data"
    },
    {
     "data": {
      "text/html": [
       "<div>\n",
       "<style scoped>\n",
       "    .dataframe tbody tr th:only-of-type {\n",
       "        vertical-align: middle;\n",
       "    }\n",
       "\n",
       "    .dataframe tbody tr th {\n",
       "        vertical-align: top;\n",
       "    }\n",
       "\n",
       "    .dataframe thead th {\n",
       "        text-align: right;\n",
       "    }\n",
       "</style>\n",
       "<table border=\"1\" class=\"dataframe\">\n",
       "  <thead>\n",
       "    <tr style=\"text-align: right;\">\n",
       "      <th></th>\n",
       "      <th>random</th>\n",
       "    </tr>\n",
       "  </thead>\n",
       "  <tbody>\n",
       "    <tr>\n",
       "      <th>0</th>\n",
       "      <td>0.0000</td>\n",
       "    </tr>\n",
       "    <tr>\n",
       "      <th>1</th>\n",
       "      <td>0.4314</td>\n",
       "    </tr>\n",
       "    <tr>\n",
       "      <th>2</th>\n",
       "      <td>0.0003</td>\n",
       "    </tr>\n",
       "    <tr>\n",
       "      <th>3</th>\n",
       "      <td>0.0010</td>\n",
       "    </tr>\n",
       "    <tr>\n",
       "      <th>4</th>\n",
       "      <td>0.0021</td>\n",
       "    </tr>\n",
       "  </tbody>\n",
       "</table>\n",
       "</div>"
      ],
      "text/plain": [
       "                random\n",
       "0               0.0000\n",
       "1               0.4314\n",
       "2               0.0003\n",
       "3               0.0010\n",
       "4               0.0021"
      ]
     },
     "execution_count": 5,
     "metadata": {},
     "output_type": "execute_result"
    }
   ],
   "source": [
    "# Solution-2\n",
    "\n",
    "pd.options.display.float_format = '{:20,.4f}'.format\n",
    "df"
   ]
  },
  {
   "cell_type": "code",
   "execution_count": 6,
   "metadata": {},
   "outputs": [
    {
     "name": "stdout",
     "output_type": "stream",
     "text": [
      "[1.22162358e-09 1.49971158e-02 5.36457930e-05 1.27556586e-03\n",
      " 5.02661524e-03]\n",
      "------------------------------\n"
     ]
    },
    {
     "data": {
      "application/javascript": [
       "\n",
       "        if (window._pyforest_update_imports_cell) { window._pyforest_update_imports_cell('import numpy as np\\nimport pandas as pd'); }\n",
       "    "
      ],
      "text/plain": [
       "<IPython.core.display.Javascript object>"
      ]
     },
     "metadata": {},
     "output_type": "display_data"
    },
    {
     "name": "stdout",
     "output_type": "stream",
     "text": [
      "[0.         0.01499712 0.00005365 0.00127557 0.00502662]\n",
      "------------------------------\n"
     ]
    },
    {
     "data": {
      "application/javascript": [
       "\n",
       "        if (window._pyforest_update_imports_cell) { window._pyforest_update_imports_cell('import numpy as np\\nimport pandas as pd'); }\n",
       "    "
      ],
      "text/plain": [
       "<IPython.core.display.Javascript object>"
      ]
     },
     "metadata": {},
     "output_type": "display_data"
    },
    {
     "name": "stdout",
     "output_type": "stream",
     "text": [
      "[0.     0.015  0.0001 0.0013 0.005 ]\n"
     ]
    }
   ],
   "source": [
    "# For numpy arrays\n",
    "\n",
    "print(arr)\n",
    "print(\"---\"*10)\n",
    "np.set_printoptions(suppress=True)\n",
    "print(arr)\n",
    "print(\"---\"*10)\n",
    "np.set_printoptions(precision=4)\n",
    "print(arr)"
   ]
  },
  {
   "cell_type": "code",
   "execution_count": 7,
   "metadata": {},
   "outputs": [
    {
     "data": {
      "application/javascript": [
       "\n",
       "        if (window._pyforest_update_imports_cell) { window._pyforest_update_imports_cell('import numpy as np\\nimport pandas as pd'); }\n",
       "    "
      ],
      "text/plain": [
       "<IPython.core.display.Javascript object>"
      ]
     },
     "metadata": {},
     "output_type": "display_data"
    }
   ],
   "source": [
    "np.set_printoptions(precision=None, suppress=None)"
   ]
  },
  {
   "cell_type": "code",
   "execution_count": 4,
   "metadata": {},
   "outputs": [],
   "source": [
    "pd.options.display.float_format = '{:20,.2f}'.format  # Suppressing scientific notation in pandas"
   ]
  },
  {
   "cell_type": "markdown",
   "metadata": {},
   "source": [
    "## <p style=\"background-color:#9d4f8c; font-family:newtimeroman; color:#FFF9ED; font-size:175%; text-align:center; border-radius:10px 10px;\">Creating Numpy Arrays & Series</p>\n",
    "\n",
    "<a id=\"2\"></a>\n",
    "<a href=\"#toc\" class=\"btn btn-primary btn-sm\" role=\"button\" aria-pressed=\"true\" \n",
    "style=\"color:blue; background-color:#dfa8e4\" data-toggle=\"popover\">Content</a>\n",
    "\n",
    "**``NumPy``**, which stands for Numerical Python, is a library consisting of multidimensional array objects. **``Numpy Array``** is the foundation for all data science in Python. Arrays can be multidimensional, and all elements in an array need to be of the same type, all integers or all floats. Python lists are a substitute for arrays, but they fail to deliver the performance required while computing large sets of numerical data.\n",
    "\n",
    "**Advantages of using an Array**\n",
    "* Arrays can handle very large datasets efficiently\n",
    "* Computationally-memory efficient\n",
    "* Faster calculations and analysis than lists\n",
    "* Diverse functionality (many functions in Python packages). With several Python packages that make trend modeling, statistics, and visualization easier.\n",
    "\n",
    "**You can create a basic Array by calling** **``numpy.array()``**.\n",
    "\n",
    "**``numpy.array(object, dtype=None, *, copy=True, order='K', subok=False, ndmin=0, like=None)``**\n",
    "\n",
    "**``Pandas Series``** is a **one-dimensional** data structure. It can hold data of many types including **``objects``**, **``floats``**, **``strings``** and **``integers``**. You can create a Series by calling **``pandas.Series()``**. A **``list``**, **``numpy array``**, **``dict``** can be turned into a **``Pandas Series``**. You should use the simplest data structure that meets your needs [Source](https://pythonbasics.org/pandas-series/). The **``axis labels``** are collectively called **``index``**. **``Labels``** need not to be unique but must be a [**hashable type**](https://stackoverflow.com/questions/14535730/what-does-hashable-mean-in-python#:~:text=In%20Python%2C%20any%20immutable%20object,sets%20to%20track%20unique%20values.). The object supports both integer and label-based indexing and provides a host of methods for performing operations involving the index [Source](https://www.geeksforgeeks.org/creating-a-pandas-series/).\n",
    "\n",
    "**``Series``** and **``DataFrame``** are two important data types defined by Pandas.\n",
    "\n",
    "You can think of a Series as a “column” of data, such as a collection of observations on a single variable.\n",
    "\n",
    "A DataFrame is an object for storing related columns of data or combination of Series.\n",
    "\n",
    "**``A Series``** holding a variety of object types is a **one-dimensional data structure** and **homogeneous**; that is, all data are of the same type and are implicitly labelled with an index. For example, we can have a Series of integers, real numbers, characters, strings, dictionaries, etc. We can conveniently manipulate these series performing operations like adding, deleting, ordering, joining, filtering, vectorized operations, statistical analysis, plotting, etc. \n",
    "\n",
    "**``A Series``** is very **similar to a NumPy array** (in fact it is built on top of the NumPy array object). **What differentiates** the NumPy array from a Series, is that a Series can **have axis labels**, meaning it can be indexed by a label, instead of just a number location. It also doesn’t need to hold numeric data, it can hold any arbitrary Python Object [Source](http://www.datasciencelovers.com/python-for-data-science/pandas-series/).\n",
    "\n",
    "So important point to remember for Pandas series is:\n",
    "\n",
    "- Homogeneous data\n",
    "- Size Immutable\n",
    "- Values of Data Mutable\n",
    "\n",
    "**You can create a Series by calling** **``pandas.Series()``**. A **``list``**, **``numpy array``**, **``dict``** can be turned into a Pandas Series.\n",
    "\n",
    "**``pd.Series(data=None, index=None, dtype=None, name=None, copy=False, fastpath=False)``**"
   ]
  },
  {
   "cell_type": "markdown",
   "metadata": {},
   "source": [
    "**Create a basic Numpy Array named \"my_array\" using the following list.**\n",
    "\n",
    "[0, 1, 2, 3, 4]"
   ]
  },
  {
   "cell_type": "code",
   "execution_count": 5,
   "metadata": {},
   "outputs": [
    {
     "data": {
      "text/plain": [
       "array([0, 1, 2, 3, 4])"
      ]
     },
     "execution_count": 5,
     "metadata": {},
     "output_type": "execute_result"
    }
   ],
   "source": [
    "# YOUR CODE IS HERE\n",
    "my_array = np.array([0, 1, 2, 3, 4])\n",
    "\n",
    "my_array"
   ]
  },
  {
   "cell_type": "code",
   "execution_count": 7,
   "metadata": {},
   "outputs": [
    {
     "data": {
      "text/plain": [
       "array([0, 1, 2, 3, 4])"
      ]
     },
     "execution_count": 7,
     "metadata": {},
     "output_type": "execute_result"
    }
   ],
   "source": [
    "my_array = np.arange(5)\n",
    "\n",
    "my_array"
   ]
  },
  {
   "cell_type": "raw",
   "metadata": {},
   "source": [
    "Desired Output:\n",
    "\n",
    "array([0, 1, 2, 3, 4])"
   ]
  },
  {
   "cell_type": "markdown",
   "metadata": {},
   "source": [
    "**Create an empty NumPy array named \"empty_array\" of (3, 4) shape including integers.**"
   ]
  },
  {
   "cell_type": "code",
   "execution_count": 17,
   "metadata": {},
   "outputs": [
    {
     "data": {
      "text/plain": [
       "array([[0, 0, 0, 0],\n",
       "       [0, 0, 0, 0],\n",
       "       [0, 0, 0, 0]])"
      ]
     },
     "execution_count": 17,
     "metadata": {},
     "output_type": "execute_result"
    }
   ],
   "source": [
    "# YOUR CODE IS HERE\n",
    "empty_array = np.empty((3,4), dtype=int)\n",
    "\n",
    "empty_array"
   ]
  },
  {
   "cell_type": "code",
   "execution_count": 35,
   "metadata": {},
   "outputs": [
    {
     "data": {
      "text/plain": [
       "array([[                  0,                2043,                   0,\n",
       "                          0],\n",
       "       [                  0, 3760061921801430379, 3257054944744060257,\n",
       "        3546642075274666803],\n",
       "       [4047946852692274531, 3618702100250376036, 8386112019185612857,\n",
       "                      29557]])"
      ]
     },
     "execution_count": 35,
     "metadata": {},
     "output_type": "execute_result"
    }
   ],
   "source": [
    "# YOUR CODE IS HERE  ????????????????????????????\n",
    "empty_array = np.empty((3,4), dtype=int)\n",
    "\n",
    "empty_array"
   ]
  },
  {
   "cell_type": "code",
   "execution_count": 18,
   "metadata": {},
   "outputs": [
    {
     "data": {
      "text/plain": [
       "array([[0, 0, 0, 0],\n",
       "       [0, 0, 0, 0],\n",
       "       [0, 0, 0, 0]])"
      ]
     },
     "execution_count": 18,
     "metadata": {},
     "output_type": "execute_result"
    }
   ],
   "source": [
    "np.zeros((3,4), dtype = int)"
   ]
  },
  {
   "cell_type": "raw",
   "metadata": {},
   "source": [
    "Desired Output:\n",
    "\n",
    "array([[0, 0, 0, 0],\n",
    "       [0, 0, 0, 0],\n",
    "       [0, 0, 0, 0]])"
   ]
  },
  {
   "cell_type": "markdown",
   "metadata": {},
   "source": [
    "**Create a full NumPy array of named \"full_array\" (3, 3) shape including 99.99 floating points.**"
   ]
  },
  {
   "cell_type": "code",
   "execution_count": 36,
   "metadata": {},
   "outputs": [
    {
     "data": {
      "text/plain": [
       "array([[99.99, 99.99, 99.99],\n",
       "       [99.99, 99.99, 99.99],\n",
       "       [99.99, 99.99, 99.99]])"
      ]
     },
     "execution_count": 36,
     "metadata": {},
     "output_type": "execute_result"
    }
   ],
   "source": [
    "# YOUR CODE IS HERE\n",
    "full_array = np.full(shape = (3, 3), fill_value = 99.99, dtype = float)\n",
    "\n",
    "full_array"
   ]
  },
  {
   "cell_type": "code",
   "execution_count": 41,
   "metadata": {},
   "outputs": [
    {
     "ename": "SyntaxError",
     "evalue": "positional argument follows keyword argument (2634828003.py, line 1)",
     "output_type": "error",
     "traceback": [
      "\u001b[0;36m  File \u001b[0;32m\"/var/folders/rj/btv0gg5s6k311rng_vg2r35w0000gn/T/ipykernel_26693/2634828003.py\"\u001b[0;36m, line \u001b[0;32m1\u001b[0m\n\u001b[0;31m    full_array = np.full(shape = (3, 3), 99.99)\u001b[0m\n\u001b[0m                                              ^\u001b[0m\n\u001b[0;31mSyntaxError\u001b[0m\u001b[0;31m:\u001b[0m positional argument follows keyword argument\n"
     ]
    }
   ],
   "source": [
    "full_array = np.full(shape = (3, 3), 99.99)\n",
    "\n",
    "full_array"
   ]
  },
  {
   "cell_type": "code",
   "execution_count": 42,
   "metadata": {},
   "outputs": [
    {
     "data": {
      "text/plain": [
       "array([[99.99, 99.99, 99.99],\n",
       "       [99.99, 99.99, 99.99],\n",
       "       [99.99, 99.99, 99.99]])"
      ]
     },
     "execution_count": 42,
     "metadata": {},
     "output_type": "execute_result"
    }
   ],
   "source": [
    "full_array = np.ones(shape = (3, 3))*99.99\n",
    "\n",
    "full_array"
   ]
  },
  {
   "cell_type": "raw",
   "metadata": {},
   "source": [
    "Desired Output:\n",
    "\n",
    "array([[99.99, 99.99, 99.99],\n",
    "       [99.99, 99.99, 99.99],\n",
    "       [99.99, 99.99, 99.99]])"
   ]
  },
  {
   "cell_type": "code",
   "execution_count": null,
   "metadata": {},
   "outputs": [],
   "source": []
  },
  {
   "cell_type": "markdown",
   "metadata": {},
   "source": [
    "**Create a Pandas Series named \"my_series\" using the following list.**\n",
    "\n",
    "['a', 'b', 'c', 'd', 'e']"
   ]
  },
  {
   "cell_type": "code",
   "execution_count": 43,
   "metadata": {},
   "outputs": [
    {
     "data": {
      "text/plain": [
       "0    a\n",
       "1    b\n",
       "2    c\n",
       "3    d\n",
       "4    e\n",
       "dtype: object"
      ]
     },
     "execution_count": 43,
     "metadata": {},
     "output_type": "execute_result"
    }
   ],
   "source": [
    "# YOUR CODE IS HERE\n",
    "my_series = pd.Series(['a', 'b', 'c', 'd', 'e'])\n",
    "my_series"
   ]
  },
  {
   "cell_type": "raw",
   "metadata": {},
   "source": [
    "Desired Output:\n",
    "\n",
    "0    a\n",
    "1    b\n",
    "2    c\n",
    "3    d\n",
    "4    e\n",
    "dtype: object"
   ]
  },
  {
   "cell_type": "code",
   "execution_count": 44,
   "metadata": {},
   "outputs": [
    {
     "data": {
      "text/plain": [
       "array(['a', 'b', 'c', 'd', 'e'], dtype='<U1')"
      ]
     },
     "execution_count": 44,
     "metadata": {},
     "output_type": "execute_result"
    }
   ],
   "source": [
    "my_arr = np.array(['a', 'b', 'c', 'd', 'e'])\n",
    "my_arr"
   ]
  },
  {
   "cell_type": "code",
   "execution_count": null,
   "metadata": {},
   "outputs": [],
   "source": []
  },
  {
   "cell_type": "markdown",
   "metadata": {},
   "source": [
    "One of the essential pieces of NumPy is the ability to perform quick element-wise operations, both with basic arithmetic (addition, subtraction, multiplication, etc.) and with more sophisticated operations (trigonometric functions, exponential and logarithmic functions, etc.). \n",
    "\n",
    "**``Pandas Series``** **are built on top of** **``NumPy arrays``** **and support many** **``similar operations:``**"
   ]
  },
  {
   "cell_type": "code",
   "execution_count": 45,
   "metadata": {},
   "outputs": [
    {
     "data": {
      "text/plain": [
       "[0, 1, 2, 3, 4, 5]"
      ]
     },
     "execution_count": 45,
     "metadata": {},
     "output_type": "execute_result"
    }
   ],
   "source": [
    "my_list = [0,1,2,3,4,5]\n",
    "my_list"
   ]
  },
  {
   "cell_type": "code",
   "execution_count": 46,
   "metadata": {},
   "outputs": [
    {
     "data": {
      "text/plain": [
       "array([0, 1, 2, 3, 4, 5])"
      ]
     },
     "execution_count": 46,
     "metadata": {},
     "output_type": "execute_result"
    }
   ],
   "source": [
    "arr = np.array(my_list)\n",
    "arr"
   ]
  },
  {
   "cell_type": "code",
   "execution_count": 47,
   "metadata": {},
   "outputs": [
    {
     "data": {
      "text/plain": [
       "0    0\n",
       "1    1\n",
       "2    2\n",
       "3    3\n",
       "4    4\n",
       "5    5\n",
       "dtype: int64"
      ]
     },
     "execution_count": 47,
     "metadata": {},
     "output_type": "execute_result"
    }
   ],
   "source": [
    "ser = pd.Series(my_list)\n",
    "ser"
   ]
  },
  {
   "cell_type": "code",
   "execution_count": 48,
   "metadata": {},
   "outputs": [
    {
     "data": {
      "text/plain": [
       "[0, 1, 2, 3, 4, 5, 0, 1, 2, 3, 4, 5, 0, 1, 2, 3, 4, 5]"
      ]
     },
     "execution_count": 48,
     "metadata": {},
     "output_type": "execute_result"
    }
   ],
   "source": [
    "my_list * 3"
   ]
  },
  {
   "cell_type": "code",
   "execution_count": 49,
   "metadata": {},
   "outputs": [
    {
     "data": {
      "text/plain": [
       "array([ 0,  3,  6,  9, 12, 15])"
      ]
     },
     "execution_count": 49,
     "metadata": {},
     "output_type": "execute_result"
    }
   ],
   "source": [
    "arr * 3"
   ]
  },
  {
   "cell_type": "code",
   "execution_count": 50,
   "metadata": {},
   "outputs": [
    {
     "data": {
      "text/plain": [
       "0     0\n",
       "1     3\n",
       "2     6\n",
       "3     9\n",
       "4    12\n",
       "5    15\n",
       "dtype: int64"
      ]
     },
     "execution_count": 50,
     "metadata": {},
     "output_type": "execute_result"
    }
   ],
   "source": [
    "ser * 3"
   ]
  },
  {
   "cell_type": "code",
   "execution_count": null,
   "metadata": {},
   "outputs": [],
   "source": []
  },
  {
   "cell_type": "code",
   "execution_count": null,
   "metadata": {},
   "outputs": [],
   "source": []
  },
  {
   "cell_type": "code",
   "execution_count": null,
   "metadata": {},
   "outputs": [],
   "source": []
  },
  {
   "cell_type": "code",
   "execution_count": null,
   "metadata": {},
   "outputs": [],
   "source": []
  },
  {
   "cell_type": "markdown",
   "metadata": {},
   "source": [
    "In mathematics, element-wise operations refer to operations on individual elements of a matrix. Any arithmetic operations in arrays applies the operation elementwise. **[NumPy Basics: Arrays and Vectorized Computation](https://www.oreilly.com/library/view/python-for-data/9781449323592/ch04.html)** & **[Numerical Operations on Arrays](https://scipy-lectures.org/intro/numpy/operations.html)**"
   ]
  },
  {
   "cell_type": "markdown",
   "metadata": {},
   "source": [
    "**Create a random Pandas Series of float numbers and name this Series as \"Daily Returns\".**"
   ]
  },
  {
   "cell_type": "code",
   "execution_count": 52,
   "metadata": {},
   "outputs": [],
   "source": [
    "# YOUR CODE IS HERE\n",
    "daily_return = pd.Series(np.random.rand(4), name=\"Daily Returns\")\n"
   ]
  },
  {
   "cell_type": "raw",
   "metadata": {},
   "source": [
    "Desired Output:\n",
    "\n",
    "0                  -0.52\n",
    "1                   0.80\n",
    "2                  -0.45\n",
    "3                  -0.26\n",
    "Name: Daily Returns, dtype: float64"
   ]
  },
  {
   "cell_type": "code",
   "execution_count": 53,
   "metadata": {},
   "outputs": [
    {
     "data": {
      "text/plain": [
       "0    False\n",
       "1     True\n",
       "2     True\n",
       "3     True\n",
       "Name: Daily Returns, dtype: bool"
      ]
     },
     "execution_count": 53,
     "metadata": {},
     "output_type": "execute_result"
    }
   ],
   "source": [
    "daily_return < 0.5"
   ]
  },
  {
   "cell_type": "code",
   "execution_count": 54,
   "metadata": {},
   "outputs": [
    {
     "data": {
      "text/plain": [
       "1                   0.02\n",
       "2                   0.44\n",
       "3                   0.27\n",
       "Name: Daily Returns, dtype: float64"
      ]
     },
     "execution_count": 54,
     "metadata": {},
     "output_type": "execute_result"
    }
   ],
   "source": [
    "daily_return[daily_return < 0.5]"
   ]
  },
  {
   "cell_type": "code",
   "execution_count": 55,
   "metadata": {},
   "outputs": [
    {
     "data": {
      "text/plain": [
       "0                   1.77\n",
       "1                   1.02\n",
       "2                   1.44\n",
       "3                   1.27\n",
       "Name: Daily Returns, dtype: float64"
      ]
     },
     "execution_count": 55,
     "metadata": {},
     "output_type": "execute_result"
    }
   ],
   "source": [
    "daily_return + 1"
   ]
  },
  {
   "cell_type": "code",
   "execution_count": 56,
   "metadata": {},
   "outputs": [
    {
     "data": {
      "text/plain": [
       "0                   3.85\n",
       "1                   0.10\n",
       "2                   2.21\n",
       "3                   1.34\n",
       "Name: Daily Returns, dtype: float64"
      ]
     },
     "execution_count": 56,
     "metadata": {},
     "output_type": "execute_result"
    }
   ],
   "source": [
    "daily_return * 5"
   ]
  },
  {
   "cell_type": "code",
   "execution_count": 57,
   "metadata": {},
   "outputs": [
    {
     "data": {
      "text/plain": [
       "0.31471141843849565"
      ]
     },
     "execution_count": 57,
     "metadata": {},
     "output_type": "execute_result"
    }
   ],
   "source": [
    "daily_return.std()  # # bu sample std ddof=1"
   ]
  },
  {
   "cell_type": "code",
   "execution_count": 58,
   "metadata": {},
   "outputs": [
    {
     "data": {
      "text/plain": [
       "0.2725480832287716"
      ]
     },
     "execution_count": 58,
     "metadata": {},
     "output_type": "execute_result"
    }
   ],
   "source": [
    "np.std(daily_return)  # bu population std ddof=0"
   ]
  },
  {
   "cell_type": "code",
   "execution_count": 59,
   "metadata": {},
   "outputs": [
    {
     "data": {
      "text/plain": [
       "0.3754792029862661"
      ]
     },
     "execution_count": 59,
     "metadata": {},
     "output_type": "execute_result"
    }
   ],
   "source": [
    "daily_return.mean()"
   ]
  },
  {
   "cell_type": "code",
   "execution_count": 60,
   "metadata": {},
   "outputs": [
    {
     "data": {
      "text/plain": [
       "0.3754792029862661"
      ]
     },
     "execution_count": 60,
     "metadata": {},
     "output_type": "execute_result"
    }
   ],
   "source": [
    "np.mean(daily_return)"
   ]
  },
  {
   "cell_type": "code",
   "execution_count": null,
   "metadata": {},
   "outputs": [],
   "source": []
  },
  {
   "cell_type": "code",
   "execution_count": null,
   "metadata": {},
   "outputs": [],
   "source": []
  },
  {
   "cell_type": "markdown",
   "metadata": {},
   "source": [
    "## <p style=\"background-color:#9d4f8c; font-family:newtimeroman; color:#FFF9ED; font-size:175%; text-align:center; border-radius:10px 10px;\">Working with Series Data Structure</p>\n",
    "\n",
    "<a id=\"3\"></a>\n",
    "<a href=\"#toc\" class=\"btn btn-primary btn-sm\" role=\"button\" aria-pressed=\"true\" \n",
    "style=\"color:blue; background-color:#dfa8e4\" data-toggle=\"popover\">Content</a>\n",
    "\n",
    "**SOME COMMON ATTRIBUTES** [Official Pandas API Document](https://pandas.pydata.org/docs/reference/api/pandas.Series.html)<br>\n",
    "\n",
    "**Series.index**\tDefines the index of the Series.<br>\n",
    "**Series.values**   Returns Series as ndarray or ndarray-like depending on the dtype.<br>\n",
    "**Series.shape**\tIt returns a tuple of shape of the data.<br>\n",
    "**Series.dtype**\tIt returns the data type of the data.<br>\n",
    "**Series.size**\tIt returns the size of the data.<br>\n",
    "**Series.empty**\tIt returns True if Series object is empty, otherwise returns false.<br>\n",
    "**Series.hasnans**\tIt returns True if there are any NaN values, otherwise returns false.<br>\n",
    "**Series.nbytes**\tIt returns the number of bytes in the data.<br>\n",
    "**Series.ndim**\tIt returns the number of dimensions in the data.<br>"
   ]
  },
  {
   "cell_type": "code",
   "execution_count": 63,
   "metadata": {},
   "outputs": [
    {
     "data": {
      "text/html": [
       "<div>\n",
       "<style scoped>\n",
       "    .dataframe tbody tr th:only-of-type {\n",
       "        vertical-align: middle;\n",
       "    }\n",
       "\n",
       "    .dataframe tbody tr th {\n",
       "        vertical-align: top;\n",
       "    }\n",
       "\n",
       "    .dataframe thead th {\n",
       "        text-align: right;\n",
       "    }\n",
       "</style>\n",
       "<table border=\"1\" class=\"dataframe\">\n",
       "  <thead>\n",
       "    <tr style=\"text-align: right;\">\n",
       "      <th></th>\n",
       "      <th>Rank</th>\n",
       "      <th>Name</th>\n",
       "      <th>Platform</th>\n",
       "      <th>Year</th>\n",
       "      <th>Genre</th>\n",
       "      <th>Publisher</th>\n",
       "      <th>NA_Sales</th>\n",
       "      <th>EU_Sales</th>\n",
       "      <th>JP_Sales</th>\n",
       "      <th>Other_Sales</th>\n",
       "      <th>Global_Sales</th>\n",
       "    </tr>\n",
       "  </thead>\n",
       "  <tbody>\n",
       "    <tr>\n",
       "      <th>0</th>\n",
       "      <td>1</td>\n",
       "      <td>Wii Sports</td>\n",
       "      <td>Wii</td>\n",
       "      <td>2,006.00</td>\n",
       "      <td>Sports</td>\n",
       "      <td>Nintendo</td>\n",
       "      <td>41.49</td>\n",
       "      <td>29.02</td>\n",
       "      <td>3.77</td>\n",
       "      <td>8.46</td>\n",
       "      <td>82.74</td>\n",
       "    </tr>\n",
       "    <tr>\n",
       "      <th>1</th>\n",
       "      <td>2</td>\n",
       "      <td>Super Mario Bros.</td>\n",
       "      <td>NES</td>\n",
       "      <td>1,985.00</td>\n",
       "      <td>Platform</td>\n",
       "      <td>Nintendo</td>\n",
       "      <td>29.08</td>\n",
       "      <td>3.58</td>\n",
       "      <td>6.81</td>\n",
       "      <td>0.77</td>\n",
       "      <td>40.24</td>\n",
       "    </tr>\n",
       "    <tr>\n",
       "      <th>2</th>\n",
       "      <td>3</td>\n",
       "      <td>Mario Kart Wii</td>\n",
       "      <td>Wii</td>\n",
       "      <td>2,008.00</td>\n",
       "      <td>Racing</td>\n",
       "      <td>Nintendo</td>\n",
       "      <td>15.85</td>\n",
       "      <td>12.88</td>\n",
       "      <td>3.79</td>\n",
       "      <td>3.31</td>\n",
       "      <td>35.82</td>\n",
       "    </tr>\n",
       "    <tr>\n",
       "      <th>3</th>\n",
       "      <td>4</td>\n",
       "      <td>Wii Sports Resort</td>\n",
       "      <td>Wii</td>\n",
       "      <td>2,009.00</td>\n",
       "      <td>Sports</td>\n",
       "      <td>Nintendo</td>\n",
       "      <td>15.75</td>\n",
       "      <td>11.01</td>\n",
       "      <td>3.28</td>\n",
       "      <td>2.96</td>\n",
       "      <td>33.00</td>\n",
       "    </tr>\n",
       "    <tr>\n",
       "      <th>4</th>\n",
       "      <td>5</td>\n",
       "      <td>Pokemon Red/Pokemon Blue</td>\n",
       "      <td>GB</td>\n",
       "      <td>1,996.00</td>\n",
       "      <td>Role-Playing</td>\n",
       "      <td>Nintendo</td>\n",
       "      <td>11.27</td>\n",
       "      <td>8.89</td>\n",
       "      <td>10.22</td>\n",
       "      <td>1.00</td>\n",
       "      <td>31.37</td>\n",
       "    </tr>\n",
       "    <tr>\n",
       "      <th>...</th>\n",
       "      <td>...</td>\n",
       "      <td>...</td>\n",
       "      <td>...</td>\n",
       "      <td>...</td>\n",
       "      <td>...</td>\n",
       "      <td>...</td>\n",
       "      <td>...</td>\n",
       "      <td>...</td>\n",
       "      <td>...</td>\n",
       "      <td>...</td>\n",
       "      <td>...</td>\n",
       "    </tr>\n",
       "    <tr>\n",
       "      <th>16593</th>\n",
       "      <td>16596</td>\n",
       "      <td>Woody Woodpecker in Crazy Castle 5</td>\n",
       "      <td>GBA</td>\n",
       "      <td>2,002.00</td>\n",
       "      <td>Platform</td>\n",
       "      <td>Kemco</td>\n",
       "      <td>0.01</td>\n",
       "      <td>0.00</td>\n",
       "      <td>0.00</td>\n",
       "      <td>0.00</td>\n",
       "      <td>0.01</td>\n",
       "    </tr>\n",
       "    <tr>\n",
       "      <th>16594</th>\n",
       "      <td>16597</td>\n",
       "      <td>Men in Black II: Alien Escape</td>\n",
       "      <td>GC</td>\n",
       "      <td>2,003.00</td>\n",
       "      <td>Shooter</td>\n",
       "      <td>Infogrames</td>\n",
       "      <td>0.01</td>\n",
       "      <td>0.00</td>\n",
       "      <td>0.00</td>\n",
       "      <td>0.00</td>\n",
       "      <td>0.01</td>\n",
       "    </tr>\n",
       "    <tr>\n",
       "      <th>16595</th>\n",
       "      <td>16598</td>\n",
       "      <td>SCORE International Baja 1000: The Official Game</td>\n",
       "      <td>PS2</td>\n",
       "      <td>2,008.00</td>\n",
       "      <td>Racing</td>\n",
       "      <td>Activision</td>\n",
       "      <td>0.00</td>\n",
       "      <td>0.00</td>\n",
       "      <td>0.00</td>\n",
       "      <td>0.00</td>\n",
       "      <td>0.01</td>\n",
       "    </tr>\n",
       "    <tr>\n",
       "      <th>16596</th>\n",
       "      <td>16599</td>\n",
       "      <td>Know How 2</td>\n",
       "      <td>DS</td>\n",
       "      <td>2,010.00</td>\n",
       "      <td>Puzzle</td>\n",
       "      <td>7G//AMES</td>\n",
       "      <td>0.00</td>\n",
       "      <td>0.01</td>\n",
       "      <td>0.00</td>\n",
       "      <td>0.00</td>\n",
       "      <td>0.01</td>\n",
       "    </tr>\n",
       "    <tr>\n",
       "      <th>16597</th>\n",
       "      <td>16600</td>\n",
       "      <td>Spirits &amp; Spells</td>\n",
       "      <td>GBA</td>\n",
       "      <td>2,003.00</td>\n",
       "      <td>Platform</td>\n",
       "      <td>Wanadoo</td>\n",
       "      <td>0.01</td>\n",
       "      <td>0.00</td>\n",
       "      <td>0.00</td>\n",
       "      <td>0.00</td>\n",
       "      <td>0.01</td>\n",
       "    </tr>\n",
       "  </tbody>\n",
       "</table>\n",
       "<p>16598 rows × 11 columns</p>\n",
       "</div>"
      ],
      "text/plain": [
       "        Rank                                              Name Platform  \\\n",
       "0          1                                        Wii Sports      Wii   \n",
       "1          2                                 Super Mario Bros.      NES   \n",
       "2          3                                    Mario Kart Wii      Wii   \n",
       "3          4                                 Wii Sports Resort      Wii   \n",
       "4          5                          Pokemon Red/Pokemon Blue       GB   \n",
       "...      ...                                               ...      ...   \n",
       "16593  16596                Woody Woodpecker in Crazy Castle 5      GBA   \n",
       "16594  16597                     Men in Black II: Alien Escape       GC   \n",
       "16595  16598  SCORE International Baja 1000: The Official Game      PS2   \n",
       "16596  16599                                        Know How 2       DS   \n",
       "16597  16600                                  Spirits & Spells      GBA   \n",
       "\n",
       "                      Year         Genre   Publisher             NA_Sales  \\\n",
       "0                 2,006.00        Sports    Nintendo                41.49   \n",
       "1                 1,985.00      Platform    Nintendo                29.08   \n",
       "2                 2,008.00        Racing    Nintendo                15.85   \n",
       "3                 2,009.00        Sports    Nintendo                15.75   \n",
       "4                 1,996.00  Role-Playing    Nintendo                11.27   \n",
       "...                    ...           ...         ...                  ...   \n",
       "16593             2,002.00      Platform       Kemco                 0.01   \n",
       "16594             2,003.00       Shooter  Infogrames                 0.01   \n",
       "16595             2,008.00        Racing  Activision                 0.00   \n",
       "16596             2,010.00        Puzzle    7G//AMES                 0.00   \n",
       "16597             2,003.00      Platform     Wanadoo                 0.01   \n",
       "\n",
       "                  EU_Sales             JP_Sales          Other_Sales  \\\n",
       "0                    29.02                 3.77                 8.46   \n",
       "1                     3.58                 6.81                 0.77   \n",
       "2                    12.88                 3.79                 3.31   \n",
       "3                    11.01                 3.28                 2.96   \n",
       "4                     8.89                10.22                 1.00   \n",
       "...                    ...                  ...                  ...   \n",
       "16593                 0.00                 0.00                 0.00   \n",
       "16594                 0.00                 0.00                 0.00   \n",
       "16595                 0.00                 0.00                 0.00   \n",
       "16596                 0.01                 0.00                 0.00   \n",
       "16597                 0.00                 0.00                 0.00   \n",
       "\n",
       "              Global_Sales  \n",
       "0                    82.74  \n",
       "1                    40.24  \n",
       "2                    35.82  \n",
       "3                    33.00  \n",
       "4                    31.37  \n",
       "...                    ...  \n",
       "16593                 0.01  \n",
       "16594                 0.01  \n",
       "16595                 0.01  \n",
       "16596                 0.01  \n",
       "16597                 0.01  \n",
       "\n",
       "[16598 rows x 11 columns]"
      ]
     },
     "execution_count": 63,
     "metadata": {},
     "output_type": "execute_result"
    }
   ],
   "source": [
    "games = pd.read_csv(\"vgsalesGlobale.csv\")\n",
    "games"
   ]
  },
  {
   "cell_type": "code",
   "execution_count": 64,
   "metadata": {},
   "outputs": [
    {
     "data": {
      "text/plain": [
       "pandas.core.frame.DataFrame"
      ]
     },
     "execution_count": 64,
     "metadata": {},
     "output_type": "execute_result"
    }
   ],
   "source": [
    "type(games)"
   ]
  },
  {
   "cell_type": "code",
   "execution_count": 65,
   "metadata": {},
   "outputs": [
    {
     "data": {
      "text/plain": [
       "pandas.core.series.Series"
      ]
     },
     "execution_count": 65,
     "metadata": {},
     "output_type": "execute_result"
    }
   ],
   "source": [
    "type(games.Genre)"
   ]
  },
  {
   "cell_type": "code",
   "execution_count": 66,
   "metadata": {},
   "outputs": [
    {
     "data": {
      "text/plain": [
       "0              Sports\n",
       "1            Platform\n",
       "2              Racing\n",
       "3              Sports\n",
       "4        Role-Playing\n",
       "             ...     \n",
       "16593        Platform\n",
       "16594         Shooter\n",
       "16595          Racing\n",
       "16596          Puzzle\n",
       "16597        Platform\n",
       "Name: Genre, Length: 16598, dtype: object"
      ]
     },
     "execution_count": 66,
     "metadata": {},
     "output_type": "execute_result"
    }
   ],
   "source": [
    "games.Genre"
   ]
  },
  {
   "cell_type": "code",
   "execution_count": 67,
   "metadata": {},
   "outputs": [
    {
     "data": {
      "text/plain": [
       "0              Sports\n",
       "1            Platform\n",
       "2              Racing\n",
       "3              Sports\n",
       "4        Role-Playing\n",
       "             ...     \n",
       "16593        Platform\n",
       "16594         Shooter\n",
       "16595          Racing\n",
       "16596          Puzzle\n",
       "16597        Platform\n",
       "Name: Genre, Length: 16598, dtype: object"
      ]
     },
     "execution_count": 67,
     "metadata": {},
     "output_type": "execute_result"
    }
   ],
   "source": [
    "games[\"Genre\"]"
   ]
  },
  {
   "cell_type": "code",
   "execution_count": 71,
   "metadata": {},
   "outputs": [
    {
     "data": {
      "text/plain": [
       "RangeIndex(start=0, stop=16598, step=1)"
      ]
     },
     "execution_count": 71,
     "metadata": {},
     "output_type": "execute_result"
    }
   ],
   "source": [
    "games.index"
   ]
  },
  {
   "cell_type": "code",
   "execution_count": 72,
   "metadata": {},
   "outputs": [
    {
     "data": {
      "text/plain": [
       "RangeIndex(start=0, stop=16598, step=1)"
      ]
     },
     "execution_count": 72,
     "metadata": {},
     "output_type": "execute_result"
    }
   ],
   "source": [
    "games.Genre.index"
   ]
  },
  {
   "cell_type": "code",
   "execution_count": 73,
   "metadata": {},
   "outputs": [
    {
     "data": {
      "text/plain": [
       "array([[1, 'Wii Sports', 'Wii', ..., 3.77, 8.46, 82.74],\n",
       "       [2, 'Super Mario Bros.', 'NES', ..., 6.81, 0.77, 40.24],\n",
       "       [3, 'Mario Kart Wii', 'Wii', ..., 3.79, 3.31, 35.82],\n",
       "       ...,\n",
       "       [16598, 'SCORE International Baja 1000: The Official Game', 'PS2',\n",
       "        ..., 0.0, 0.0, 0.01],\n",
       "       [16599, 'Know How 2', 'DS', ..., 0.0, 0.0, 0.01],\n",
       "       [16600, 'Spirits & Spells', 'GBA', ..., 0.0, 0.0, 0.01]],\n",
       "      dtype=object)"
      ]
     },
     "execution_count": 73,
     "metadata": {},
     "output_type": "execute_result"
    }
   ],
   "source": [
    "games.values"
   ]
  },
  {
   "cell_type": "code",
   "execution_count": 74,
   "metadata": {},
   "outputs": [
    {
     "data": {
      "text/plain": [
       "array(['Sports', 'Platform', 'Racing', ..., 'Racing', 'Puzzle',\n",
       "       'Platform'], dtype=object)"
      ]
     },
     "execution_count": 74,
     "metadata": {},
     "output_type": "execute_result"
    }
   ],
   "source": [
    "games.Genre.values"
   ]
  },
  {
   "cell_type": "code",
   "execution_count": 75,
   "metadata": {},
   "outputs": [
    {
     "data": {
      "text/plain": [
       "(16598, 11)"
      ]
     },
     "execution_count": 75,
     "metadata": {},
     "output_type": "execute_result"
    }
   ],
   "source": [
    "games.shape"
   ]
  },
  {
   "cell_type": "code",
   "execution_count": 76,
   "metadata": {},
   "outputs": [
    {
     "data": {
      "text/plain": [
       "(16598,)"
      ]
     },
     "execution_count": 76,
     "metadata": {},
     "output_type": "execute_result"
    }
   ],
   "source": [
    "games.Genre.shape"
   ]
  },
  {
   "cell_type": "code",
   "execution_count": 77,
   "metadata": {},
   "outputs": [
    {
     "data": {
      "text/plain": [
       "16598"
      ]
     },
     "execution_count": 77,
     "metadata": {},
     "output_type": "execute_result"
    }
   ],
   "source": [
    "len(games)"
   ]
  },
  {
   "cell_type": "code",
   "execution_count": 78,
   "metadata": {},
   "outputs": [
    {
     "data": {
      "text/plain": [
       "16598"
      ]
     },
     "execution_count": 78,
     "metadata": {},
     "output_type": "execute_result"
    }
   ],
   "source": [
    "len(games.Genre)"
   ]
  },
  {
   "cell_type": "code",
   "execution_count": 80,
   "metadata": {},
   "outputs": [
    {
     "data": {
      "text/plain": [
       "Rank              int64\n",
       "Name             object\n",
       "Platform         object\n",
       "Year            float64\n",
       "Genre            object\n",
       "Publisher        object\n",
       "NA_Sales        float64\n",
       "EU_Sales        float64\n",
       "JP_Sales        float64\n",
       "Other_Sales     float64\n",
       "Global_Sales    float64\n",
       "dtype: object"
      ]
     },
     "execution_count": 80,
     "metadata": {},
     "output_type": "execute_result"
    }
   ],
   "source": [
    "games.dtypes"
   ]
  },
  {
   "cell_type": "code",
   "execution_count": 81,
   "metadata": {},
   "outputs": [
    {
     "data": {
      "text/plain": [
       "dtype('O')"
      ]
     },
     "execution_count": 81,
     "metadata": {},
     "output_type": "execute_result"
    }
   ],
   "source": [
    "games.Genre.dtypes"
   ]
  },
  {
   "cell_type": "code",
   "execution_count": 82,
   "metadata": {},
   "outputs": [
    {
     "data": {
      "text/plain": [
       "182578"
      ]
     },
     "execution_count": 82,
     "metadata": {},
     "output_type": "execute_result"
    }
   ],
   "source": [
    "games.size"
   ]
  },
  {
   "cell_type": "code",
   "execution_count": 83,
   "metadata": {},
   "outputs": [
    {
     "data": {
      "text/plain": [
       "16598"
      ]
     },
     "execution_count": 83,
     "metadata": {},
     "output_type": "execute_result"
    }
   ],
   "source": [
    "games.Genre.size"
   ]
  },
  {
   "cell_type": "code",
   "execution_count": 84,
   "metadata": {},
   "outputs": [
    {
     "data": {
      "text/plain": [
       "False"
      ]
     },
     "execution_count": 84,
     "metadata": {},
     "output_type": "execute_result"
    }
   ],
   "source": [
    "games.empty"
   ]
  },
  {
   "cell_type": "code",
   "execution_count": 85,
   "metadata": {},
   "outputs": [
    {
     "data": {
      "text/plain": [
       "False"
      ]
     },
     "execution_count": 85,
     "metadata": {},
     "output_type": "execute_result"
    }
   ],
   "source": [
    "games.Genre.empty"
   ]
  },
  {
   "cell_type": "code",
   "execution_count": 86,
   "metadata": {},
   "outputs": [
    {
     "data": {
      "text/plain": [
       "False"
      ]
     },
     "execution_count": 86,
     "metadata": {},
     "output_type": "execute_result"
    }
   ],
   "source": [
    "games.Name.hasnans"
   ]
  },
  {
   "cell_type": "code",
   "execution_count": 105,
   "metadata": {},
   "outputs": [
    {
     "data": {
      "text/html": [
       "<div>\n",
       "<style scoped>\n",
       "    .dataframe tbody tr th:only-of-type {\n",
       "        vertical-align: middle;\n",
       "    }\n",
       "\n",
       "    .dataframe tbody tr th {\n",
       "        vertical-align: top;\n",
       "    }\n",
       "\n",
       "    .dataframe thead th {\n",
       "        text-align: right;\n",
       "    }\n",
       "</style>\n",
       "<table border=\"1\" class=\"dataframe\">\n",
       "  <thead>\n",
       "    <tr style=\"text-align: right;\">\n",
       "      <th></th>\n",
       "      <th>Rank</th>\n",
       "      <th>Name</th>\n",
       "      <th>Platform</th>\n",
       "      <th>Year</th>\n",
       "      <th>Genre</th>\n",
       "      <th>Publisher</th>\n",
       "      <th>NA_Sales</th>\n",
       "      <th>EU_Sales</th>\n",
       "      <th>JP_Sales</th>\n",
       "      <th>Other_Sales</th>\n",
       "      <th>Global_Sales</th>\n",
       "    </tr>\n",
       "  </thead>\n",
       "  <tbody>\n",
       "    <tr>\n",
       "      <th>0</th>\n",
       "      <td>1</td>\n",
       "      <td>Wii Sports</td>\n",
       "      <td>Wii</td>\n",
       "      <td>2,006.00</td>\n",
       "      <td>Sports</td>\n",
       "      <td>Nintendo</td>\n",
       "      <td>41.49</td>\n",
       "      <td>29.02</td>\n",
       "      <td>3.77</td>\n",
       "      <td>8.46</td>\n",
       "      <td>82.74</td>\n",
       "    </tr>\n",
       "    <tr>\n",
       "      <th>1</th>\n",
       "      <td>2</td>\n",
       "      <td>Super Mario Bros.</td>\n",
       "      <td>NES</td>\n",
       "      <td>1,985.00</td>\n",
       "      <td>Platform</td>\n",
       "      <td>Nintendo</td>\n",
       "      <td>29.08</td>\n",
       "      <td>3.58</td>\n",
       "      <td>6.81</td>\n",
       "      <td>0.77</td>\n",
       "      <td>40.24</td>\n",
       "    </tr>\n",
       "    <tr>\n",
       "      <th>2</th>\n",
       "      <td>3</td>\n",
       "      <td>Mario Kart Wii</td>\n",
       "      <td>Wii</td>\n",
       "      <td>2,008.00</td>\n",
       "      <td>Racing</td>\n",
       "      <td>Nintendo</td>\n",
       "      <td>15.85</td>\n",
       "      <td>12.88</td>\n",
       "      <td>3.79</td>\n",
       "      <td>3.31</td>\n",
       "      <td>35.82</td>\n",
       "    </tr>\n",
       "    <tr>\n",
       "      <th>3</th>\n",
       "      <td>4</td>\n",
       "      <td>Wii Sports Resort</td>\n",
       "      <td>Wii</td>\n",
       "      <td>2,009.00</td>\n",
       "      <td>Sports</td>\n",
       "      <td>Nintendo</td>\n",
       "      <td>15.75</td>\n",
       "      <td>11.01</td>\n",
       "      <td>3.28</td>\n",
       "      <td>2.96</td>\n",
       "      <td>33.00</td>\n",
       "    </tr>\n",
       "    <tr>\n",
       "      <th>4</th>\n",
       "      <td>5</td>\n",
       "      <td>Pokemon Red/Pokemon Blue</td>\n",
       "      <td>GB</td>\n",
       "      <td>1,996.00</td>\n",
       "      <td>Role-Playing</td>\n",
       "      <td>Nintendo</td>\n",
       "      <td>11.27</td>\n",
       "      <td>8.89</td>\n",
       "      <td>10.22</td>\n",
       "      <td>1.00</td>\n",
       "      <td>31.37</td>\n",
       "    </tr>\n",
       "    <tr>\n",
       "      <th>...</th>\n",
       "      <td>...</td>\n",
       "      <td>...</td>\n",
       "      <td>...</td>\n",
       "      <td>...</td>\n",
       "      <td>...</td>\n",
       "      <td>...</td>\n",
       "      <td>...</td>\n",
       "      <td>...</td>\n",
       "      <td>...</td>\n",
       "      <td>...</td>\n",
       "      <td>...</td>\n",
       "    </tr>\n",
       "    <tr>\n",
       "      <th>16593</th>\n",
       "      <td>16596</td>\n",
       "      <td>Woody Woodpecker in Crazy Castle 5</td>\n",
       "      <td>GBA</td>\n",
       "      <td>2,002.00</td>\n",
       "      <td>Platform</td>\n",
       "      <td>Kemco</td>\n",
       "      <td>0.01</td>\n",
       "      <td>0.00</td>\n",
       "      <td>0.00</td>\n",
       "      <td>0.00</td>\n",
       "      <td>0.01</td>\n",
       "    </tr>\n",
       "    <tr>\n",
       "      <th>16594</th>\n",
       "      <td>16597</td>\n",
       "      <td>Men in Black II: Alien Escape</td>\n",
       "      <td>GC</td>\n",
       "      <td>2,003.00</td>\n",
       "      <td>Shooter</td>\n",
       "      <td>Infogrames</td>\n",
       "      <td>0.01</td>\n",
       "      <td>0.00</td>\n",
       "      <td>0.00</td>\n",
       "      <td>0.00</td>\n",
       "      <td>0.01</td>\n",
       "    </tr>\n",
       "    <tr>\n",
       "      <th>16595</th>\n",
       "      <td>16598</td>\n",
       "      <td>SCORE International Baja 1000: The Official Game</td>\n",
       "      <td>PS2</td>\n",
       "      <td>2,008.00</td>\n",
       "      <td>Racing</td>\n",
       "      <td>Activision</td>\n",
       "      <td>0.00</td>\n",
       "      <td>0.00</td>\n",
       "      <td>0.00</td>\n",
       "      <td>0.00</td>\n",
       "      <td>0.01</td>\n",
       "    </tr>\n",
       "    <tr>\n",
       "      <th>16596</th>\n",
       "      <td>16599</td>\n",
       "      <td>Know How 2</td>\n",
       "      <td>DS</td>\n",
       "      <td>2,010.00</td>\n",
       "      <td>Puzzle</td>\n",
       "      <td>7G//AMES</td>\n",
       "      <td>0.00</td>\n",
       "      <td>0.01</td>\n",
       "      <td>0.00</td>\n",
       "      <td>0.00</td>\n",
       "      <td>0.01</td>\n",
       "    </tr>\n",
       "    <tr>\n",
       "      <th>16597</th>\n",
       "      <td>16600</td>\n",
       "      <td>Spirits &amp; Spells</td>\n",
       "      <td>GBA</td>\n",
       "      <td>2,003.00</td>\n",
       "      <td>Platform</td>\n",
       "      <td>Wanadoo</td>\n",
       "      <td>0.01</td>\n",
       "      <td>0.00</td>\n",
       "      <td>0.00</td>\n",
       "      <td>0.00</td>\n",
       "      <td>0.01</td>\n",
       "    </tr>\n",
       "  </tbody>\n",
       "</table>\n",
       "<p>16598 rows × 11 columns</p>\n",
       "</div>"
      ],
      "text/plain": [
       "        Rank                                              Name Platform  \\\n",
       "0          1                                        Wii Sports      Wii   \n",
       "1          2                                 Super Mario Bros.      NES   \n",
       "2          3                                    Mario Kart Wii      Wii   \n",
       "3          4                                 Wii Sports Resort      Wii   \n",
       "4          5                          Pokemon Red/Pokemon Blue       GB   \n",
       "...      ...                                               ...      ...   \n",
       "16593  16596                Woody Woodpecker in Crazy Castle 5      GBA   \n",
       "16594  16597                     Men in Black II: Alien Escape       GC   \n",
       "16595  16598  SCORE International Baja 1000: The Official Game      PS2   \n",
       "16596  16599                                        Know How 2       DS   \n",
       "16597  16600                                  Spirits & Spells      GBA   \n",
       "\n",
       "                      Year         Genre   Publisher             NA_Sales  \\\n",
       "0                 2,006.00        Sports    Nintendo                41.49   \n",
       "1                 1,985.00      Platform    Nintendo                29.08   \n",
       "2                 2,008.00        Racing    Nintendo                15.85   \n",
       "3                 2,009.00        Sports    Nintendo                15.75   \n",
       "4                 1,996.00  Role-Playing    Nintendo                11.27   \n",
       "...                    ...           ...         ...                  ...   \n",
       "16593             2,002.00      Platform       Kemco                 0.01   \n",
       "16594             2,003.00       Shooter  Infogrames                 0.01   \n",
       "16595             2,008.00        Racing  Activision                 0.00   \n",
       "16596             2,010.00        Puzzle    7G//AMES                 0.00   \n",
       "16597             2,003.00      Platform     Wanadoo                 0.01   \n",
       "\n",
       "                  EU_Sales             JP_Sales          Other_Sales  \\\n",
       "0                    29.02                 3.77                 8.46   \n",
       "1                     3.58                 6.81                 0.77   \n",
       "2                    12.88                 3.79                 3.31   \n",
       "3                    11.01                 3.28                 2.96   \n",
       "4                     8.89                10.22                 1.00   \n",
       "...                    ...                  ...                  ...   \n",
       "16593                 0.00                 0.00                 0.00   \n",
       "16594                 0.00                 0.00                 0.00   \n",
       "16595                 0.00                 0.00                 0.00   \n",
       "16596                 0.01                 0.00                 0.00   \n",
       "16597                 0.00                 0.00                 0.00   \n",
       "\n",
       "              Global_Sales  \n",
       "0                    82.74  \n",
       "1                    40.24  \n",
       "2                    35.82  \n",
       "3                    33.00  \n",
       "4                    31.37  \n",
       "...                    ...  \n",
       "16593                 0.01  \n",
       "16594                 0.01  \n",
       "16595                 0.01  \n",
       "16596                 0.01  \n",
       "16597                 0.01  \n",
       "\n",
       "[16598 rows x 11 columns]"
      ]
     },
     "execution_count": 105,
     "metadata": {},
     "output_type": "execute_result"
    }
   ],
   "source": [
    "games"
   ]
  },
  {
   "cell_type": "code",
   "execution_count": 108,
   "metadata": {},
   "outputs": [
    {
     "data": {
      "text/html": [
       "<div>\n",
       "<style scoped>\n",
       "    .dataframe tbody tr th:only-of-type {\n",
       "        vertical-align: middle;\n",
       "    }\n",
       "\n",
       "    .dataframe tbody tr th {\n",
       "        vertical-align: top;\n",
       "    }\n",
       "\n",
       "    .dataframe thead th {\n",
       "        text-align: right;\n",
       "    }\n",
       "</style>\n",
       "<table border=\"1\" class=\"dataframe\">\n",
       "  <thead>\n",
       "    <tr style=\"text-align: right;\">\n",
       "      <th></th>\n",
       "      <th>Rank</th>\n",
       "      <th>Name</th>\n",
       "      <th>Platform</th>\n",
       "      <th>Year</th>\n",
       "      <th>Genre</th>\n",
       "      <th>Publisher</th>\n",
       "      <th>NA_Sales</th>\n",
       "      <th>EU_Sales</th>\n",
       "      <th>JP_Sales</th>\n",
       "      <th>Other_Sales</th>\n",
       "      <th>Global_Sales</th>\n",
       "    </tr>\n",
       "  </thead>\n",
       "  <tbody>\n",
       "    <tr>\n",
       "      <th>470</th>\n",
       "      <td>471</td>\n",
       "      <td>wwe Smackdown vs. Raw 2006</td>\n",
       "      <td>PS2</td>\n",
       "      <td>NaN</td>\n",
       "      <td>Fighting</td>\n",
       "      <td>NaN</td>\n",
       "      <td>1.57</td>\n",
       "      <td>1.02</td>\n",
       "      <td>0.00</td>\n",
       "      <td>0.41</td>\n",
       "      <td>3.00</td>\n",
       "    </tr>\n",
       "    <tr>\n",
       "      <th>1303</th>\n",
       "      <td>1305</td>\n",
       "      <td>Triple Play 99</td>\n",
       "      <td>PS</td>\n",
       "      <td>NaN</td>\n",
       "      <td>Sports</td>\n",
       "      <td>NaN</td>\n",
       "      <td>0.81</td>\n",
       "      <td>0.55</td>\n",
       "      <td>0.00</td>\n",
       "      <td>0.10</td>\n",
       "      <td>1.46</td>\n",
       "    </tr>\n",
       "    <tr>\n",
       "      <th>1662</th>\n",
       "      <td>1664</td>\n",
       "      <td>Shrek / Shrek 2 2-in-1 Gameboy Advance Video</td>\n",
       "      <td>GBA</td>\n",
       "      <td>2,007.00</td>\n",
       "      <td>Misc</td>\n",
       "      <td>NaN</td>\n",
       "      <td>0.87</td>\n",
       "      <td>0.32</td>\n",
       "      <td>0.00</td>\n",
       "      <td>0.02</td>\n",
       "      <td>1.21</td>\n",
       "    </tr>\n",
       "    <tr>\n",
       "      <th>2222</th>\n",
       "      <td>2224</td>\n",
       "      <td>Bentley's Hackpack</td>\n",
       "      <td>GBA</td>\n",
       "      <td>2,005.00</td>\n",
       "      <td>Misc</td>\n",
       "      <td>NaN</td>\n",
       "      <td>0.67</td>\n",
       "      <td>0.25</td>\n",
       "      <td>0.00</td>\n",
       "      <td>0.02</td>\n",
       "      <td>0.93</td>\n",
       "    </tr>\n",
       "    <tr>\n",
       "      <th>3159</th>\n",
       "      <td>3161</td>\n",
       "      <td>Nicktoons Collection: Game Boy Advance Video V...</td>\n",
       "      <td>GBA</td>\n",
       "      <td>2,004.00</td>\n",
       "      <td>Misc</td>\n",
       "      <td>NaN</td>\n",
       "      <td>0.46</td>\n",
       "      <td>0.17</td>\n",
       "      <td>0.00</td>\n",
       "      <td>0.01</td>\n",
       "      <td>0.64</td>\n",
       "    </tr>\n",
       "    <tr>\n",
       "      <th>3166</th>\n",
       "      <td>3168</td>\n",
       "      <td>SpongeBob SquarePants: Game Boy Advance Video ...</td>\n",
       "      <td>GBA</td>\n",
       "      <td>2,004.00</td>\n",
       "      <td>Misc</td>\n",
       "      <td>NaN</td>\n",
       "      <td>0.46</td>\n",
       "      <td>0.17</td>\n",
       "      <td>0.00</td>\n",
       "      <td>0.01</td>\n",
       "      <td>0.64</td>\n",
       "    </tr>\n",
       "    <tr>\n",
       "      <th>3766</th>\n",
       "      <td>3768</td>\n",
       "      <td>SpongeBob SquarePants: Game Boy Advance Video ...</td>\n",
       "      <td>GBA</td>\n",
       "      <td>2,004.00</td>\n",
       "      <td>Misc</td>\n",
       "      <td>NaN</td>\n",
       "      <td>0.38</td>\n",
       "      <td>0.14</td>\n",
       "      <td>0.00</td>\n",
       "      <td>0.01</td>\n",
       "      <td>0.53</td>\n",
       "    </tr>\n",
       "    <tr>\n",
       "      <th>4145</th>\n",
       "      <td>4147</td>\n",
       "      <td>Sonic the Hedgehog</td>\n",
       "      <td>PS3</td>\n",
       "      <td>NaN</td>\n",
       "      <td>Platform</td>\n",
       "      <td>NaN</td>\n",
       "      <td>0.00</td>\n",
       "      <td>0.48</td>\n",
       "      <td>0.00</td>\n",
       "      <td>0.00</td>\n",
       "      <td>0.48</td>\n",
       "    </tr>\n",
       "    <tr>\n",
       "      <th>4526</th>\n",
       "      <td>4528</td>\n",
       "      <td>The Fairly Odd Parents: Game Boy Advance Video...</td>\n",
       "      <td>GBA</td>\n",
       "      <td>2,004.00</td>\n",
       "      <td>Misc</td>\n",
       "      <td>NaN</td>\n",
       "      <td>0.31</td>\n",
       "      <td>0.11</td>\n",
       "      <td>0.00</td>\n",
       "      <td>0.01</td>\n",
       "      <td>0.43</td>\n",
       "    </tr>\n",
       "    <tr>\n",
       "      <th>4635</th>\n",
       "      <td>4637</td>\n",
       "      <td>The Fairly Odd Parents: Game Boy Advance Video...</td>\n",
       "      <td>GBA</td>\n",
       "      <td>2,004.00</td>\n",
       "      <td>Misc</td>\n",
       "      <td>NaN</td>\n",
       "      <td>0.30</td>\n",
       "      <td>0.11</td>\n",
       "      <td>0.00</td>\n",
       "      <td>0.01</td>\n",
       "      <td>0.42</td>\n",
       "    </tr>\n",
       "    <tr>\n",
       "      <th>5302</th>\n",
       "      <td>5304</td>\n",
       "      <td>Dragon Ball Z: Budokai Tenkaichi 2 (JP sales)</td>\n",
       "      <td>Wii</td>\n",
       "      <td>NaN</td>\n",
       "      <td>Action</td>\n",
       "      <td>NaN</td>\n",
       "      <td>0.15</td>\n",
       "      <td>0.05</td>\n",
       "      <td>0.14</td>\n",
       "      <td>0.01</td>\n",
       "      <td>0.35</td>\n",
       "    </tr>\n",
       "    <tr>\n",
       "      <th>5647</th>\n",
       "      <td>5649</td>\n",
       "      <td>Cartoon Network Collection: Game Boy Advance V...</td>\n",
       "      <td>GBA</td>\n",
       "      <td>2,005.00</td>\n",
       "      <td>Misc</td>\n",
       "      <td>NaN</td>\n",
       "      <td>0.23</td>\n",
       "      <td>0.08</td>\n",
       "      <td>0.00</td>\n",
       "      <td>0.01</td>\n",
       "      <td>0.32</td>\n",
       "    </tr>\n",
       "    <tr>\n",
       "      <th>6272</th>\n",
       "      <td>6274</td>\n",
       "      <td>The Legend of Zelda: The Minish Cap(weekly JP ...</td>\n",
       "      <td>GBA</td>\n",
       "      <td>NaN</td>\n",
       "      <td>Action</td>\n",
       "      <td>NaN</td>\n",
       "      <td>0.00</td>\n",
       "      <td>0.00</td>\n",
       "      <td>0.27</td>\n",
       "      <td>0.01</td>\n",
       "      <td>0.27</td>\n",
       "    </tr>\n",
       "    <tr>\n",
       "      <th>6437</th>\n",
       "      <td>6439</td>\n",
       "      <td>Sonic X: Game Boy Advance Video Volume 1</td>\n",
       "      <td>GBA</td>\n",
       "      <td>2,004.00</td>\n",
       "      <td>Misc</td>\n",
       "      <td>NaN</td>\n",
       "      <td>0.19</td>\n",
       "      <td>0.07</td>\n",
       "      <td>0.00</td>\n",
       "      <td>0.00</td>\n",
       "      <td>0.27</td>\n",
       "    </tr>\n",
       "    <tr>\n",
       "      <th>6562</th>\n",
       "      <td>6564</td>\n",
       "      <td>Dora the Explorer: Game Boy Advance Video Volu...</td>\n",
       "      <td>GBA</td>\n",
       "      <td>2,004.00</td>\n",
       "      <td>Misc</td>\n",
       "      <td>NaN</td>\n",
       "      <td>0.18</td>\n",
       "      <td>0.07</td>\n",
       "      <td>0.00</td>\n",
       "      <td>0.00</td>\n",
       "      <td>0.26</td>\n",
       "    </tr>\n",
       "    <tr>\n",
       "      <th>6648</th>\n",
       "      <td>6650</td>\n",
       "      <td>Cartoon Network Collection: Game Boy Advance V...</td>\n",
       "      <td>GBA</td>\n",
       "      <td>2,004.00</td>\n",
       "      <td>Misc</td>\n",
       "      <td>NaN</td>\n",
       "      <td>0.18</td>\n",
       "      <td>0.07</td>\n",
       "      <td>0.00</td>\n",
       "      <td>0.00</td>\n",
       "      <td>0.25</td>\n",
       "    </tr>\n",
       "    <tr>\n",
       "      <th>6849</th>\n",
       "      <td>6851</td>\n",
       "      <td>All Grown Up!: Game Boy Advance Video Volume 1</td>\n",
       "      <td>GBA</td>\n",
       "      <td>2,004.00</td>\n",
       "      <td>Misc</td>\n",
       "      <td>NaN</td>\n",
       "      <td>0.17</td>\n",
       "      <td>0.06</td>\n",
       "      <td>0.00</td>\n",
       "      <td>0.00</td>\n",
       "      <td>0.24</td>\n",
       "    </tr>\n",
       "    <tr>\n",
       "      <th>7208</th>\n",
       "      <td>7210</td>\n",
       "      <td>Nicktoons Collection: Game Boy Advance Video V...</td>\n",
       "      <td>GBA</td>\n",
       "      <td>2,004.00</td>\n",
       "      <td>Misc</td>\n",
       "      <td>NaN</td>\n",
       "      <td>0.16</td>\n",
       "      <td>0.06</td>\n",
       "      <td>0.00</td>\n",
       "      <td>0.00</td>\n",
       "      <td>0.22</td>\n",
       "    </tr>\n",
       "    <tr>\n",
       "      <th>7351</th>\n",
       "      <td>7353</td>\n",
       "      <td>Yu Yu Hakusho: Dark Tournament</td>\n",
       "      <td>PS2</td>\n",
       "      <td>NaN</td>\n",
       "      <td>Fighting</td>\n",
       "      <td>NaN</td>\n",
       "      <td>0.10</td>\n",
       "      <td>0.08</td>\n",
       "      <td>0.00</td>\n",
       "      <td>0.03</td>\n",
       "      <td>0.21</td>\n",
       "    </tr>\n",
       "    <tr>\n",
       "      <th>7470</th>\n",
       "      <td>7472</td>\n",
       "      <td>SpongeBob SquarePants: Game Boy Advance Video ...</td>\n",
       "      <td>GBA</td>\n",
       "      <td>2,004.00</td>\n",
       "      <td>Misc</td>\n",
       "      <td>NaN</td>\n",
       "      <td>0.15</td>\n",
       "      <td>0.05</td>\n",
       "      <td>0.00</td>\n",
       "      <td>0.00</td>\n",
       "      <td>0.21</td>\n",
       "    </tr>\n",
       "    <tr>\n",
       "      <th>7953</th>\n",
       "      <td>7955</td>\n",
       "      <td>Thomas the Tank Engine &amp; Friends</td>\n",
       "      <td>GBA</td>\n",
       "      <td>2,004.00</td>\n",
       "      <td>Adventure</td>\n",
       "      <td>NaN</td>\n",
       "      <td>0.13</td>\n",
       "      <td>0.05</td>\n",
       "      <td>0.00</td>\n",
       "      <td>0.00</td>\n",
       "      <td>0.19</td>\n",
       "    </tr>\n",
       "    <tr>\n",
       "      <th>8330</th>\n",
       "      <td>8332</td>\n",
       "      <td>Dragon Ball GT: Game Boy Advance Video Volume 1</td>\n",
       "      <td>GBA</td>\n",
       "      <td>2,004.00</td>\n",
       "      <td>Misc</td>\n",
       "      <td>NaN</td>\n",
       "      <td>0.12</td>\n",
       "      <td>0.05</td>\n",
       "      <td>0.00</td>\n",
       "      <td>0.00</td>\n",
       "      <td>0.17</td>\n",
       "    </tr>\n",
       "    <tr>\n",
       "      <th>8341</th>\n",
       "      <td>8343</td>\n",
       "      <td>Codename: Kids Next Door: Game Boy Advance Vid...</td>\n",
       "      <td>GBA</td>\n",
       "      <td>2,004.00</td>\n",
       "      <td>Misc</td>\n",
       "      <td>NaN</td>\n",
       "      <td>0.12</td>\n",
       "      <td>0.05</td>\n",
       "      <td>0.00</td>\n",
       "      <td>0.00</td>\n",
       "      <td>0.17</td>\n",
       "    </tr>\n",
       "    <tr>\n",
       "      <th>8368</th>\n",
       "      <td>8370</td>\n",
       "      <td>Teenage Mutant Ninja Turtles: Game Boy Advance...</td>\n",
       "      <td>GBA</td>\n",
       "      <td>2,004.00</td>\n",
       "      <td>Misc</td>\n",
       "      <td>NaN</td>\n",
       "      <td>0.12</td>\n",
       "      <td>0.04</td>\n",
       "      <td>0.00</td>\n",
       "      <td>0.00</td>\n",
       "      <td>0.17</td>\n",
       "    </tr>\n",
       "    <tr>\n",
       "      <th>8503</th>\n",
       "      <td>8505</td>\n",
       "      <td>Stronghold 3</td>\n",
       "      <td>PC</td>\n",
       "      <td>2,011.00</td>\n",
       "      <td>Strategy</td>\n",
       "      <td>NaN</td>\n",
       "      <td>0.06</td>\n",
       "      <td>0.10</td>\n",
       "      <td>0.00</td>\n",
       "      <td>0.00</td>\n",
       "      <td>0.16</td>\n",
       "    </tr>\n",
       "    <tr>\n",
       "      <th>8770</th>\n",
       "      <td>8772</td>\n",
       "      <td>Cartoon Network Collection: Game Boy Advance V...</td>\n",
       "      <td>GBA</td>\n",
       "      <td>2,005.00</td>\n",
       "      <td>Misc</td>\n",
       "      <td>NaN</td>\n",
       "      <td>0.11</td>\n",
       "      <td>0.04</td>\n",
       "      <td>0.00</td>\n",
       "      <td>0.00</td>\n",
       "      <td>0.15</td>\n",
       "    </tr>\n",
       "    <tr>\n",
       "      <th>8848</th>\n",
       "      <td>8850</td>\n",
       "      <td>Pokémon: Johto Photo Finish: Game Boy Advance ...</td>\n",
       "      <td>GBA</td>\n",
       "      <td>2,004.00</td>\n",
       "      <td>Misc</td>\n",
       "      <td>NaN</td>\n",
       "      <td>0.11</td>\n",
       "      <td>0.04</td>\n",
       "      <td>0.00</td>\n",
       "      <td>0.00</td>\n",
       "      <td>0.15</td>\n",
       "    </tr>\n",
       "    <tr>\n",
       "      <th>8896</th>\n",
       "      <td>8898</td>\n",
       "      <td>Strawberry Shortcake: Game Boy Advance Video V...</td>\n",
       "      <td>GBA</td>\n",
       "      <td>2,004.00</td>\n",
       "      <td>Misc</td>\n",
       "      <td>NaN</td>\n",
       "      <td>0.11</td>\n",
       "      <td>0.04</td>\n",
       "      <td>0.00</td>\n",
       "      <td>0.00</td>\n",
       "      <td>0.15</td>\n",
       "    </tr>\n",
       "    <tr>\n",
       "      <th>9517</th>\n",
       "      <td>9519</td>\n",
       "      <td>Farming Simulator 2011</td>\n",
       "      <td>PC</td>\n",
       "      <td>2,010.00</td>\n",
       "      <td>Simulation</td>\n",
       "      <td>NaN</td>\n",
       "      <td>0.00</td>\n",
       "      <td>0.13</td>\n",
       "      <td>0.00</td>\n",
       "      <td>0.00</td>\n",
       "      <td>0.13</td>\n",
       "    </tr>\n",
       "    <tr>\n",
       "      <th>9749</th>\n",
       "      <td>9751</td>\n",
       "      <td>Super Robot Wars OG Saga: Masou Kishin II - Re...</td>\n",
       "      <td>PSP</td>\n",
       "      <td>NaN</td>\n",
       "      <td>Strategy</td>\n",
       "      <td>NaN</td>\n",
       "      <td>0.00</td>\n",
       "      <td>0.00</td>\n",
       "      <td>0.12</td>\n",
       "      <td>0.00</td>\n",
       "      <td>0.12</td>\n",
       "    </tr>\n",
       "    <tr>\n",
       "      <th>10382</th>\n",
       "      <td>10384</td>\n",
       "      <td>Disney Channel Collection Vol. 1</td>\n",
       "      <td>GBA</td>\n",
       "      <td>2,004.00</td>\n",
       "      <td>Misc</td>\n",
       "      <td>NaN</td>\n",
       "      <td>0.08</td>\n",
       "      <td>0.03</td>\n",
       "      <td>0.00</td>\n",
       "      <td>0.00</td>\n",
       "      <td>0.11</td>\n",
       "    </tr>\n",
       "    <tr>\n",
       "      <th>10494</th>\n",
       "      <td>10496</td>\n",
       "      <td>Atsumare! Power Pro Kun no DS Koushien</td>\n",
       "      <td>DS</td>\n",
       "      <td>NaN</td>\n",
       "      <td>Sports</td>\n",
       "      <td>NaN</td>\n",
       "      <td>0.00</td>\n",
       "      <td>0.00</td>\n",
       "      <td>0.10</td>\n",
       "      <td>0.00</td>\n",
       "      <td>0.10</td>\n",
       "    </tr>\n",
       "    <tr>\n",
       "      <th>11076</th>\n",
       "      <td>11078</td>\n",
       "      <td>Action Man-Operation Extreme</td>\n",
       "      <td>PS</td>\n",
       "      <td>NaN</td>\n",
       "      <td>Action</td>\n",
       "      <td>NaN</td>\n",
       "      <td>0.05</td>\n",
       "      <td>0.03</td>\n",
       "      <td>0.00</td>\n",
       "      <td>0.01</td>\n",
       "      <td>0.09</td>\n",
       "    </tr>\n",
       "    <tr>\n",
       "      <th>11526</th>\n",
       "      <td>11528</td>\n",
       "      <td>Cartoon Network Collection: Game Boy Advance V...</td>\n",
       "      <td>GBA</td>\n",
       "      <td>2,004.00</td>\n",
       "      <td>Misc</td>\n",
       "      <td>NaN</td>\n",
       "      <td>0.06</td>\n",
       "      <td>0.02</td>\n",
       "      <td>0.00</td>\n",
       "      <td>0.00</td>\n",
       "      <td>0.08</td>\n",
       "    </tr>\n",
       "    <tr>\n",
       "      <th>12487</th>\n",
       "      <td>12489</td>\n",
       "      <td>Chou Soujuu Mecha MG</td>\n",
       "      <td>DS</td>\n",
       "      <td>NaN</td>\n",
       "      <td>Simulation</td>\n",
       "      <td>NaN</td>\n",
       "      <td>0.00</td>\n",
       "      <td>0.00</td>\n",
       "      <td>0.06</td>\n",
       "      <td>0.00</td>\n",
       "      <td>0.06</td>\n",
       "    </tr>\n",
       "    <tr>\n",
       "      <th>12517</th>\n",
       "      <td>12519</td>\n",
       "      <td>Prinny: Can I Really Be The Hero? (US sales)</td>\n",
       "      <td>PSP</td>\n",
       "      <td>NaN</td>\n",
       "      <td>Action</td>\n",
       "      <td>NaN</td>\n",
       "      <td>0.06</td>\n",
       "      <td>0.00</td>\n",
       "      <td>0.00</td>\n",
       "      <td>0.00</td>\n",
       "      <td>0.06</td>\n",
       "    </tr>\n",
       "    <tr>\n",
       "      <th>13278</th>\n",
       "      <td>13280</td>\n",
       "      <td>Monster Hunter Frontier Online</td>\n",
       "      <td>PS3</td>\n",
       "      <td>NaN</td>\n",
       "      <td>Role-Playing</td>\n",
       "      <td>NaN</td>\n",
       "      <td>0.00</td>\n",
       "      <td>0.00</td>\n",
       "      <td>0.05</td>\n",
       "      <td>0.00</td>\n",
       "      <td>0.05</td>\n",
       "    </tr>\n",
       "    <tr>\n",
       "      <th>13672</th>\n",
       "      <td>13674</td>\n",
       "      <td>B.L.U.E.: Legend of Water</td>\n",
       "      <td>PS</td>\n",
       "      <td>NaN</td>\n",
       "      <td>Adventure</td>\n",
       "      <td>NaN</td>\n",
       "      <td>0.00</td>\n",
       "      <td>0.00</td>\n",
       "      <td>0.04</td>\n",
       "      <td>0.00</td>\n",
       "      <td>0.04</td>\n",
       "    </tr>\n",
       "    <tr>\n",
       "      <th>13962</th>\n",
       "      <td>13964</td>\n",
       "      <td>World of Tanks</td>\n",
       "      <td>X360</td>\n",
       "      <td>NaN</td>\n",
       "      <td>Shooter</td>\n",
       "      <td>NaN</td>\n",
       "      <td>0.00</td>\n",
       "      <td>0.03</td>\n",
       "      <td>0.00</td>\n",
       "      <td>0.00</td>\n",
       "      <td>0.04</td>\n",
       "    </tr>\n",
       "    <tr>\n",
       "      <th>14087</th>\n",
       "      <td>14089</td>\n",
       "      <td>Housekeeping</td>\n",
       "      <td>DS</td>\n",
       "      <td>NaN</td>\n",
       "      <td>Action</td>\n",
       "      <td>NaN</td>\n",
       "      <td>0.00</td>\n",
       "      <td>0.00</td>\n",
       "      <td>0.04</td>\n",
       "      <td>0.00</td>\n",
       "      <td>0.04</td>\n",
       "    </tr>\n",
       "    <tr>\n",
       "      <th>14296</th>\n",
       "      <td>14299</td>\n",
       "      <td>Bikkuriman Daijiten</td>\n",
       "      <td>DS</td>\n",
       "      <td>NaN</td>\n",
       "      <td>Misc</td>\n",
       "      <td>NaN</td>\n",
       "      <td>0.00</td>\n",
       "      <td>0.00</td>\n",
       "      <td>0.03</td>\n",
       "      <td>0.00</td>\n",
       "      <td>0.03</td>\n",
       "    </tr>\n",
       "    <tr>\n",
       "      <th>14311</th>\n",
       "      <td>14314</td>\n",
       "      <td>Silverlicious</td>\n",
       "      <td>DS</td>\n",
       "      <td>2,012.00</td>\n",
       "      <td>Action</td>\n",
       "      <td>NaN</td>\n",
       "      <td>0.03</td>\n",
       "      <td>0.00</td>\n",
       "      <td>0.00</td>\n",
       "      <td>0.00</td>\n",
       "      <td>0.03</td>\n",
       "    </tr>\n",
       "    <tr>\n",
       "      <th>14698</th>\n",
       "      <td>14701</td>\n",
       "      <td>UK Truck Simulator</td>\n",
       "      <td>PC</td>\n",
       "      <td>2,010.00</td>\n",
       "      <td>Simulation</td>\n",
       "      <td>NaN</td>\n",
       "      <td>0.00</td>\n",
       "      <td>0.03</td>\n",
       "      <td>0.00</td>\n",
       "      <td>0.00</td>\n",
       "      <td>0.03</td>\n",
       "    </tr>\n",
       "    <tr>\n",
       "      <th>14942</th>\n",
       "      <td>14945</td>\n",
       "      <td>Umineko no Naku Koro ni San: Shinjitsu to Gens...</td>\n",
       "      <td>PS3</td>\n",
       "      <td>NaN</td>\n",
       "      <td>Adventure</td>\n",
       "      <td>NaN</td>\n",
       "      <td>0.00</td>\n",
       "      <td>0.00</td>\n",
       "      <td>0.02</td>\n",
       "      <td>0.00</td>\n",
       "      <td>0.02</td>\n",
       "    </tr>\n",
       "    <tr>\n",
       "      <th>15056</th>\n",
       "      <td>15059</td>\n",
       "      <td>Xia-Xia</td>\n",
       "      <td>DS</td>\n",
       "      <td>2,012.00</td>\n",
       "      <td>Platform</td>\n",
       "      <td>NaN</td>\n",
       "      <td>0.00</td>\n",
       "      <td>0.02</td>\n",
       "      <td>0.00</td>\n",
       "      <td>0.00</td>\n",
       "      <td>0.02</td>\n",
       "    </tr>\n",
       "    <tr>\n",
       "      <th>15261</th>\n",
       "      <td>15264</td>\n",
       "      <td>Mario Tennis</td>\n",
       "      <td>3DS</td>\n",
       "      <td>NaN</td>\n",
       "      <td>Sports</td>\n",
       "      <td>NaN</td>\n",
       "      <td>0.00</td>\n",
       "      <td>0.00</td>\n",
       "      <td>0.02</td>\n",
       "      <td>0.00</td>\n",
       "      <td>0.02</td>\n",
       "    </tr>\n",
       "    <tr>\n",
       "      <th>15325</th>\n",
       "      <td>15328</td>\n",
       "      <td>Nicktoons Collection: Game Boy Advance Video V...</td>\n",
       "      <td>GBA</td>\n",
       "      <td>2,005.00</td>\n",
       "      <td>Misc</td>\n",
       "      <td>NaN</td>\n",
       "      <td>0.01</td>\n",
       "      <td>0.01</td>\n",
       "      <td>0.00</td>\n",
       "      <td>0.00</td>\n",
       "      <td>0.02</td>\n",
       "    </tr>\n",
       "    <tr>\n",
       "      <th>15353</th>\n",
       "      <td>15356</td>\n",
       "      <td>Demolition Company: Gold Edition</td>\n",
       "      <td>PC</td>\n",
       "      <td>2,011.00</td>\n",
       "      <td>Simulation</td>\n",
       "      <td>NaN</td>\n",
       "      <td>0.00</td>\n",
       "      <td>0.02</td>\n",
       "      <td>0.00</td>\n",
       "      <td>0.00</td>\n",
       "      <td>0.02</td>\n",
       "    </tr>\n",
       "    <tr>\n",
       "      <th>15788</th>\n",
       "      <td>15791</td>\n",
       "      <td>Moshi, Kono Sekai ni Kami-sama ga Iru to suru ...</td>\n",
       "      <td>PSV</td>\n",
       "      <td>2,016.00</td>\n",
       "      <td>Adventure</td>\n",
       "      <td>NaN</td>\n",
       "      <td>0.00</td>\n",
       "      <td>0.00</td>\n",
       "      <td>0.02</td>\n",
       "      <td>0.00</td>\n",
       "      <td>0.02</td>\n",
       "    </tr>\n",
       "    <tr>\n",
       "      <th>15915</th>\n",
       "      <td>15918</td>\n",
       "      <td>Dream Dancer</td>\n",
       "      <td>DS</td>\n",
       "      <td>NaN</td>\n",
       "      <td>Misc</td>\n",
       "      <td>NaN</td>\n",
       "      <td>0.01</td>\n",
       "      <td>0.00</td>\n",
       "      <td>0.00</td>\n",
       "      <td>0.00</td>\n",
       "      <td>0.02</td>\n",
       "    </tr>\n",
       "    <tr>\n",
       "      <th>16191</th>\n",
       "      <td>16194</td>\n",
       "      <td>Homeworld Remastered Collection</td>\n",
       "      <td>PC</td>\n",
       "      <td>NaN</td>\n",
       "      <td>Strategy</td>\n",
       "      <td>NaN</td>\n",
       "      <td>0.00</td>\n",
       "      <td>0.01</td>\n",
       "      <td>0.00</td>\n",
       "      <td>0.00</td>\n",
       "      <td>0.01</td>\n",
       "    </tr>\n",
       "    <tr>\n",
       "      <th>16198</th>\n",
       "      <td>16201</td>\n",
       "      <td>AKB1/48: Idol to Guam de Koishitara...</td>\n",
       "      <td>X360</td>\n",
       "      <td>NaN</td>\n",
       "      <td>Misc</td>\n",
       "      <td>NaN</td>\n",
       "      <td>0.00</td>\n",
       "      <td>0.00</td>\n",
       "      <td>0.01</td>\n",
       "      <td>0.00</td>\n",
       "      <td>0.01</td>\n",
       "    </tr>\n",
       "    <tr>\n",
       "      <th>16208</th>\n",
       "      <td>16211</td>\n",
       "      <td>Super Robot Monkey Team: Game Boy Advance Vide...</td>\n",
       "      <td>GBA</td>\n",
       "      <td>2,005.00</td>\n",
       "      <td>Misc</td>\n",
       "      <td>NaN</td>\n",
       "      <td>0.01</td>\n",
       "      <td>0.00</td>\n",
       "      <td>0.00</td>\n",
       "      <td>0.00</td>\n",
       "      <td>0.01</td>\n",
       "    </tr>\n",
       "    <tr>\n",
       "      <th>16229</th>\n",
       "      <td>16232</td>\n",
       "      <td>Brothers in Arms: Furious 4</td>\n",
       "      <td>X360</td>\n",
       "      <td>NaN</td>\n",
       "      <td>Shooter</td>\n",
       "      <td>NaN</td>\n",
       "      <td>0.01</td>\n",
       "      <td>0.00</td>\n",
       "      <td>0.00</td>\n",
       "      <td>0.00</td>\n",
       "      <td>0.01</td>\n",
       "    </tr>\n",
       "    <tr>\n",
       "      <th>16367</th>\n",
       "      <td>16370</td>\n",
       "      <td>Dance with Devils</td>\n",
       "      <td>PSV</td>\n",
       "      <td>2,016.00</td>\n",
       "      <td>Action</td>\n",
       "      <td>NaN</td>\n",
       "      <td>0.00</td>\n",
       "      <td>0.00</td>\n",
       "      <td>0.01</td>\n",
       "      <td>0.00</td>\n",
       "      <td>0.01</td>\n",
       "    </tr>\n",
       "    <tr>\n",
       "      <th>16494</th>\n",
       "      <td>16497</td>\n",
       "      <td>Legends of Oz: Dorothy's Return</td>\n",
       "      <td>3DS</td>\n",
       "      <td>2,014.00</td>\n",
       "      <td>Puzzle</td>\n",
       "      <td>NaN</td>\n",
       "      <td>0.00</td>\n",
       "      <td>0.01</td>\n",
       "      <td>0.00</td>\n",
       "      <td>0.00</td>\n",
       "      <td>0.01</td>\n",
       "    </tr>\n",
       "    <tr>\n",
       "      <th>16543</th>\n",
       "      <td>16546</td>\n",
       "      <td>Driving Simulator 2011</td>\n",
       "      <td>PC</td>\n",
       "      <td>2,011.00</td>\n",
       "      <td>Racing</td>\n",
       "      <td>NaN</td>\n",
       "      <td>0.00</td>\n",
       "      <td>0.01</td>\n",
       "      <td>0.00</td>\n",
       "      <td>0.00</td>\n",
       "      <td>0.01</td>\n",
       "    </tr>\n",
       "    <tr>\n",
       "      <th>16553</th>\n",
       "      <td>16556</td>\n",
       "      <td>Bound By Flame</td>\n",
       "      <td>X360</td>\n",
       "      <td>2,014.00</td>\n",
       "      <td>Role-Playing</td>\n",
       "      <td>NaN</td>\n",
       "      <td>0.00</td>\n",
       "      <td>0.01</td>\n",
       "      <td>0.00</td>\n",
       "      <td>0.00</td>\n",
       "      <td>0.01</td>\n",
       "    </tr>\n",
       "  </tbody>\n",
       "</table>\n",
       "</div>"
      ],
      "text/plain": [
       "        Rank                                               Name Platform  \\\n",
       "470      471                         wwe Smackdown vs. Raw 2006      PS2   \n",
       "1303    1305                                     Triple Play 99       PS   \n",
       "1662    1664       Shrek / Shrek 2 2-in-1 Gameboy Advance Video      GBA   \n",
       "2222    2224                                 Bentley's Hackpack      GBA   \n",
       "3159    3161  Nicktoons Collection: Game Boy Advance Video V...      GBA   \n",
       "3166    3168  SpongeBob SquarePants: Game Boy Advance Video ...      GBA   \n",
       "3766    3768  SpongeBob SquarePants: Game Boy Advance Video ...      GBA   \n",
       "4145    4147                                 Sonic the Hedgehog      PS3   \n",
       "4526    4528  The Fairly Odd Parents: Game Boy Advance Video...      GBA   \n",
       "4635    4637  The Fairly Odd Parents: Game Boy Advance Video...      GBA   \n",
       "5302    5304      Dragon Ball Z: Budokai Tenkaichi 2 (JP sales)      Wii   \n",
       "5647    5649  Cartoon Network Collection: Game Boy Advance V...      GBA   \n",
       "6272    6274  The Legend of Zelda: The Minish Cap(weekly JP ...      GBA   \n",
       "6437    6439           Sonic X: Game Boy Advance Video Volume 1      GBA   \n",
       "6562    6564  Dora the Explorer: Game Boy Advance Video Volu...      GBA   \n",
       "6648    6650  Cartoon Network Collection: Game Boy Advance V...      GBA   \n",
       "6849    6851     All Grown Up!: Game Boy Advance Video Volume 1      GBA   \n",
       "7208    7210  Nicktoons Collection: Game Boy Advance Video V...      GBA   \n",
       "7351    7353                     Yu Yu Hakusho: Dark Tournament      PS2   \n",
       "7470    7472  SpongeBob SquarePants: Game Boy Advance Video ...      GBA   \n",
       "7953    7955                   Thomas the Tank Engine & Friends      GBA   \n",
       "8330    8332    Dragon Ball GT: Game Boy Advance Video Volume 1      GBA   \n",
       "8341    8343  Codename: Kids Next Door: Game Boy Advance Vid...      GBA   \n",
       "8368    8370  Teenage Mutant Ninja Turtles: Game Boy Advance...      GBA   \n",
       "8503    8505                                       Stronghold 3       PC   \n",
       "8770    8772  Cartoon Network Collection: Game Boy Advance V...      GBA   \n",
       "8848    8850  Pokémon: Johto Photo Finish: Game Boy Advance ...      GBA   \n",
       "8896    8898  Strawberry Shortcake: Game Boy Advance Video V...      GBA   \n",
       "9517    9519                             Farming Simulator 2011       PC   \n",
       "9749    9751  Super Robot Wars OG Saga: Masou Kishin II - Re...      PSP   \n",
       "10382  10384                   Disney Channel Collection Vol. 1      GBA   \n",
       "10494  10496             Atsumare! Power Pro Kun no DS Koushien       DS   \n",
       "11076  11078                       Action Man-Operation Extreme       PS   \n",
       "11526  11528  Cartoon Network Collection: Game Boy Advance V...      GBA   \n",
       "12487  12489                               Chou Soujuu Mecha MG       DS   \n",
       "12517  12519       Prinny: Can I Really Be The Hero? (US sales)      PSP   \n",
       "13278  13280                     Monster Hunter Frontier Online      PS3   \n",
       "13672  13674                          B.L.U.E.: Legend of Water       PS   \n",
       "13962  13964                                     World of Tanks     X360   \n",
       "14087  14089                                       Housekeeping       DS   \n",
       "14296  14299                                Bikkuriman Daijiten       DS   \n",
       "14311  14314                                      Silverlicious       DS   \n",
       "14698  14701                                 UK Truck Simulator       PC   \n",
       "14942  14945  Umineko no Naku Koro ni San: Shinjitsu to Gens...      PS3   \n",
       "15056  15059                                            Xia-Xia       DS   \n",
       "15261  15264                                       Mario Tennis      3DS   \n",
       "15325  15328  Nicktoons Collection: Game Boy Advance Video V...      GBA   \n",
       "15353  15356                   Demolition Company: Gold Edition       PC   \n",
       "15788  15791  Moshi, Kono Sekai ni Kami-sama ga Iru to suru ...      PSV   \n",
       "15915  15918                                       Dream Dancer       DS   \n",
       "16191  16194                    Homeworld Remastered Collection       PC   \n",
       "16198  16201             AKB1/48: Idol to Guam de Koishitara...     X360   \n",
       "16208  16211  Super Robot Monkey Team: Game Boy Advance Vide...      GBA   \n",
       "16229  16232                        Brothers in Arms: Furious 4     X360   \n",
       "16367  16370                                  Dance with Devils      PSV   \n",
       "16494  16497                    Legends of Oz: Dorothy's Return      3DS   \n",
       "16543  16546                             Driving Simulator 2011       PC   \n",
       "16553  16556                                     Bound By Flame     X360   \n",
       "\n",
       "                      Year         Genre Publisher             NA_Sales  \\\n",
       "470                    NaN      Fighting       NaN                 1.57   \n",
       "1303                   NaN        Sports       NaN                 0.81   \n",
       "1662              2,007.00          Misc       NaN                 0.87   \n",
       "2222              2,005.00          Misc       NaN                 0.67   \n",
       "3159              2,004.00          Misc       NaN                 0.46   \n",
       "3166              2,004.00          Misc       NaN                 0.46   \n",
       "3766              2,004.00          Misc       NaN                 0.38   \n",
       "4145                   NaN      Platform       NaN                 0.00   \n",
       "4526              2,004.00          Misc       NaN                 0.31   \n",
       "4635              2,004.00          Misc       NaN                 0.30   \n",
       "5302                   NaN        Action       NaN                 0.15   \n",
       "5647              2,005.00          Misc       NaN                 0.23   \n",
       "6272                   NaN        Action       NaN                 0.00   \n",
       "6437              2,004.00          Misc       NaN                 0.19   \n",
       "6562              2,004.00          Misc       NaN                 0.18   \n",
       "6648              2,004.00          Misc       NaN                 0.18   \n",
       "6849              2,004.00          Misc       NaN                 0.17   \n",
       "7208              2,004.00          Misc       NaN                 0.16   \n",
       "7351                   NaN      Fighting       NaN                 0.10   \n",
       "7470              2,004.00          Misc       NaN                 0.15   \n",
       "7953              2,004.00     Adventure       NaN                 0.13   \n",
       "8330              2,004.00          Misc       NaN                 0.12   \n",
       "8341              2,004.00          Misc       NaN                 0.12   \n",
       "8368              2,004.00          Misc       NaN                 0.12   \n",
       "8503              2,011.00      Strategy       NaN                 0.06   \n",
       "8770              2,005.00          Misc       NaN                 0.11   \n",
       "8848              2,004.00          Misc       NaN                 0.11   \n",
       "8896              2,004.00          Misc       NaN                 0.11   \n",
       "9517              2,010.00    Simulation       NaN                 0.00   \n",
       "9749                   NaN      Strategy       NaN                 0.00   \n",
       "10382             2,004.00          Misc       NaN                 0.08   \n",
       "10494                  NaN        Sports       NaN                 0.00   \n",
       "11076                  NaN        Action       NaN                 0.05   \n",
       "11526             2,004.00          Misc       NaN                 0.06   \n",
       "12487                  NaN    Simulation       NaN                 0.00   \n",
       "12517                  NaN        Action       NaN                 0.06   \n",
       "13278                  NaN  Role-Playing       NaN                 0.00   \n",
       "13672                  NaN     Adventure       NaN                 0.00   \n",
       "13962                  NaN       Shooter       NaN                 0.00   \n",
       "14087                  NaN        Action       NaN                 0.00   \n",
       "14296                  NaN          Misc       NaN                 0.00   \n",
       "14311             2,012.00        Action       NaN                 0.03   \n",
       "14698             2,010.00    Simulation       NaN                 0.00   \n",
       "14942                  NaN     Adventure       NaN                 0.00   \n",
       "15056             2,012.00      Platform       NaN                 0.00   \n",
       "15261                  NaN        Sports       NaN                 0.00   \n",
       "15325             2,005.00          Misc       NaN                 0.01   \n",
       "15353             2,011.00    Simulation       NaN                 0.00   \n",
       "15788             2,016.00     Adventure       NaN                 0.00   \n",
       "15915                  NaN          Misc       NaN                 0.01   \n",
       "16191                  NaN      Strategy       NaN                 0.00   \n",
       "16198                  NaN          Misc       NaN                 0.00   \n",
       "16208             2,005.00          Misc       NaN                 0.01   \n",
       "16229                  NaN       Shooter       NaN                 0.01   \n",
       "16367             2,016.00        Action       NaN                 0.00   \n",
       "16494             2,014.00        Puzzle       NaN                 0.00   \n",
       "16543             2,011.00        Racing       NaN                 0.00   \n",
       "16553             2,014.00  Role-Playing       NaN                 0.00   \n",
       "\n",
       "                  EU_Sales             JP_Sales          Other_Sales  \\\n",
       "470                   1.02                 0.00                 0.41   \n",
       "1303                  0.55                 0.00                 0.10   \n",
       "1662                  0.32                 0.00                 0.02   \n",
       "2222                  0.25                 0.00                 0.02   \n",
       "3159                  0.17                 0.00                 0.01   \n",
       "3166                  0.17                 0.00                 0.01   \n",
       "3766                  0.14                 0.00                 0.01   \n",
       "4145                  0.48                 0.00                 0.00   \n",
       "4526                  0.11                 0.00                 0.01   \n",
       "4635                  0.11                 0.00                 0.01   \n",
       "5302                  0.05                 0.14                 0.01   \n",
       "5647                  0.08                 0.00                 0.01   \n",
       "6272                  0.00                 0.27                 0.01   \n",
       "6437                  0.07                 0.00                 0.00   \n",
       "6562                  0.07                 0.00                 0.00   \n",
       "6648                  0.07                 0.00                 0.00   \n",
       "6849                  0.06                 0.00                 0.00   \n",
       "7208                  0.06                 0.00                 0.00   \n",
       "7351                  0.08                 0.00                 0.03   \n",
       "7470                  0.05                 0.00                 0.00   \n",
       "7953                  0.05                 0.00                 0.00   \n",
       "8330                  0.05                 0.00                 0.00   \n",
       "8341                  0.05                 0.00                 0.00   \n",
       "8368                  0.04                 0.00                 0.00   \n",
       "8503                  0.10                 0.00                 0.00   \n",
       "8770                  0.04                 0.00                 0.00   \n",
       "8848                  0.04                 0.00                 0.00   \n",
       "8896                  0.04                 0.00                 0.00   \n",
       "9517                  0.13                 0.00                 0.00   \n",
       "9749                  0.00                 0.12                 0.00   \n",
       "10382                 0.03                 0.00                 0.00   \n",
       "10494                 0.00                 0.10                 0.00   \n",
       "11076                 0.03                 0.00                 0.01   \n",
       "11526                 0.02                 0.00                 0.00   \n",
       "12487                 0.00                 0.06                 0.00   \n",
       "12517                 0.00                 0.00                 0.00   \n",
       "13278                 0.00                 0.05                 0.00   \n",
       "13672                 0.00                 0.04                 0.00   \n",
       "13962                 0.03                 0.00                 0.00   \n",
       "14087                 0.00                 0.04                 0.00   \n",
       "14296                 0.00                 0.03                 0.00   \n",
       "14311                 0.00                 0.00                 0.00   \n",
       "14698                 0.03                 0.00                 0.00   \n",
       "14942                 0.00                 0.02                 0.00   \n",
       "15056                 0.02                 0.00                 0.00   \n",
       "15261                 0.00                 0.02                 0.00   \n",
       "15325                 0.01                 0.00                 0.00   \n",
       "15353                 0.02                 0.00                 0.00   \n",
       "15788                 0.00                 0.02                 0.00   \n",
       "15915                 0.00                 0.00                 0.00   \n",
       "16191                 0.01                 0.00                 0.00   \n",
       "16198                 0.00                 0.01                 0.00   \n",
       "16208                 0.00                 0.00                 0.00   \n",
       "16229                 0.00                 0.00                 0.00   \n",
       "16367                 0.00                 0.01                 0.00   \n",
       "16494                 0.01                 0.00                 0.00   \n",
       "16543                 0.01                 0.00                 0.00   \n",
       "16553                 0.01                 0.00                 0.00   \n",
       "\n",
       "              Global_Sales  \n",
       "470                   3.00  \n",
       "1303                  1.46  \n",
       "1662                  1.21  \n",
       "2222                  0.93  \n",
       "3159                  0.64  \n",
       "3166                  0.64  \n",
       "3766                  0.53  \n",
       "4145                  0.48  \n",
       "4526                  0.43  \n",
       "4635                  0.42  \n",
       "5302                  0.35  \n",
       "5647                  0.32  \n",
       "6272                  0.27  \n",
       "6437                  0.27  \n",
       "6562                  0.26  \n",
       "6648                  0.25  \n",
       "6849                  0.24  \n",
       "7208                  0.22  \n",
       "7351                  0.21  \n",
       "7470                  0.21  \n",
       "7953                  0.19  \n",
       "8330                  0.17  \n",
       "8341                  0.17  \n",
       "8368                  0.17  \n",
       "8503                  0.16  \n",
       "8770                  0.15  \n",
       "8848                  0.15  \n",
       "8896                  0.15  \n",
       "9517                  0.13  \n",
       "9749                  0.12  \n",
       "10382                 0.11  \n",
       "10494                 0.10  \n",
       "11076                 0.09  \n",
       "11526                 0.08  \n",
       "12487                 0.06  \n",
       "12517                 0.06  \n",
       "13278                 0.05  \n",
       "13672                 0.04  \n",
       "13962                 0.04  \n",
       "14087                 0.04  \n",
       "14296                 0.03  \n",
       "14311                 0.03  \n",
       "14698                 0.03  \n",
       "14942                 0.02  \n",
       "15056                 0.02  \n",
       "15261                 0.02  \n",
       "15325                 0.02  \n",
       "15353                 0.02  \n",
       "15788                 0.02  \n",
       "15915                 0.02  \n",
       "16191                 0.01  \n",
       "16198                 0.01  \n",
       "16208                 0.01  \n",
       "16229                 0.01  \n",
       "16367                 0.01  \n",
       "16494                 0.01  \n",
       "16543                 0.01  \n",
       "16553                 0.01  "
      ]
     },
     "execution_count": 108,
     "metadata": {},
     "output_type": "execute_result"
    }
   ],
   "source": [
    "games[games.Publisher.isnull()]"
   ]
  },
  {
   "cell_type": "code",
   "execution_count": 114,
   "metadata": {},
   "outputs": [
    {
     "data": {
      "text/plain": [
       "(58, 11)"
      ]
     },
     "execution_count": 114,
     "metadata": {},
     "output_type": "execute_result"
    }
   ],
   "source": [
    "games[games.Publisher.isnull()].shape"
   ]
  },
  {
   "cell_type": "code",
   "execution_count": null,
   "metadata": {},
   "outputs": [],
   "source": []
  },
  {
   "cell_type": "code",
   "execution_count": null,
   "metadata": {},
   "outputs": [],
   "source": []
  },
  {
   "cell_type": "code",
   "execution_count": null,
   "metadata": {},
   "outputs": [],
   "source": []
  },
  {
   "cell_type": "code",
   "execution_count": null,
   "metadata": {},
   "outputs": [],
   "source": []
  },
  {
   "cell_type": "code",
   "execution_count": null,
   "metadata": {},
   "outputs": [],
   "source": []
  },
  {
   "cell_type": "code",
   "execution_count": null,
   "metadata": {},
   "outputs": [],
   "source": []
  },
  {
   "cell_type": "code",
   "execution_count": 87,
   "metadata": {},
   "outputs": [
    {
     "data": {
      "text/plain": [
       "Rank            False\n",
       "Name            False\n",
       "Platform        False\n",
       "Year             True\n",
       "Genre           False\n",
       "Publisher        True\n",
       "NA_Sales        False\n",
       "EU_Sales        False\n",
       "JP_Sales        False\n",
       "Other_Sales     False\n",
       "Global_Sales    False\n",
       "dtype: bool"
      ]
     },
     "execution_count": 87,
     "metadata": {},
     "output_type": "execute_result"
    }
   ],
   "source": [
    "games.isnull().any()"
   ]
  },
  {
   "cell_type": "code",
   "execution_count": 88,
   "metadata": {},
   "outputs": [
    {
     "data": {
      "text/plain": [
       "Rank              0\n",
       "Name              0\n",
       "Platform          0\n",
       "Year            271\n",
       "Genre             0\n",
       "Publisher        58\n",
       "NA_Sales          0\n",
       "EU_Sales          0\n",
       "JP_Sales          0\n",
       "Other_Sales       0\n",
       "Global_Sales      0\n",
       "dtype: int64"
      ]
     },
     "execution_count": 88,
     "metadata": {},
     "output_type": "execute_result"
    }
   ],
   "source": [
    "games.isnull().sum()"
   ]
  },
  {
   "cell_type": "code",
   "execution_count": 89,
   "metadata": {},
   "outputs": [
    {
     "data": {
      "text/plain": [
       "132784"
      ]
     },
     "execution_count": 89,
     "metadata": {},
     "output_type": "execute_result"
    }
   ],
   "source": [
    "games.Genre.nbytes"
   ]
  },
  {
   "cell_type": "code",
   "execution_count": 90,
   "metadata": {},
   "outputs": [
    {
     "data": {
      "text/plain": [
       "Index              128\n",
       "Rank            132784\n",
       "Name            132784\n",
       "Platform        132784\n",
       "Year            132784\n",
       "Genre           132784\n",
       "Publisher       132784\n",
       "NA_Sales        132784\n",
       "EU_Sales        132784\n",
       "JP_Sales        132784\n",
       "Other_Sales     132784\n",
       "Global_Sales    132784\n",
       "dtype: int64"
      ]
     },
     "execution_count": 90,
     "metadata": {},
     "output_type": "execute_result"
    }
   ],
   "source": [
    "games.memory_usage(index=True, deep=False)"
   ]
  },
  {
   "cell_type": "code",
   "execution_count": 91,
   "metadata": {},
   "outputs": [
    {
     "data": {
      "text/plain": [
       "1"
      ]
     },
     "execution_count": 91,
     "metadata": {},
     "output_type": "execute_result"
    }
   ],
   "source": [
    "games.Genre.ndim"
   ]
  },
  {
   "cell_type": "code",
   "execution_count": 92,
   "metadata": {},
   "outputs": [
    {
     "data": {
      "text/plain": [
       "2"
      ]
     },
     "execution_count": 92,
     "metadata": {},
     "output_type": "execute_result"
    }
   ],
   "source": [
    "games.ndim"
   ]
  },
  {
   "cell_type": "code",
   "execution_count": 102,
   "metadata": {},
   "outputs": [
    {
     "data": {
      "text/html": [
       "<div>\n",
       "<style scoped>\n",
       "    .dataframe tbody tr th:only-of-type {\n",
       "        vertical-align: middle;\n",
       "    }\n",
       "\n",
       "    .dataframe tbody tr th {\n",
       "        vertical-align: top;\n",
       "    }\n",
       "\n",
       "    .dataframe thead th {\n",
       "        text-align: right;\n",
       "    }\n",
       "</style>\n",
       "<table border=\"1\" class=\"dataframe\">\n",
       "  <thead>\n",
       "    <tr style=\"text-align: right;\">\n",
       "      <th></th>\n",
       "      <th>Rank</th>\n",
       "      <th>Name</th>\n",
       "      <th>Platform</th>\n",
       "      <th>Year</th>\n",
       "      <th>Genre</th>\n",
       "      <th>Publisher</th>\n",
       "      <th>NA_Sales</th>\n",
       "      <th>EU_Sales</th>\n",
       "      <th>JP_Sales</th>\n",
       "      <th>Other_Sales</th>\n",
       "      <th>Global_Sales</th>\n",
       "    </tr>\n",
       "  </thead>\n",
       "  <tbody>\n",
       "    <tr>\n",
       "      <th>3</th>\n",
       "      <td>4</td>\n",
       "      <td>Wii Sports Resort</td>\n",
       "      <td>Wii</td>\n",
       "      <td>2,009.00</td>\n",
       "      <td>Sports</td>\n",
       "      <td>Nintendo</td>\n",
       "      <td>15.75</td>\n",
       "      <td>11.01</td>\n",
       "      <td>3.28</td>\n",
       "      <td>2.96</td>\n",
       "      <td>33.00</td>\n",
       "    </tr>\n",
       "  </tbody>\n",
       "</table>\n",
       "</div>"
      ],
      "text/plain": [
       "   Rank               Name Platform                 Year   Genre Publisher  \\\n",
       "3     4  Wii Sports Resort      Wii             2,009.00  Sports  Nintendo   \n",
       "\n",
       "              NA_Sales             EU_Sales             JP_Sales  \\\n",
       "3                15.75                11.01                 3.28   \n",
       "\n",
       "           Other_Sales         Global_Sales  \n",
       "3                 2.96                33.00  "
      ]
     },
     "execution_count": 102,
     "metadata": {},
     "output_type": "execute_result"
    }
   ],
   "source": [
    "games[3:4]"
   ]
  },
  {
   "cell_type": "code",
   "execution_count": 120,
   "metadata": {},
   "outputs": [
    {
     "data": {
      "text/html": [
       "<div>\n",
       "<style scoped>\n",
       "    .dataframe tbody tr th:only-of-type {\n",
       "        vertical-align: middle;\n",
       "    }\n",
       "\n",
       "    .dataframe tbody tr th {\n",
       "        vertical-align: top;\n",
       "    }\n",
       "\n",
       "    .dataframe thead th {\n",
       "        text-align: right;\n",
       "    }\n",
       "</style>\n",
       "<table border=\"1\" class=\"dataframe\">\n",
       "  <thead>\n",
       "    <tr style=\"text-align: right;\">\n",
       "      <th></th>\n",
       "      <th>Rank</th>\n",
       "      <th>Name</th>\n",
       "      <th>Platform</th>\n",
       "      <th>Year</th>\n",
       "      <th>Genre</th>\n",
       "      <th>Publisher</th>\n",
       "      <th>NA_Sales</th>\n",
       "      <th>EU_Sales</th>\n",
       "      <th>JP_Sales</th>\n",
       "      <th>Other_Sales</th>\n",
       "      <th>Global_Sales</th>\n",
       "    </tr>\n",
       "  </thead>\n",
       "  <tbody>\n",
       "    <tr>\n",
       "      <th>3</th>\n",
       "      <td>4</td>\n",
       "      <td>Wii Sports Resort</td>\n",
       "      <td>Wii</td>\n",
       "      <td>2,009.00</td>\n",
       "      <td>Sports</td>\n",
       "      <td>Nintendo</td>\n",
       "      <td>15.75</td>\n",
       "      <td>11.01</td>\n",
       "      <td>3.28</td>\n",
       "      <td>2.96</td>\n",
       "      <td>33.00</td>\n",
       "    </tr>\n",
       "    <tr>\n",
       "      <th>5</th>\n",
       "      <td>6</td>\n",
       "      <td>Tetris</td>\n",
       "      <td>GB</td>\n",
       "      <td>1,989.00</td>\n",
       "      <td>Puzzle</td>\n",
       "      <td>Nintendo</td>\n",
       "      <td>23.20</td>\n",
       "      <td>2.26</td>\n",
       "      <td>4.22</td>\n",
       "      <td>0.58</td>\n",
       "      <td>30.26</td>\n",
       "    </tr>\n",
       "    <tr>\n",
       "      <th>10</th>\n",
       "      <td>11</td>\n",
       "      <td>Nintendogs</td>\n",
       "      <td>DS</td>\n",
       "      <td>2,005.00</td>\n",
       "      <td>Simulation</td>\n",
       "      <td>Nintendo</td>\n",
       "      <td>9.07</td>\n",
       "      <td>11.00</td>\n",
       "      <td>1.93</td>\n",
       "      <td>2.75</td>\n",
       "      <td>24.76</td>\n",
       "    </tr>\n",
       "  </tbody>\n",
       "</table>\n",
       "</div>"
      ],
      "text/plain": [
       "    Rank               Name Platform                 Year       Genre  \\\n",
       "3      4  Wii Sports Resort      Wii             2,009.00      Sports   \n",
       "5      6             Tetris       GB             1,989.00      Puzzle   \n",
       "10    11         Nintendogs       DS             2,005.00  Simulation   \n",
       "\n",
       "   Publisher             NA_Sales             EU_Sales             JP_Sales  \\\n",
       "3   Nintendo                15.75                11.01                 3.28   \n",
       "5   Nintendo                23.20                 2.26                 4.22   \n",
       "10  Nintendo                 9.07                11.00                 1.93   \n",
       "\n",
       "            Other_Sales         Global_Sales  \n",
       "3                  2.96                33.00  \n",
       "5                  0.58                30.26  \n",
       "10                 2.75                24.76  "
      ]
     },
     "execution_count": 120,
     "metadata": {},
     "output_type": "execute_result"
    }
   ],
   "source": [
    "games.loc[[3,5,10]]"
   ]
  },
  {
   "cell_type": "code",
   "execution_count": 93,
   "metadata": {},
   "outputs": [
    {
     "data": {
      "text/html": [
       "<div>\n",
       "<style scoped>\n",
       "    .dataframe tbody tr th:only-of-type {\n",
       "        vertical-align: middle;\n",
       "    }\n",
       "\n",
       "    .dataframe tbody tr th {\n",
       "        vertical-align: top;\n",
       "    }\n",
       "\n",
       "    .dataframe thead th {\n",
       "        text-align: right;\n",
       "    }\n",
       "</style>\n",
       "<table border=\"1\" class=\"dataframe\">\n",
       "  <thead>\n",
       "    <tr style=\"text-align: right;\">\n",
       "      <th></th>\n",
       "      <th>Rank</th>\n",
       "      <th>Name</th>\n",
       "      <th>Platform</th>\n",
       "      <th>Year</th>\n",
       "      <th>Genre</th>\n",
       "      <th>Publisher</th>\n",
       "      <th>NA_Sales</th>\n",
       "      <th>EU_Sales</th>\n",
       "      <th>JP_Sales</th>\n",
       "      <th>Other_Sales</th>\n",
       "      <th>Global_Sales</th>\n",
       "    </tr>\n",
       "  </thead>\n",
       "  <tbody>\n",
       "    <tr>\n",
       "      <th>0</th>\n",
       "      <td>1</td>\n",
       "      <td>Wii Sports</td>\n",
       "      <td>Wii</td>\n",
       "      <td>2,006.00</td>\n",
       "      <td>Sports</td>\n",
       "      <td>Nintendo</td>\n",
       "      <td>41.49</td>\n",
       "      <td>29.02</td>\n",
       "      <td>3.77</td>\n",
       "      <td>8.46</td>\n",
       "      <td>82.74</td>\n",
       "    </tr>\n",
       "    <tr>\n",
       "      <th>1</th>\n",
       "      <td>2</td>\n",
       "      <td>Super Mario Bros.</td>\n",
       "      <td>NES</td>\n",
       "      <td>1,985.00</td>\n",
       "      <td>Platform</td>\n",
       "      <td>Nintendo</td>\n",
       "      <td>29.08</td>\n",
       "      <td>3.58</td>\n",
       "      <td>6.81</td>\n",
       "      <td>0.77</td>\n",
       "      <td>40.24</td>\n",
       "    </tr>\n",
       "    <tr>\n",
       "      <th>2</th>\n",
       "      <td>3</td>\n",
       "      <td>Mario Kart Wii</td>\n",
       "      <td>Wii</td>\n",
       "      <td>2,008.00</td>\n",
       "      <td>Racing</td>\n",
       "      <td>Nintendo</td>\n",
       "      <td>15.85</td>\n",
       "      <td>12.88</td>\n",
       "      <td>3.79</td>\n",
       "      <td>3.31</td>\n",
       "      <td>35.82</td>\n",
       "    </tr>\n",
       "    <tr>\n",
       "      <th>3</th>\n",
       "      <td>4</td>\n",
       "      <td>Wii Sports Resort</td>\n",
       "      <td>Wii</td>\n",
       "      <td>2,009.00</td>\n",
       "      <td>Sports</td>\n",
       "      <td>Nintendo</td>\n",
       "      <td>15.75</td>\n",
       "      <td>11.01</td>\n",
       "      <td>3.28</td>\n",
       "      <td>2.96</td>\n",
       "      <td>33.00</td>\n",
       "    </tr>\n",
       "    <tr>\n",
       "      <th>4</th>\n",
       "      <td>5</td>\n",
       "      <td>Pokemon Red/Pokemon Blue</td>\n",
       "      <td>GB</td>\n",
       "      <td>1,996.00</td>\n",
       "      <td>Role-Playing</td>\n",
       "      <td>Nintendo</td>\n",
       "      <td>11.27</td>\n",
       "      <td>8.89</td>\n",
       "      <td>10.22</td>\n",
       "      <td>1.00</td>\n",
       "      <td>31.37</td>\n",
       "    </tr>\n",
       "  </tbody>\n",
       "</table>\n",
       "</div>"
      ],
      "text/plain": [
       "   Rank                      Name Platform                 Year         Genre  \\\n",
       "0     1                Wii Sports      Wii             2,006.00        Sports   \n",
       "1     2         Super Mario Bros.      NES             1,985.00      Platform   \n",
       "2     3            Mario Kart Wii      Wii             2,008.00        Racing   \n",
       "3     4         Wii Sports Resort      Wii             2,009.00        Sports   \n",
       "4     5  Pokemon Red/Pokemon Blue       GB             1,996.00  Role-Playing   \n",
       "\n",
       "  Publisher             NA_Sales             EU_Sales             JP_Sales  \\\n",
       "0  Nintendo                41.49                29.02                 3.77   \n",
       "1  Nintendo                29.08                 3.58                 6.81   \n",
       "2  Nintendo                15.85                12.88                 3.79   \n",
       "3  Nintendo                15.75                11.01                 3.28   \n",
       "4  Nintendo                11.27                 8.89                10.22   \n",
       "\n",
       "           Other_Sales         Global_Sales  \n",
       "0                 8.46                82.74  \n",
       "1                 0.77                40.24  \n",
       "2                 3.31                35.82  \n",
       "3                 2.96                33.00  \n",
       "4                 1.00                31.37  "
      ]
     },
     "execution_count": 93,
     "metadata": {},
     "output_type": "execute_result"
    }
   ],
   "source": [
    "games.head()"
   ]
  },
  {
   "cell_type": "code",
   "execution_count": 95,
   "metadata": {},
   "outputs": [
    {
     "data": {
      "text/html": [
       "<div>\n",
       "<style scoped>\n",
       "    .dataframe tbody tr th:only-of-type {\n",
       "        vertical-align: middle;\n",
       "    }\n",
       "\n",
       "    .dataframe tbody tr th {\n",
       "        vertical-align: top;\n",
       "    }\n",
       "\n",
       "    .dataframe thead th {\n",
       "        text-align: right;\n",
       "    }\n",
       "</style>\n",
       "<table border=\"1\" class=\"dataframe\">\n",
       "  <thead>\n",
       "    <tr style=\"text-align: right;\">\n",
       "      <th></th>\n",
       "      <th>Rank</th>\n",
       "      <th>Name</th>\n",
       "      <th>Platform</th>\n",
       "      <th>Year</th>\n",
       "      <th>Genre</th>\n",
       "      <th>Publisher</th>\n",
       "      <th>NA_Sales</th>\n",
       "      <th>EU_Sales</th>\n",
       "      <th>JP_Sales</th>\n",
       "      <th>Other_Sales</th>\n",
       "      <th>Global_Sales</th>\n",
       "    </tr>\n",
       "  </thead>\n",
       "  <tbody>\n",
       "    <tr>\n",
       "      <th>16594</th>\n",
       "      <td>16597</td>\n",
       "      <td>Men in Black II: Alien Escape</td>\n",
       "      <td>GC</td>\n",
       "      <td>2,003.00</td>\n",
       "      <td>Shooter</td>\n",
       "      <td>Infogrames</td>\n",
       "      <td>0.01</td>\n",
       "      <td>0.00</td>\n",
       "      <td>0.00</td>\n",
       "      <td>0.00</td>\n",
       "      <td>0.01</td>\n",
       "    </tr>\n",
       "    <tr>\n",
       "      <th>16595</th>\n",
       "      <td>16598</td>\n",
       "      <td>SCORE International Baja 1000: The Official Game</td>\n",
       "      <td>PS2</td>\n",
       "      <td>2,008.00</td>\n",
       "      <td>Racing</td>\n",
       "      <td>Activision</td>\n",
       "      <td>0.00</td>\n",
       "      <td>0.00</td>\n",
       "      <td>0.00</td>\n",
       "      <td>0.00</td>\n",
       "      <td>0.01</td>\n",
       "    </tr>\n",
       "    <tr>\n",
       "      <th>16596</th>\n",
       "      <td>16599</td>\n",
       "      <td>Know How 2</td>\n",
       "      <td>DS</td>\n",
       "      <td>2,010.00</td>\n",
       "      <td>Puzzle</td>\n",
       "      <td>7G//AMES</td>\n",
       "      <td>0.00</td>\n",
       "      <td>0.01</td>\n",
       "      <td>0.00</td>\n",
       "      <td>0.00</td>\n",
       "      <td>0.01</td>\n",
       "    </tr>\n",
       "    <tr>\n",
       "      <th>16597</th>\n",
       "      <td>16600</td>\n",
       "      <td>Spirits &amp; Spells</td>\n",
       "      <td>GBA</td>\n",
       "      <td>2,003.00</td>\n",
       "      <td>Platform</td>\n",
       "      <td>Wanadoo</td>\n",
       "      <td>0.01</td>\n",
       "      <td>0.00</td>\n",
       "      <td>0.00</td>\n",
       "      <td>0.00</td>\n",
       "      <td>0.01</td>\n",
       "    </tr>\n",
       "  </tbody>\n",
       "</table>\n",
       "</div>"
      ],
      "text/plain": [
       "        Rank                                              Name Platform  \\\n",
       "16594  16597                     Men in Black II: Alien Escape       GC   \n",
       "16595  16598  SCORE International Baja 1000: The Official Game      PS2   \n",
       "16596  16599                                        Know How 2       DS   \n",
       "16597  16600                                  Spirits & Spells      GBA   \n",
       "\n",
       "                      Year     Genre   Publisher             NA_Sales  \\\n",
       "16594             2,003.00   Shooter  Infogrames                 0.01   \n",
       "16595             2,008.00    Racing  Activision                 0.00   \n",
       "16596             2,010.00    Puzzle    7G//AMES                 0.00   \n",
       "16597             2,003.00  Platform     Wanadoo                 0.01   \n",
       "\n",
       "                  EU_Sales             JP_Sales          Other_Sales  \\\n",
       "16594                 0.00                 0.00                 0.00   \n",
       "16595                 0.00                 0.00                 0.00   \n",
       "16596                 0.01                 0.00                 0.00   \n",
       "16597                 0.00                 0.00                 0.00   \n",
       "\n",
       "              Global_Sales  \n",
       "16594                 0.01  \n",
       "16595                 0.01  \n",
       "16596                 0.01  \n",
       "16597                 0.01  "
      ]
     },
     "execution_count": 95,
     "metadata": {},
     "output_type": "execute_result"
    }
   ],
   "source": [
    "games.tail(4)"
   ]
  },
  {
   "cell_type": "code",
   "execution_count": 94,
   "metadata": {},
   "outputs": [
    {
     "data": {
      "text/html": [
       "<div>\n",
       "<style scoped>\n",
       "    .dataframe tbody tr th:only-of-type {\n",
       "        vertical-align: middle;\n",
       "    }\n",
       "\n",
       "    .dataframe tbody tr th {\n",
       "        vertical-align: top;\n",
       "    }\n",
       "\n",
       "    .dataframe thead th {\n",
       "        text-align: right;\n",
       "    }\n",
       "</style>\n",
       "<table border=\"1\" class=\"dataframe\">\n",
       "  <thead>\n",
       "    <tr style=\"text-align: right;\">\n",
       "      <th></th>\n",
       "      <th>Rank</th>\n",
       "      <th>Name</th>\n",
       "      <th>Platform</th>\n",
       "      <th>Year</th>\n",
       "      <th>Genre</th>\n",
       "      <th>Publisher</th>\n",
       "      <th>NA_Sales</th>\n",
       "      <th>EU_Sales</th>\n",
       "      <th>JP_Sales</th>\n",
       "      <th>Other_Sales</th>\n",
       "      <th>Global_Sales</th>\n",
       "    </tr>\n",
       "  </thead>\n",
       "  <tbody>\n",
       "    <tr>\n",
       "      <th>20</th>\n",
       "      <td>21</td>\n",
       "      <td>Pokemon Diamond/Pokemon Pearl</td>\n",
       "      <td>DS</td>\n",
       "      <td>2,006.00</td>\n",
       "      <td>Role-Playing</td>\n",
       "      <td>Nintendo</td>\n",
       "      <td>6.42</td>\n",
       "      <td>4.52</td>\n",
       "      <td>6.04</td>\n",
       "      <td>1.37</td>\n",
       "      <td>18.36</td>\n",
       "    </tr>\n",
       "    <tr>\n",
       "      <th>21</th>\n",
       "      <td>22</td>\n",
       "      <td>Super Mario Land</td>\n",
       "      <td>GB</td>\n",
       "      <td>1,989.00</td>\n",
       "      <td>Platform</td>\n",
       "      <td>Nintendo</td>\n",
       "      <td>10.83</td>\n",
       "      <td>2.71</td>\n",
       "      <td>4.18</td>\n",
       "      <td>0.42</td>\n",
       "      <td>18.14</td>\n",
       "    </tr>\n",
       "    <tr>\n",
       "      <th>22</th>\n",
       "      <td>23</td>\n",
       "      <td>Super Mario Bros. 3</td>\n",
       "      <td>NES</td>\n",
       "      <td>1,988.00</td>\n",
       "      <td>Platform</td>\n",
       "      <td>Nintendo</td>\n",
       "      <td>9.54</td>\n",
       "      <td>3.44</td>\n",
       "      <td>3.84</td>\n",
       "      <td>0.46</td>\n",
       "      <td>17.28</td>\n",
       "    </tr>\n",
       "    <tr>\n",
       "      <th>23</th>\n",
       "      <td>24</td>\n",
       "      <td>Grand Theft Auto V</td>\n",
       "      <td>X360</td>\n",
       "      <td>2,013.00</td>\n",
       "      <td>Action</td>\n",
       "      <td>Take-Two Interactive</td>\n",
       "      <td>9.63</td>\n",
       "      <td>5.31</td>\n",
       "      <td>0.06</td>\n",
       "      <td>1.38</td>\n",
       "      <td>16.38</td>\n",
       "    </tr>\n",
       "    <tr>\n",
       "      <th>24</th>\n",
       "      <td>25</td>\n",
       "      <td>Grand Theft Auto: Vice City</td>\n",
       "      <td>PS2</td>\n",
       "      <td>2,002.00</td>\n",
       "      <td>Action</td>\n",
       "      <td>Take-Two Interactive</td>\n",
       "      <td>8.41</td>\n",
       "      <td>5.49</td>\n",
       "      <td>0.47</td>\n",
       "      <td>1.78</td>\n",
       "      <td>16.15</td>\n",
       "    </tr>\n",
       "    <tr>\n",
       "      <th>25</th>\n",
       "      <td>26</td>\n",
       "      <td>Pokemon Ruby/Pokemon Sapphire</td>\n",
       "      <td>GBA</td>\n",
       "      <td>2,002.00</td>\n",
       "      <td>Role-Playing</td>\n",
       "      <td>Nintendo</td>\n",
       "      <td>6.06</td>\n",
       "      <td>3.90</td>\n",
       "      <td>5.38</td>\n",
       "      <td>0.50</td>\n",
       "      <td>15.85</td>\n",
       "    </tr>\n",
       "    <tr>\n",
       "      <th>26</th>\n",
       "      <td>27</td>\n",
       "      <td>Pokemon Black/Pokemon White</td>\n",
       "      <td>DS</td>\n",
       "      <td>2,010.00</td>\n",
       "      <td>Role-Playing</td>\n",
       "      <td>Nintendo</td>\n",
       "      <td>5.57</td>\n",
       "      <td>3.28</td>\n",
       "      <td>5.65</td>\n",
       "      <td>0.82</td>\n",
       "      <td>15.32</td>\n",
       "    </tr>\n",
       "    <tr>\n",
       "      <th>27</th>\n",
       "      <td>28</td>\n",
       "      <td>Brain Age 2: More Training in Minutes a Day</td>\n",
       "      <td>DS</td>\n",
       "      <td>2,005.00</td>\n",
       "      <td>Puzzle</td>\n",
       "      <td>Nintendo</td>\n",
       "      <td>3.44</td>\n",
       "      <td>5.36</td>\n",
       "      <td>5.32</td>\n",
       "      <td>1.18</td>\n",
       "      <td>15.30</td>\n",
       "    </tr>\n",
       "    <tr>\n",
       "      <th>28</th>\n",
       "      <td>29</td>\n",
       "      <td>Gran Turismo 3: A-Spec</td>\n",
       "      <td>PS2</td>\n",
       "      <td>2,001.00</td>\n",
       "      <td>Racing</td>\n",
       "      <td>Sony Computer Entertainment</td>\n",
       "      <td>6.85</td>\n",
       "      <td>5.09</td>\n",
       "      <td>1.87</td>\n",
       "      <td>1.16</td>\n",
       "      <td>14.98</td>\n",
       "    </tr>\n",
       "    <tr>\n",
       "      <th>29</th>\n",
       "      <td>30</td>\n",
       "      <td>Call of Duty: Modern Warfare 3</td>\n",
       "      <td>X360</td>\n",
       "      <td>2,011.00</td>\n",
       "      <td>Shooter</td>\n",
       "      <td>Activision</td>\n",
       "      <td>9.03</td>\n",
       "      <td>4.28</td>\n",
       "      <td>0.13</td>\n",
       "      <td>1.32</td>\n",
       "      <td>14.76</td>\n",
       "    </tr>\n",
       "  </tbody>\n",
       "</table>\n",
       "</div>"
      ],
      "text/plain": [
       "    Rank                                         Name Platform  \\\n",
       "20    21                Pokemon Diamond/Pokemon Pearl       DS   \n",
       "21    22                             Super Mario Land       GB   \n",
       "22    23                          Super Mario Bros. 3      NES   \n",
       "23    24                           Grand Theft Auto V     X360   \n",
       "24    25                  Grand Theft Auto: Vice City      PS2   \n",
       "25    26                Pokemon Ruby/Pokemon Sapphire      GBA   \n",
       "26    27                  Pokemon Black/Pokemon White       DS   \n",
       "27    28  Brain Age 2: More Training in Minutes a Day       DS   \n",
       "28    29                       Gran Turismo 3: A-Spec      PS2   \n",
       "29    30               Call of Duty: Modern Warfare 3     X360   \n",
       "\n",
       "                   Year         Genre                    Publisher  \\\n",
       "20             2,006.00  Role-Playing                     Nintendo   \n",
       "21             1,989.00      Platform                     Nintendo   \n",
       "22             1,988.00      Platform                     Nintendo   \n",
       "23             2,013.00        Action         Take-Two Interactive   \n",
       "24             2,002.00        Action         Take-Two Interactive   \n",
       "25             2,002.00  Role-Playing                     Nintendo   \n",
       "26             2,010.00  Role-Playing                     Nintendo   \n",
       "27             2,005.00        Puzzle                     Nintendo   \n",
       "28             2,001.00        Racing  Sony Computer Entertainment   \n",
       "29             2,011.00       Shooter                   Activision   \n",
       "\n",
       "               NA_Sales             EU_Sales             JP_Sales  \\\n",
       "20                 6.42                 4.52                 6.04   \n",
       "21                10.83                 2.71                 4.18   \n",
       "22                 9.54                 3.44                 3.84   \n",
       "23                 9.63                 5.31                 0.06   \n",
       "24                 8.41                 5.49                 0.47   \n",
       "25                 6.06                 3.90                 5.38   \n",
       "26                 5.57                 3.28                 5.65   \n",
       "27                 3.44                 5.36                 5.32   \n",
       "28                 6.85                 5.09                 1.87   \n",
       "29                 9.03                 4.28                 0.13   \n",
       "\n",
       "            Other_Sales         Global_Sales  \n",
       "20                 1.37                18.36  \n",
       "21                 0.42                18.14  \n",
       "22                 0.46                17.28  \n",
       "23                 1.38                16.38  \n",
       "24                 1.78                16.15  \n",
       "25                 0.50                15.85  \n",
       "26                 0.82                15.32  \n",
       "27                 1.18                15.30  \n",
       "28                 1.16                14.98  \n",
       "29                 1.32                14.76  "
      ]
     },
     "execution_count": 94,
     "metadata": {},
     "output_type": "execute_result"
    }
   ],
   "source": [
    "games[20:30]"
   ]
  },
  {
   "cell_type": "code",
   "execution_count": 103,
   "metadata": {},
   "outputs": [
    {
     "data": {
      "text/html": [
       "<div>\n",
       "<style scoped>\n",
       "    .dataframe tbody tr th:only-of-type {\n",
       "        vertical-align: middle;\n",
       "    }\n",
       "\n",
       "    .dataframe tbody tr th {\n",
       "        vertical-align: top;\n",
       "    }\n",
       "\n",
       "    .dataframe thead th {\n",
       "        text-align: right;\n",
       "    }\n",
       "</style>\n",
       "<table border=\"1\" class=\"dataframe\">\n",
       "  <thead>\n",
       "    <tr style=\"text-align: right;\">\n",
       "      <th></th>\n",
       "      <th>Rank</th>\n",
       "      <th>Name</th>\n",
       "      <th>Platform</th>\n",
       "      <th>Year</th>\n",
       "      <th>Genre</th>\n",
       "      <th>Publisher</th>\n",
       "      <th>NA_Sales</th>\n",
       "      <th>EU_Sales</th>\n",
       "      <th>JP_Sales</th>\n",
       "      <th>Other_Sales</th>\n",
       "      <th>Global_Sales</th>\n",
       "    </tr>\n",
       "  </thead>\n",
       "  <tbody>\n",
       "    <tr>\n",
       "      <th>20</th>\n",
       "      <td>21</td>\n",
       "      <td>Pokemon Diamond/Pokemon Pearl</td>\n",
       "      <td>DS</td>\n",
       "      <td>2,006.00</td>\n",
       "      <td>Role-Playing</td>\n",
       "      <td>Nintendo</td>\n",
       "      <td>6.42</td>\n",
       "      <td>4.52</td>\n",
       "      <td>6.04</td>\n",
       "      <td>1.37</td>\n",
       "      <td>18.36</td>\n",
       "    </tr>\n",
       "    <tr>\n",
       "      <th>21</th>\n",
       "      <td>22</td>\n",
       "      <td>Super Mario Land</td>\n",
       "      <td>GB</td>\n",
       "      <td>1,989.00</td>\n",
       "      <td>Platform</td>\n",
       "      <td>Nintendo</td>\n",
       "      <td>10.83</td>\n",
       "      <td>2.71</td>\n",
       "      <td>4.18</td>\n",
       "      <td>0.42</td>\n",
       "      <td>18.14</td>\n",
       "    </tr>\n",
       "    <tr>\n",
       "      <th>22</th>\n",
       "      <td>23</td>\n",
       "      <td>Super Mario Bros. 3</td>\n",
       "      <td>NES</td>\n",
       "      <td>1,988.00</td>\n",
       "      <td>Platform</td>\n",
       "      <td>Nintendo</td>\n",
       "      <td>9.54</td>\n",
       "      <td>3.44</td>\n",
       "      <td>3.84</td>\n",
       "      <td>0.46</td>\n",
       "      <td>17.28</td>\n",
       "    </tr>\n",
       "    <tr>\n",
       "      <th>23</th>\n",
       "      <td>24</td>\n",
       "      <td>Grand Theft Auto V</td>\n",
       "      <td>X360</td>\n",
       "      <td>2,013.00</td>\n",
       "      <td>Action</td>\n",
       "      <td>Take-Two Interactive</td>\n",
       "      <td>9.63</td>\n",
       "      <td>5.31</td>\n",
       "      <td>0.06</td>\n",
       "      <td>1.38</td>\n",
       "      <td>16.38</td>\n",
       "    </tr>\n",
       "    <tr>\n",
       "      <th>24</th>\n",
       "      <td>25</td>\n",
       "      <td>Grand Theft Auto: Vice City</td>\n",
       "      <td>PS2</td>\n",
       "      <td>2,002.00</td>\n",
       "      <td>Action</td>\n",
       "      <td>Take-Two Interactive</td>\n",
       "      <td>8.41</td>\n",
       "      <td>5.49</td>\n",
       "      <td>0.47</td>\n",
       "      <td>1.78</td>\n",
       "      <td>16.15</td>\n",
       "    </tr>\n",
       "    <tr>\n",
       "      <th>25</th>\n",
       "      <td>26</td>\n",
       "      <td>Pokemon Ruby/Pokemon Sapphire</td>\n",
       "      <td>GBA</td>\n",
       "      <td>2,002.00</td>\n",
       "      <td>Role-Playing</td>\n",
       "      <td>Nintendo</td>\n",
       "      <td>6.06</td>\n",
       "      <td>3.90</td>\n",
       "      <td>5.38</td>\n",
       "      <td>0.50</td>\n",
       "      <td>15.85</td>\n",
       "    </tr>\n",
       "    <tr>\n",
       "      <th>26</th>\n",
       "      <td>27</td>\n",
       "      <td>Pokemon Black/Pokemon White</td>\n",
       "      <td>DS</td>\n",
       "      <td>2,010.00</td>\n",
       "      <td>Role-Playing</td>\n",
       "      <td>Nintendo</td>\n",
       "      <td>5.57</td>\n",
       "      <td>3.28</td>\n",
       "      <td>5.65</td>\n",
       "      <td>0.82</td>\n",
       "      <td>15.32</td>\n",
       "    </tr>\n",
       "    <tr>\n",
       "      <th>27</th>\n",
       "      <td>28</td>\n",
       "      <td>Brain Age 2: More Training in Minutes a Day</td>\n",
       "      <td>DS</td>\n",
       "      <td>2,005.00</td>\n",
       "      <td>Puzzle</td>\n",
       "      <td>Nintendo</td>\n",
       "      <td>3.44</td>\n",
       "      <td>5.36</td>\n",
       "      <td>5.32</td>\n",
       "      <td>1.18</td>\n",
       "      <td>15.30</td>\n",
       "    </tr>\n",
       "    <tr>\n",
       "      <th>28</th>\n",
       "      <td>29</td>\n",
       "      <td>Gran Turismo 3: A-Spec</td>\n",
       "      <td>PS2</td>\n",
       "      <td>2,001.00</td>\n",
       "      <td>Racing</td>\n",
       "      <td>Sony Computer Entertainment</td>\n",
       "      <td>6.85</td>\n",
       "      <td>5.09</td>\n",
       "      <td>1.87</td>\n",
       "      <td>1.16</td>\n",
       "      <td>14.98</td>\n",
       "    </tr>\n",
       "    <tr>\n",
       "      <th>29</th>\n",
       "      <td>30</td>\n",
       "      <td>Call of Duty: Modern Warfare 3</td>\n",
       "      <td>X360</td>\n",
       "      <td>2,011.00</td>\n",
       "      <td>Shooter</td>\n",
       "      <td>Activision</td>\n",
       "      <td>9.03</td>\n",
       "      <td>4.28</td>\n",
       "      <td>0.13</td>\n",
       "      <td>1.32</td>\n",
       "      <td>14.76</td>\n",
       "    </tr>\n",
       "  </tbody>\n",
       "</table>\n",
       "</div>"
      ],
      "text/plain": [
       "    Rank                                         Name Platform  \\\n",
       "20    21                Pokemon Diamond/Pokemon Pearl       DS   \n",
       "21    22                             Super Mario Land       GB   \n",
       "22    23                          Super Mario Bros. 3      NES   \n",
       "23    24                           Grand Theft Auto V     X360   \n",
       "24    25                  Grand Theft Auto: Vice City      PS2   \n",
       "25    26                Pokemon Ruby/Pokemon Sapphire      GBA   \n",
       "26    27                  Pokemon Black/Pokemon White       DS   \n",
       "27    28  Brain Age 2: More Training in Minutes a Day       DS   \n",
       "28    29                       Gran Turismo 3: A-Spec      PS2   \n",
       "29    30               Call of Duty: Modern Warfare 3     X360   \n",
       "\n",
       "                   Year         Genre                    Publisher  \\\n",
       "20             2,006.00  Role-Playing                     Nintendo   \n",
       "21             1,989.00      Platform                     Nintendo   \n",
       "22             1,988.00      Platform                     Nintendo   \n",
       "23             2,013.00        Action         Take-Two Interactive   \n",
       "24             2,002.00        Action         Take-Two Interactive   \n",
       "25             2,002.00  Role-Playing                     Nintendo   \n",
       "26             2,010.00  Role-Playing                     Nintendo   \n",
       "27             2,005.00        Puzzle                     Nintendo   \n",
       "28             2,001.00        Racing  Sony Computer Entertainment   \n",
       "29             2,011.00       Shooter                   Activision   \n",
       "\n",
       "               NA_Sales             EU_Sales             JP_Sales  \\\n",
       "20                 6.42                 4.52                 6.04   \n",
       "21                10.83                 2.71                 4.18   \n",
       "22                 9.54                 3.44                 3.84   \n",
       "23                 9.63                 5.31                 0.06   \n",
       "24                 8.41                 5.49                 0.47   \n",
       "25                 6.06                 3.90                 5.38   \n",
       "26                 5.57                 3.28                 5.65   \n",
       "27                 3.44                 5.36                 5.32   \n",
       "28                 6.85                 5.09                 1.87   \n",
       "29                 9.03                 4.28                 0.13   \n",
       "\n",
       "            Other_Sales         Global_Sales  \n",
       "20                 1.37                18.36  \n",
       "21                 0.42                18.14  \n",
       "22                 0.46                17.28  \n",
       "23                 1.38                16.38  \n",
       "24                 1.78                16.15  \n",
       "25                 0.50                15.85  \n",
       "26                 0.82                15.32  \n",
       "27                 1.18                15.30  \n",
       "28                 1.16                14.98  \n",
       "29                 1.32                14.76  "
      ]
     },
     "execution_count": 103,
     "metadata": {},
     "output_type": "execute_result"
    }
   ],
   "source": [
    "games.head(30).tail(10)"
   ]
  },
  {
   "cell_type": "code",
   "execution_count": null,
   "metadata": {},
   "outputs": [],
   "source": []
  },
  {
   "cell_type": "code",
   "execution_count": null,
   "metadata": {},
   "outputs": [],
   "source": []
  },
  {
   "cell_type": "code",
   "execution_count": null,
   "metadata": {},
   "outputs": [],
   "source": []
  },
  {
   "cell_type": "markdown",
   "metadata": {},
   "source": [
    "[**head(n=5)**](https://pandas.pydata.org/docs/reference/api/pandas.DataFrame.head.html) function returns the first n rows for the object based on position. It is useful for quickly testing if your object has the right type of data in it.\n",
    "\n",
    "For negative values of n, this function returns all rows except the last n rows, equivalent to df[:-n]."
   ]
  },
  {
   "cell_type": "code",
   "execution_count": null,
   "metadata": {},
   "outputs": [],
   "source": []
  },
  {
   "cell_type": "markdown",
   "metadata": {},
   "source": [
    "**[tail()](https://pandas.pydata.org/docs/reference/api/pandas.DataFrame.tail.html)** function returns last n rows from the object based on position. It is useful for quickly verifying data, for example, after sorting or appending rows."
   ]
  },
  {
   "cell_type": "code",
   "execution_count": null,
   "metadata": {},
   "outputs": [],
   "source": []
  },
  {
   "attachments": {
    "image.png": {
     "image/png": "[encoded data removed]"
    }
   },
   "cell_type": "markdown",
   "metadata": {},
   "source": [
    "[**dtypes**](https://pandas.pydata.org/docs/reference/api/pandas.DataFrame.dtypes.html) attribute returns a Series with the data type of each column. The result’s index is the original DataFrame’s columns. Columns with **mixed data types** are stored with the **``object dtype``**. See the [User Guide](https://pandas.pydata.org/docs/user_guide/basics.html#basics-dtypes) for more.\n",
    "\n",
    "![image.png](attachment:image.png)"
   ]
  },
  {
   "cell_type": "code",
   "execution_count": 96,
   "metadata": {},
   "outputs": [
    {
     "name": "stdout",
     "output_type": "stream",
     "text": [
      "                 float  int   datetime string\n",
      "0                 1.00    1 2018-12-01    foo\n",
      "1                 2.20    2 2018-12-02      2\n",
      "**************************************************\n",
      "float              float64\n",
      "int                  int64\n",
      "datetime    datetime64[ns]\n",
      "string              object\n",
      "dtype: object\n"
     ]
    }
   ],
   "source": [
    "df = pd.DataFrame({'float': [1.0, 2.2],\n",
    "                   'int': [1, 2],\n",
    "                   'datetime': pd.date_range('12/1/2018', periods=2, freq='D'),\n",
    "                   'string': ['foo', 2]})\n",
    "\n",
    "print(df)\n",
    "print(\"*\"*50)\n",
    "print(df.dtypes)"
   ]
  },
  {
   "cell_type": "code",
   "execution_count": 97,
   "metadata": {},
   "outputs": [
    {
     "data": {
      "text/plain": [
       "0    foo\n",
       "1      2\n",
       "Name: string, dtype: object"
      ]
     },
     "execution_count": 97,
     "metadata": {},
     "output_type": "execute_result"
    }
   ],
   "source": [
    "df[\"string\"]"
   ]
  },
  {
   "cell_type": "code",
   "execution_count": 98,
   "metadata": {},
   "outputs": [
    {
     "data": {
      "text/plain": [
       "'foo'"
      ]
     },
     "execution_count": 98,
     "metadata": {},
     "output_type": "execute_result"
    }
   ],
   "source": [
    "df[\"string\"][0]"
   ]
  },
  {
   "cell_type": "code",
   "execution_count": 99,
   "metadata": {},
   "outputs": [
    {
     "data": {
      "text/plain": [
       "2"
      ]
     },
     "execution_count": 99,
     "metadata": {},
     "output_type": "execute_result"
    }
   ],
   "source": [
    "df[\"string\"][1]"
   ]
  },
  {
   "cell_type": "code",
   "execution_count": null,
   "metadata": {},
   "outputs": [],
   "source": []
  },
  {
   "cell_type": "code",
   "execution_count": null,
   "metadata": {},
   "outputs": [],
   "source": []
  },
  {
   "cell_type": "code",
   "execution_count": null,
   "metadata": {},
   "outputs": [],
   "source": []
  },
  {
   "cell_type": "code",
   "execution_count": null,
   "metadata": {},
   "outputs": [],
   "source": []
  },
  {
   "cell_type": "code",
   "execution_count": null,
   "metadata": {},
   "outputs": [],
   "source": []
  },
  {
   "cell_type": "markdown",
   "metadata": {},
   "source": [
    "[**value_counts()**](https://pandas.pydata.org/docs/reference/api/pandas.DataFrame.value_counts.html) returns a Series containing counts of unique values.\n",
    "\n",
    "The resulting object will be in descending order so that the first element is the most frequently-occurring element. Excludes NA values by default."
   ]
  },
  {
   "cell_type": "code",
   "execution_count": null,
   "metadata": {},
   "outputs": [],
   "source": []
  },
  {
   "cell_type": "markdown",
   "metadata": {},
   "source": [
    "With normalize set to True, returns the relative frequency by dividing all values by the sum of values."
   ]
  },
  {
   "cell_type": "code",
   "execution_count": null,
   "metadata": {},
   "outputs": [],
   "source": []
  },
  {
   "cell_type": "markdown",
   "metadata": {},
   "source": [
    "20% of the computer games sold are action games"
   ]
  },
  {
   "cell_type": "markdown",
   "metadata": {},
   "source": [
    "**``bin``** parameter inside value_counts() is probably the most underutilized one. value_counts() can be used to bin continuous data into discrete intervals with the help of the bin parameter. This option works only with numerical data. It is similar to the **``pd.cut()``** function. "
   ]
  },
  {
   "cell_type": "code",
   "execution_count": null,
   "metadata": {},
   "outputs": [],
   "source": []
  },
  {
   "cell_type": "markdown",
   "metadata": {},
   "source": [
    "Using value_counts() in a plain way sometimes doesn’t convey much information as the output contains a lot of categories for every value of related feature. Instead, let’s group them into 4 bins."
   ]
  },
  {
   "cell_type": "code",
   "execution_count": null,
   "metadata": {},
   "outputs": [],
   "source": []
  },
  {
   "cell_type": "markdown",
   "metadata": {},
   "source": [
    "Binning makes it easy to understand the idea being conveyed. We can easily see that most of the gamers in EU paid less than 7.255 for their games. Also, we can see that having four bins serves our purpose since no sales falls into the last bin."
   ]
  },
  {
   "cell_type": "markdown",
   "metadata": {},
   "source": [
    "**Let us make some statistical operations with Series.**"
   ]
  },
  {
   "cell_type": "code",
   "execution_count": null,
   "metadata": {},
   "outputs": [],
   "source": []
  },
  {
   "cell_type": "code",
   "execution_count": null,
   "metadata": {},
   "outputs": [],
   "source": []
  },
  {
   "cell_type": "code",
   "execution_count": null,
   "metadata": {},
   "outputs": [],
   "source": []
  },
  {
   "cell_type": "code",
   "execution_count": null,
   "metadata": {},
   "outputs": [],
   "source": []
  },
  {
   "cell_type": "markdown",
   "metadata": {},
   "source": [
    "## <p style=\"background-color:#9d4f8c; font-family:newtimeroman; color:#FFF9ED; font-size:175%; text-align:center; border-radius:10px 10px;\">Creating a Pandas DataFrames</p>\n",
    "\n",
    "<a id=\"4\"></a>\n",
    "<a href=\"#toc\" class=\"btn btn-primary btn-sm\" role=\"button\" aria-pressed=\"true\" \n",
    "style=\"color:blue; background-color:#dfa8e4\" data-toggle=\"popover\">Content</a>\n",
    "\n",
    "Pandas DataFrame is a 2-dimensional labeled data structure with columns of potentially different types. It is generally the most commonly used pandas object. Pandas DataFrame can be created in multiple ways:\n",
    "\n",
    "  - Creating Pandas DataFrame from lists of lists.\n",
    "  - Creating DataFrame from dict of narray/lists.\n",
    "  - Creating Dataframe from list of dicts.\n",
    "  - Creating DataFrame using zip() function.\n",
    "  - Creating DataFrame from Dicts of series.\n",
    "  \n",
    "[Source](https://pandas.pydata.org/docs/reference/api/pandas.DataFrame.html), [Source](https://www.javatpoint.com/how-to-create-a-dataframes-in-python), [Source](https://towardsdatascience.com/15-ways-to-create-a-pandas-dataframe-754ecc082c17)\n",
    "\n",
    "**Let's remember how to create a DataFrame in Pandas:**"
   ]
  },
  {
   "cell_type": "code",
   "execution_count": 16,
   "metadata": {},
   "outputs": [
    {
     "data": {
      "text/plain": [
       "{'name': ['Bill', 'Tom', 'Tim', 'John', 'Alex', 'Vanessa', 'Kate'],\n",
       " 'score': [90, 80, 85, 75, 95, 60, 65],\n",
       " 'sport': ['Wrestling',\n",
       "  'Football',\n",
       "  'Skiing',\n",
       "  'Swimming',\n",
       "  'Tennis',\n",
       "  'Karete',\n",
       "  'Surfing'],\n",
       " 'sex': ['M', 'M', 'M', 'M', 'F', 'F', 'F']}"
      ]
     },
     "execution_count": 16,
     "metadata": {},
     "output_type": "execute_result"
    }
   ],
   "source": [
    "data = {\"name\":[\"Bill\", \"Tom\", \"Tim\", \"John\", \"Alex\", \"Vanessa\", \"Kate\"],\n",
    "        \"score\":[90, 80, 85, 75, 95, 60, 65],\n",
    "        \"sport\":[\"Wrestling\", \"Football\", \"Skiing\", \"Swimming\", \"Tennis\", \"Karete\", \"Surfing\"],\n",
    "        \"sex\":[\"M\", \"M\", \"M\", \"M\", \"F\", \"F\", \"F\"]}\n",
    "data"
   ]
  },
  {
   "cell_type": "markdown",
   "metadata": {},
   "source": [
    "As seen, we have created a Dictionary and assigned it to an object named \"data\".\n",
    "\n",
    "**pandas.DataFrame(data=None, index=None, columns=None, dtype=None, copy=None)** [Official Pandas API](https://pandas.pydata.org/docs/reference/api/pandas.DataFrame.html)"
   ]
  },
  {
   "cell_type": "code",
   "execution_count": 17,
   "metadata": {},
   "outputs": [
    {
     "data": {
      "application/javascript": [
       "\n",
       "        if (window._pyforest_update_imports_cell) { window._pyforest_update_imports_cell('import numpy as np\\nimport pandas as pd'); }\n",
       "    "
      ],
      "text/plain": [
       "<IPython.core.display.Javascript object>"
      ]
     },
     "metadata": {},
     "output_type": "display_data"
    },
    {
     "data": {
      "text/html": [
       "<div>\n",
       "<style scoped>\n",
       "    .dataframe tbody tr th:only-of-type {\n",
       "        vertical-align: middle;\n",
       "    }\n",
       "\n",
       "    .dataframe tbody tr th {\n",
       "        vertical-align: top;\n",
       "    }\n",
       "\n",
       "    .dataframe thead th {\n",
       "        text-align: right;\n",
       "    }\n",
       "</style>\n",
       "<table border=\"1\" class=\"dataframe\">\n",
       "  <thead>\n",
       "    <tr style=\"text-align: right;\">\n",
       "      <th></th>\n",
       "      <th>name</th>\n",
       "      <th>score</th>\n",
       "      <th>sport</th>\n",
       "      <th>sex</th>\n",
       "    </tr>\n",
       "  </thead>\n",
       "  <tbody>\n",
       "    <tr>\n",
       "      <th>0</th>\n",
       "      <td>Bill</td>\n",
       "      <td>90</td>\n",
       "      <td>Wrestling</td>\n",
       "      <td>M</td>\n",
       "    </tr>\n",
       "    <tr>\n",
       "      <th>1</th>\n",
       "      <td>Tom</td>\n",
       "      <td>80</td>\n",
       "      <td>Football</td>\n",
       "      <td>M</td>\n",
       "    </tr>\n",
       "    <tr>\n",
       "      <th>2</th>\n",
       "      <td>Tim</td>\n",
       "      <td>85</td>\n",
       "      <td>Skiing</td>\n",
       "      <td>M</td>\n",
       "    </tr>\n",
       "    <tr>\n",
       "      <th>3</th>\n",
       "      <td>John</td>\n",
       "      <td>75</td>\n",
       "      <td>Swimming</td>\n",
       "      <td>M</td>\n",
       "    </tr>\n",
       "    <tr>\n",
       "      <th>4</th>\n",
       "      <td>Alex</td>\n",
       "      <td>95</td>\n",
       "      <td>Tennis</td>\n",
       "      <td>F</td>\n",
       "    </tr>\n",
       "    <tr>\n",
       "      <th>5</th>\n",
       "      <td>Vanessa</td>\n",
       "      <td>60</td>\n",
       "      <td>Karete</td>\n",
       "      <td>F</td>\n",
       "    </tr>\n",
       "    <tr>\n",
       "      <th>6</th>\n",
       "      <td>Kate</td>\n",
       "      <td>65</td>\n",
       "      <td>Surfing</td>\n",
       "      <td>F</td>\n",
       "    </tr>\n",
       "  </tbody>\n",
       "</table>\n",
       "</div>"
      ],
      "text/plain": [
       "      name  score      sport sex\n",
       "0     Bill     90  Wrestling   M\n",
       "1      Tom     80   Football   M\n",
       "2      Tim     85     Skiing   M\n",
       "3     John     75   Swimming   M\n",
       "4     Alex     95     Tennis   F\n",
       "5  Vanessa     60     Karete   F\n",
       "6     Kate     65    Surfing   F"
      ]
     },
     "execution_count": 17,
     "metadata": {},
     "output_type": "execute_result"
    }
   ],
   "source": [
    "df = pd.DataFrame(data)\n",
    "df"
   ]
  },
  {
   "cell_type": "markdown",
   "metadata": {},
   "source": [
    "## <p style=\"background-color:#9d4f8c; font-family:newtimeroman; color:#FFF9ED; font-size:175%; text-align:center; border-radius:10px 10px;\">Working with DataFrames</p>\n",
    "\n",
    "<a id=\"5\"></a>\n",
    "<a href=\"#toc\" class=\"btn btn-primary btn-sm\" role=\"button\" aria-pressed=\"true\" \n",
    "style=\"color:blue; background-color:#dfa8e4\" data-toggle=\"popover\">Content</a>\n",
    "\n",
    "While a `Series` is a single column of data, a `DataFrame` is several columns, one for each variable.\n",
    "\n",
    "In essence, a `DataFrame` in pandas is analogous to a (highly optimized) Excel spreadsheet.\n",
    "\n",
    "The two main data structures in pandas both have at least one axis. A **Series** has **one axis**, the index. A **DataFrame** has **two axes**, the index and the columns. It’s useful to note here that in all the DataFrame functions that can be applied to either rows or columns, an axis of 0 refers to the index, an axis of 1 refers to the columns.\n",
    "\n",
    "Thus, it is a powerful tool for representing and analyzing data that are naturally organized into rows and columns, often with  descriptive indexes for individual rows and individual columns.\n",
    "\n",
    "Let’s look at an example that reads data from the CSV file named `test_lab.csv`. "
   ]
  },
  {
   "cell_type": "code",
   "execution_count": 18,
   "metadata": {},
   "outputs": [
    {
     "data": {
      "application/javascript": [
       "\n",
       "        if (window._pyforest_update_imports_cell) { window._pyforest_update_imports_cell('import numpy as np\\nimport pandas as pd'); }\n",
       "    "
      ],
      "text/plain": [
       "<IPython.core.display.Javascript object>"
      ]
     },
     "metadata": {},
     "output_type": "display_data"
    },
    {
     "name": "stdout",
     "output_type": "stream",
     "text": [
      "\u001b[1mThe type of test_lab.csv is\u001b[0m <class 'pandas.core.frame.DataFrame'>\n"
     ]
    },
    {
     "data": {
      "text/html": [
       "<div>\n",
       "<style scoped>\n",
       "    .dataframe tbody tr th:only-of-type {\n",
       "        vertical-align: middle;\n",
       "    }\n",
       "\n",
       "    .dataframe tbody tr th {\n",
       "        vertical-align: top;\n",
       "    }\n",
       "\n",
       "    .dataframe thead th {\n",
       "        text-align: right;\n",
       "    }\n",
       "</style>\n",
       "<table border=\"1\" class=\"dataframe\">\n",
       "  <thead>\n",
       "    <tr style=\"text-align: right;\">\n",
       "      <th></th>\n",
       "      <th>country</th>\n",
       "      <th>country isocode</th>\n",
       "      <th>year</th>\n",
       "      <th>POP</th>\n",
       "      <th>XRAT</th>\n",
       "      <th>tcgdp</th>\n",
       "      <th>cc</th>\n",
       "      <th>cg</th>\n",
       "    </tr>\n",
       "  </thead>\n",
       "  <tbody>\n",
       "    <tr>\n",
       "      <th>0</th>\n",
       "      <td>Argentina</td>\n",
       "      <td>ARG</td>\n",
       "      <td>2000</td>\n",
       "      <td>37,335.65</td>\n",
       "      <td>1.00</td>\n",
       "      <td>295,072.22</td>\n",
       "      <td>75.72</td>\n",
       "      <td>5.58</td>\n",
       "    </tr>\n",
       "    <tr>\n",
       "      <th>1</th>\n",
       "      <td>Australia</td>\n",
       "      <td>AUS</td>\n",
       "      <td>2000</td>\n",
       "      <td>19,053.19</td>\n",
       "      <td>1.72</td>\n",
       "      <td>541,804.65</td>\n",
       "      <td>67.76</td>\n",
       "      <td>6.72</td>\n",
       "    </tr>\n",
       "    <tr>\n",
       "      <th>2</th>\n",
       "      <td>India</td>\n",
       "      <td>IND</td>\n",
       "      <td>2000</td>\n",
       "      <td>1,006,300.30</td>\n",
       "      <td>44.94</td>\n",
       "      <td>1,728,144.37</td>\n",
       "      <td>64.58</td>\n",
       "      <td>14.07</td>\n",
       "    </tr>\n",
       "    <tr>\n",
       "      <th>3</th>\n",
       "      <td>Israel</td>\n",
       "      <td>ISR</td>\n",
       "      <td>2000</td>\n",
       "      <td>6,114.57</td>\n",
       "      <td>4.08</td>\n",
       "      <td>129,253.89</td>\n",
       "      <td>64.44</td>\n",
       "      <td>10.27</td>\n",
       "    </tr>\n",
       "    <tr>\n",
       "      <th>4</th>\n",
       "      <td>Malawi</td>\n",
       "      <td>MWI</td>\n",
       "      <td>2000</td>\n",
       "      <td>11,801.50</td>\n",
       "      <td>59.54</td>\n",
       "      <td>5,026.22</td>\n",
       "      <td>74.71</td>\n",
       "      <td>11.66</td>\n",
       "    </tr>\n",
       "    <tr>\n",
       "      <th>5</th>\n",
       "      <td>South Africa</td>\n",
       "      <td>ZAF</td>\n",
       "      <td>2000</td>\n",
       "      <td>45,064.10</td>\n",
       "      <td>6.94</td>\n",
       "      <td>227,242.37</td>\n",
       "      <td>72.72</td>\n",
       "      <td>5.73</td>\n",
       "    </tr>\n",
       "    <tr>\n",
       "      <th>6</th>\n",
       "      <td>United States</td>\n",
       "      <td>USA</td>\n",
       "      <td>2000</td>\n",
       "      <td>282,171.96</td>\n",
       "      <td>1.00</td>\n",
       "      <td>9,898,700.00</td>\n",
       "      <td>72.35</td>\n",
       "      <td>6.03</td>\n",
       "    </tr>\n",
       "    <tr>\n",
       "      <th>7</th>\n",
       "      <td>Uruguay</td>\n",
       "      <td>URY</td>\n",
       "      <td>2000</td>\n",
       "      <td>3,219.79</td>\n",
       "      <td>12.10</td>\n",
       "      <td>25,255.96</td>\n",
       "      <td>78.98</td>\n",
       "      <td>5.11</td>\n",
       "    </tr>\n",
       "  </tbody>\n",
       "</table>\n",
       "</div>"
      ],
      "text/plain": [
       "         country country isocode  year                  POP  \\\n",
       "0      Argentina             ARG  2000            37,335.65   \n",
       "1      Australia             AUS  2000            19,053.19   \n",
       "2          India             IND  2000         1,006,300.30   \n",
       "3         Israel             ISR  2000             6,114.57   \n",
       "4         Malawi             MWI  2000            11,801.50   \n",
       "5   South Africa             ZAF  2000            45,064.10   \n",
       "6  United States             USA  2000           282,171.96   \n",
       "7        Uruguay             URY  2000             3,219.79   \n",
       "\n",
       "                  XRAT                tcgdp                   cc  \\\n",
       "0                 1.00           295,072.22                75.72   \n",
       "1                 1.72           541,804.65                67.76   \n",
       "2                44.94         1,728,144.37                64.58   \n",
       "3                 4.08           129,253.89                64.44   \n",
       "4                59.54             5,026.22                74.71   \n",
       "5                 6.94           227,242.37                72.72   \n",
       "6                 1.00         9,898,700.00                72.35   \n",
       "7                12.10            25,255.96                78.98   \n",
       "\n",
       "                    cg  \n",
       "0                 5.58  \n",
       "1                 6.72  \n",
       "2                14.07  \n",
       "3                10.27  \n",
       "4                11.66  \n",
       "5                 5.73  \n",
       "6                 6.03  \n",
       "7                 5.11  "
      ]
     },
     "execution_count": 18,
     "metadata": {},
     "output_type": "execute_result"
    }
   ],
   "source": [
    "df = pd.read_csv('test_lab.csv')\n",
    "print(f\"\\033[1mThe type of test_lab.csv is\\033[0m {type(df)}\")\n",
    "df"
   ]
  },
  {
   "cell_type": "markdown",
   "metadata": {},
   "source": [
    "[**info()**](https://pandas.pydata.org/docs/reference/api/pandas.DataFrame.info.html) prints a concise summary of a DataFrame. This method prints information about a DataFrame including the number of columns, column labels, column data types, memory usage, range index, and the number of cells in each column (non-null values)."
   ]
  },
  {
   "cell_type": "code",
   "execution_count": null,
   "metadata": {},
   "outputs": [],
   "source": []
  },
  {
   "cell_type": "code",
   "execution_count": null,
   "metadata": {},
   "outputs": [],
   "source": []
  },
  {
   "cell_type": "code",
   "execution_count": null,
   "metadata": {},
   "outputs": [],
   "source": []
  },
  {
   "cell_type": "code",
   "execution_count": null,
   "metadata": {},
   "outputs": [],
   "source": []
  },
  {
   "cell_type": "code",
   "execution_count": null,
   "metadata": {},
   "outputs": [],
   "source": []
  },
  {
   "cell_type": "markdown",
   "metadata": {},
   "source": [
    "## <p style=\"background-color:#9d4f8c; font-family:newtimeroman; color:#FFF9ED; font-size:175%; text-align:center; border-radius:10px 10px;\">Indexing, Slicing & Selection</p>\n",
    "\n",
    "<a id=\"6\"></a>\n",
    "<a href=\"#toc\" class=\"btn btn-primary btn-sm\" role=\"button\" aria-pressed=\"true\" \n",
    "style=\"color:blue; background-color:#dfa8e4\" data-toggle=\"popover\">Content</a>\n",
    "\n",
    "As stated and implemented by examples above, a Series is very similar to a NumPy array. [**What differentiates the NumPy array from a Series**](https://www.educba.com/pandas-vs-numpy/) is that **a Series can have axis labels**, meaning it can be indexed by a label, instead of just a number location. In otherwords, the essential difference is **the presence of the index**: while the **``Numpy Array``** has an implicitly defined integer index used to access the values, the **``Pandas Series``** has an explicitly defined index associated with the values (labels). Moreover, it doesn NOT need to hold numeric data, it can hold any arbitrary Python Object [Source](https://rpubs.com/pjozefek/659184).\n",
    "\n",
    "So, the key to using a Series is understanding its index. Pandas makes use of these index names or numbers by allowing for fast look up of information.\n",
    "\n",
    "The axis labeling information in pandas objects serves many purposes:\n",
    "\n",
    "- Identifies data (i.e. provides metadata) using known indicators, important for analysis, visualization, and interactive console display.\n",
    "- Enables automatic and explicit data alignment.\n",
    "- Allows intuitive getting and setting of subsets of the data set.\n",
    "\n",
    "In this part of our session, we will focus on the final point: namely, how to slice, dice, and generally get and set subsets of pandas objects. The primary focus will be on Series and DataFrame as they have received more development attention in this area. For more information, please visit [pandas-docs.github.io](https://pandas-docs.github.io/pandas-docs-travis/user_guide/indexing.html)\n",
    "\n",
    "The most robust and consistent way of slicing ranges along arbitrary axes is described in the [Selection by Position](https://pandas.pydata.org/pandas-docs/stable/user_guide/indexing.html#indexing-integer) section detailing the .iloc method. First, let us look at the semantics of slicing using the **[ ]** operator.\n",
    "\n",
    "[Some More Examples](https://sparkbyexamples.com/pandas/how-to-slice-columns-in-pandas-dataframe/#:~:text=By%20using%20pandas.,columns%2C%20the%20syntax%20is%20df.)"
   ]
  },
  {
   "cell_type": "code",
   "execution_count": null,
   "metadata": {},
   "outputs": [],
   "source": []
  },
  {
   "cell_type": "code",
   "execution_count": null,
   "metadata": {},
   "outputs": [],
   "source": []
  },
  {
   "cell_type": "code",
   "execution_count": null,
   "metadata": {},
   "outputs": [],
   "source": []
  },
  {
   "cell_type": "code",
   "execution_count": null,
   "metadata": {},
   "outputs": [],
   "source": []
  },
  {
   "cell_type": "markdown",
   "metadata": {},
   "source": [
    "### [.loc[ ]](https://pandas.pydata.org/docs/reference/api/pandas.DataFrame.loc.html) → allows us to select data using **labels** (names) of rows (index) & columns\n",
    "\n",
    "### [.iloc[ ]](https://pandas.pydata.org/docs/reference/api/pandas.DataFrame.iloc.html) → allows us to select data using **index numbers** of rows (index) & columns. it's like classical indexing logic\n",
    "\n",
    "Let us first remember our df: "
   ]
  },
  {
   "cell_type": "code",
   "execution_count": null,
   "metadata": {},
   "outputs": [],
   "source": []
  },
  {
   "cell_type": "code",
   "execution_count": null,
   "metadata": {},
   "outputs": [],
   "source": []
  },
  {
   "cell_type": "code",
   "execution_count": null,
   "metadata": {},
   "outputs": [],
   "source": []
  },
  {
   "cell_type": "markdown",
   "metadata": {},
   "source": [
    "### **``QUESTION:``** **What happened? Why was South Africa included when** **``loc``** **used?**\n",
    "\n",
    "The first thing remembered is that **``.iloc[ ]``** is **exclusive** while **``.loc[ ]``** is **inclusive.**"
   ]
  },
  {
   "cell_type": "markdown",
   "metadata": {},
   "source": [
    "## 1) **``Using Pandas.DataFrame.loc[]``** (By label)\n",
    "\n",
    "\n",
    "**1.1 – Slicing Columns by Names or Labels**\n",
    "\n",
    "By using **``pandas.DataFrame.loc[ ]``** you can slice columns by names or labels. To slice the columns, the syntax is **``df.loc[:, start:stop:step]``**; where start is the name of the first column to take, stop is the name of the last column to take, and step as the number of indices to advance after each extraction"
   ]
  },
  {
   "cell_type": "code",
   "execution_count": null,
   "metadata": {},
   "outputs": [],
   "source": []
  },
  {
   "cell_type": "code",
   "execution_count": null,
   "metadata": {},
   "outputs": [],
   "source": []
  },
  {
   "cell_type": "markdown",
   "metadata": {},
   "source": [
    "**1.2 – Slicing DataFrame Columns by Labels**\n",
    "\n",
    "To slice DataFrame columns by labels or names, all you need is to provide the multiple labels you wanted to slice as a list. Here we use the list of labels instead of the start:stop:step approach."
   ]
  },
  {
   "cell_type": "code",
   "execution_count": null,
   "metadata": {},
   "outputs": [],
   "source": []
  },
  {
   "cell_type": "code",
   "execution_count": null,
   "metadata": {},
   "outputs": [],
   "source": []
  },
  {
   "cell_type": "markdown",
   "metadata": {},
   "source": [
    "**1.3 – Slicing DataFrame Columns by Range**\n",
    "\n",
    "When you wanted to slice a DataFrame by the range of columns, provide start and stop column names.\n",
    "\n",
    "  - By not providing a start column, loc[] selects from the beginning.\n",
    "  - By not providing stop, loc[] selects all columns from the start label.\n",
    "  - Providing both start and stop, selects all columns in between."
   ]
  },
  {
   "cell_type": "code",
   "execution_count": null,
   "metadata": {},
   "outputs": [],
   "source": [
    "# Slicing all columns between \"country\" an 'POP' columns\n",
    "\n"
   ]
  },
  {
   "cell_type": "code",
   "execution_count": null,
   "metadata": {},
   "outputs": [],
   "source": [
    "# Slicing by start from 'country isocode' column\n",
    "\n"
   ]
  },
  {
   "cell_type": "code",
   "execution_count": null,
   "metadata": {},
   "outputs": [],
   "source": [
    "# Slicing by start from the beginning and end at 'XRAT' column\n",
    "\n"
   ]
  },
  {
   "cell_type": "markdown",
   "metadata": {},
   "source": [
    "**1.4 – Slicing Certain Selective Columns in pandas**\n",
    "\n",
    "Sometimes you may want to select random certain columns from pandas DataFrame, you can do this by passing selected column names/labels as a list."
   ]
  },
  {
   "cell_type": "code",
   "execution_count": null,
   "metadata": {},
   "outputs": [],
   "source": []
  },
  {
   "cell_type": "markdown",
   "metadata": {},
   "source": [
    "**1.5 – Selecting Every Alternate Column**\n",
    "\n",
    "Using **``loc[ ]``**, you can also slice columns by selecting every other column from pandas DataFrame."
   ]
  },
  {
   "cell_type": "code",
   "execution_count": null,
   "metadata": {},
   "outputs": [],
   "source": []
  },
  {
   "cell_type": "markdown",
   "metadata": {},
   "source": [
    "## 2) **``Using Pandas.DataFrame.iloc[]``** (By position)\n",
    "\n",
    "By using **``pandas.DataFrame.iloc[ ]``** you can slice DataFrame by column **position/index**. Always remember that index starts from 0. You can use **``pandas.DataFrame.iloc[ ]``** with the syntax **``[:, start:stop:step]``**; where **start** indicates the index of the first column to take, **stop** indicates the index of the last column to take, and **step** indicates the number of indices to advance after each extraction. Or, use the syntax: **``[:, [indices]]``** with indices as a list of column indices to take.\n",
    "\n",
    "**2.1 – Slicing Columns by Index Position**"
   ]
  },
  {
   "cell_type": "code",
   "execution_count": 19,
   "metadata": {},
   "outputs": [
    {
     "data": {
      "text/html": [
       "<div>\n",
       "<style scoped>\n",
       "    .dataframe tbody tr th:only-of-type {\n",
       "        vertical-align: middle;\n",
       "    }\n",
       "\n",
       "    .dataframe tbody tr th {\n",
       "        vertical-align: top;\n",
       "    }\n",
       "\n",
       "    .dataframe thead th {\n",
       "        text-align: right;\n",
       "    }\n",
       "</style>\n",
       "<table border=\"1\" class=\"dataframe\">\n",
       "  <thead>\n",
       "    <tr style=\"text-align: right;\">\n",
       "      <th></th>\n",
       "      <th>country</th>\n",
       "      <th>country isocode</th>\n",
       "      <th>year</th>\n",
       "      <th>POP</th>\n",
       "      <th>XRAT</th>\n",
       "      <th>tcgdp</th>\n",
       "      <th>cc</th>\n",
       "      <th>cg</th>\n",
       "    </tr>\n",
       "  </thead>\n",
       "  <tbody>\n",
       "    <tr>\n",
       "      <th>0</th>\n",
       "      <td>Argentina</td>\n",
       "      <td>ARG</td>\n",
       "      <td>2000</td>\n",
       "      <td>37,335.65</td>\n",
       "      <td>1.00</td>\n",
       "      <td>295,072.22</td>\n",
       "      <td>75.72</td>\n",
       "      <td>5.58</td>\n",
       "    </tr>\n",
       "    <tr>\n",
       "      <th>1</th>\n",
       "      <td>Australia</td>\n",
       "      <td>AUS</td>\n",
       "      <td>2000</td>\n",
       "      <td>19,053.19</td>\n",
       "      <td>1.72</td>\n",
       "      <td>541,804.65</td>\n",
       "      <td>67.76</td>\n",
       "      <td>6.72</td>\n",
       "    </tr>\n",
       "    <tr>\n",
       "      <th>2</th>\n",
       "      <td>India</td>\n",
       "      <td>IND</td>\n",
       "      <td>2000</td>\n",
       "      <td>1,006,300.30</td>\n",
       "      <td>44.94</td>\n",
       "      <td>1,728,144.37</td>\n",
       "      <td>64.58</td>\n",
       "      <td>14.07</td>\n",
       "    </tr>\n",
       "    <tr>\n",
       "      <th>3</th>\n",
       "      <td>Israel</td>\n",
       "      <td>ISR</td>\n",
       "      <td>2000</td>\n",
       "      <td>6,114.57</td>\n",
       "      <td>4.08</td>\n",
       "      <td>129,253.89</td>\n",
       "      <td>64.44</td>\n",
       "      <td>10.27</td>\n",
       "    </tr>\n",
       "    <tr>\n",
       "      <th>4</th>\n",
       "      <td>Malawi</td>\n",
       "      <td>MWI</td>\n",
       "      <td>2000</td>\n",
       "      <td>11,801.50</td>\n",
       "      <td>59.54</td>\n",
       "      <td>5,026.22</td>\n",
       "      <td>74.71</td>\n",
       "      <td>11.66</td>\n",
       "    </tr>\n",
       "    <tr>\n",
       "      <th>5</th>\n",
       "      <td>South Africa</td>\n",
       "      <td>ZAF</td>\n",
       "      <td>2000</td>\n",
       "      <td>45,064.10</td>\n",
       "      <td>6.94</td>\n",
       "      <td>227,242.37</td>\n",
       "      <td>72.72</td>\n",
       "      <td>5.73</td>\n",
       "    </tr>\n",
       "    <tr>\n",
       "      <th>6</th>\n",
       "      <td>United States</td>\n",
       "      <td>USA</td>\n",
       "      <td>2000</td>\n",
       "      <td>282,171.96</td>\n",
       "      <td>1.00</td>\n",
       "      <td>9,898,700.00</td>\n",
       "      <td>72.35</td>\n",
       "      <td>6.03</td>\n",
       "    </tr>\n",
       "    <tr>\n",
       "      <th>7</th>\n",
       "      <td>Uruguay</td>\n",
       "      <td>URY</td>\n",
       "      <td>2000</td>\n",
       "      <td>3,219.79</td>\n",
       "      <td>12.10</td>\n",
       "      <td>25,255.96</td>\n",
       "      <td>78.98</td>\n",
       "      <td>5.11</td>\n",
       "    </tr>\n",
       "  </tbody>\n",
       "</table>\n",
       "</div>"
      ],
      "text/plain": [
       "         country country isocode  year                  POP  \\\n",
       "0      Argentina             ARG  2000            37,335.65   \n",
       "1      Australia             AUS  2000            19,053.19   \n",
       "2          India             IND  2000         1,006,300.30   \n",
       "3         Israel             ISR  2000             6,114.57   \n",
       "4         Malawi             MWI  2000            11,801.50   \n",
       "5   South Africa             ZAF  2000            45,064.10   \n",
       "6  United States             USA  2000           282,171.96   \n",
       "7        Uruguay             URY  2000             3,219.79   \n",
       "\n",
       "                  XRAT                tcgdp                   cc  \\\n",
       "0                 1.00           295,072.22                75.72   \n",
       "1                 1.72           541,804.65                67.76   \n",
       "2                44.94         1,728,144.37                64.58   \n",
       "3                 4.08           129,253.89                64.44   \n",
       "4                59.54             5,026.22                74.71   \n",
       "5                 6.94           227,242.37                72.72   \n",
       "6                 1.00         9,898,700.00                72.35   \n",
       "7                12.10            25,255.96                78.98   \n",
       "\n",
       "                    cg  \n",
       "0                 5.58  \n",
       "1                 6.72  \n",
       "2                14.07  \n",
       "3                10.27  \n",
       "4                11.66  \n",
       "5                 5.73  \n",
       "6                 6.03  \n",
       "7                 5.11  "
      ]
     },
     "execution_count": 19,
     "metadata": {},
     "output_type": "execute_result"
    }
   ],
   "source": [
    "# Let us first remember our df\n",
    "\n",
    "df"
   ]
  },
  {
   "cell_type": "markdown",
   "metadata": {},
   "source": [
    "We are going to use columns by their index positions, and retrieve slices of DataFrame. Below example retrieves \"country isocode\", \"POP\" and \"XRAT\" slices of columns at the DataFrame."
   ]
  },
  {
   "cell_type": "code",
   "execution_count": null,
   "metadata": {},
   "outputs": [],
   "source": [
    "# Slicing by selected column position\n",
    "\n"
   ]
  },
  {
   "cell_type": "markdown",
   "metadata": {},
   "source": [
    "**2.2 Column Slices by Position Range**\n",
    "\n",
    "Like slices by column labels, you can also slice a DataFrame by a range of positions."
   ]
  },
  {
   "cell_type": "code",
   "execution_count": null,
   "metadata": {},
   "outputs": [],
   "source": [
    "# Slicing between indexes 1 (inclusive) and 4 (exclusive)\n",
    "\n"
   ]
  },
  {
   "cell_type": "code",
   "execution_count": null,
   "metadata": {},
   "outputs": [],
   "source": [
    "# Slicing from the 3rd index (inclusive) to end\n",
    "\n"
   ]
  },
  {
   "cell_type": "code",
   "execution_count": null,
   "metadata": {},
   "outputs": [],
   "source": [
    "# Slicing from the beginning to the 2nd index (exclusive)\n",
    "\n"
   ]
  },
  {
   "cell_type": "markdown",
   "metadata": {},
   "source": [
    "To get the **last column** use **``df.iloc[:, -1:]``** and to get just **first column** **``df.iloc[:, :1]``**"
   ]
  },
  {
   "cell_type": "code",
   "execution_count": null,
   "metadata": {},
   "outputs": [],
   "source": []
  },
  {
   "cell_type": "markdown",
   "metadata": {},
   "source": [
    "## BONUS"
   ]
  },
  {
   "cell_type": "code",
   "execution_count": 20,
   "metadata": {},
   "outputs": [
    {
     "data": {
      "text/html": [
       "<div>\n",
       "<style scoped>\n",
       "    .dataframe tbody tr th:only-of-type {\n",
       "        vertical-align: middle;\n",
       "    }\n",
       "\n",
       "    .dataframe tbody tr th {\n",
       "        vertical-align: top;\n",
       "    }\n",
       "\n",
       "    .dataframe thead th {\n",
       "        text-align: right;\n",
       "    }\n",
       "</style>\n",
       "<table border=\"1\" class=\"dataframe\">\n",
       "  <thead>\n",
       "    <tr style=\"text-align: right;\">\n",
       "      <th></th>\n",
       "      <th>country</th>\n",
       "      <th>country isocode</th>\n",
       "      <th>year</th>\n",
       "      <th>POP</th>\n",
       "      <th>XRAT</th>\n",
       "      <th>tcgdp</th>\n",
       "      <th>cc</th>\n",
       "      <th>cg</th>\n",
       "    </tr>\n",
       "  </thead>\n",
       "  <tbody>\n",
       "    <tr>\n",
       "      <th>0</th>\n",
       "      <td>Argentina</td>\n",
       "      <td>ARG</td>\n",
       "      <td>2000</td>\n",
       "      <td>37,335.65</td>\n",
       "      <td>1.00</td>\n",
       "      <td>295,072.22</td>\n",
       "      <td>75.72</td>\n",
       "      <td>5.58</td>\n",
       "    </tr>\n",
       "    <tr>\n",
       "      <th>1</th>\n",
       "      <td>Australia</td>\n",
       "      <td>AUS</td>\n",
       "      <td>2000</td>\n",
       "      <td>19,053.19</td>\n",
       "      <td>1.72</td>\n",
       "      <td>541,804.65</td>\n",
       "      <td>67.76</td>\n",
       "      <td>6.72</td>\n",
       "    </tr>\n",
       "    <tr>\n",
       "      <th>2</th>\n",
       "      <td>India</td>\n",
       "      <td>IND</td>\n",
       "      <td>2000</td>\n",
       "      <td>1,006,300.30</td>\n",
       "      <td>44.94</td>\n",
       "      <td>1,728,144.37</td>\n",
       "      <td>64.58</td>\n",
       "      <td>14.07</td>\n",
       "    </tr>\n",
       "    <tr>\n",
       "      <th>3</th>\n",
       "      <td>Israel</td>\n",
       "      <td>ISR</td>\n",
       "      <td>2000</td>\n",
       "      <td>6,114.57</td>\n",
       "      <td>4.08</td>\n",
       "      <td>129,253.89</td>\n",
       "      <td>64.44</td>\n",
       "      <td>10.27</td>\n",
       "    </tr>\n",
       "    <tr>\n",
       "      <th>4</th>\n",
       "      <td>Malawi</td>\n",
       "      <td>MWI</td>\n",
       "      <td>2000</td>\n",
       "      <td>11,801.50</td>\n",
       "      <td>59.54</td>\n",
       "      <td>5,026.22</td>\n",
       "      <td>74.71</td>\n",
       "      <td>11.66</td>\n",
       "    </tr>\n",
       "    <tr>\n",
       "      <th>5</th>\n",
       "      <td>South Africa</td>\n",
       "      <td>ZAF</td>\n",
       "      <td>2000</td>\n",
       "      <td>45,064.10</td>\n",
       "      <td>6.94</td>\n",
       "      <td>227,242.37</td>\n",
       "      <td>72.72</td>\n",
       "      <td>5.73</td>\n",
       "    </tr>\n",
       "    <tr>\n",
       "      <th>6</th>\n",
       "      <td>United States</td>\n",
       "      <td>USA</td>\n",
       "      <td>2000</td>\n",
       "      <td>282,171.96</td>\n",
       "      <td>1.00</td>\n",
       "      <td>9,898,700.00</td>\n",
       "      <td>72.35</td>\n",
       "      <td>6.03</td>\n",
       "    </tr>\n",
       "    <tr>\n",
       "      <th>7</th>\n",
       "      <td>Uruguay</td>\n",
       "      <td>URY</td>\n",
       "      <td>2000</td>\n",
       "      <td>3,219.79</td>\n",
       "      <td>12.10</td>\n",
       "      <td>25,255.96</td>\n",
       "      <td>78.98</td>\n",
       "      <td>5.11</td>\n",
       "    </tr>\n",
       "  </tbody>\n",
       "</table>\n",
       "</div>"
      ],
      "text/plain": [
       "         country country isocode  year                  POP  \\\n",
       "0      Argentina             ARG  2000            37,335.65   \n",
       "1      Australia             AUS  2000            19,053.19   \n",
       "2          India             IND  2000         1,006,300.30   \n",
       "3         Israel             ISR  2000             6,114.57   \n",
       "4         Malawi             MWI  2000            11,801.50   \n",
       "5   South Africa             ZAF  2000            45,064.10   \n",
       "6  United States             USA  2000           282,171.96   \n",
       "7        Uruguay             URY  2000             3,219.79   \n",
       "\n",
       "                  XRAT                tcgdp                   cc  \\\n",
       "0                 1.00           295,072.22                75.72   \n",
       "1                 1.72           541,804.65                67.76   \n",
       "2                44.94         1,728,144.37                64.58   \n",
       "3                 4.08           129,253.89                64.44   \n",
       "4                59.54             5,026.22                74.71   \n",
       "5                 6.94           227,242.37                72.72   \n",
       "6                 1.00         9,898,700.00                72.35   \n",
       "7                12.10            25,255.96                78.98   \n",
       "\n",
       "                    cg  \n",
       "0                 5.58  \n",
       "1                 6.72  \n",
       "2                14.07  \n",
       "3                10.27  \n",
       "4                11.66  \n",
       "5                 5.73  \n",
       "6                 6.03  \n",
       "7                 5.11  "
      ]
     },
     "execution_count": 20,
     "metadata": {},
     "output_type": "execute_result"
    }
   ],
   "source": [
    "df"
   ]
  },
  {
   "cell_type": "markdown",
   "metadata": {},
   "source": [
    "**[Pandas loc vs. iloc vs. at vs. iat?](https://stackoverflow.com/questions/28757389/pandas-loc-vs-iloc-vs-at-vs-iat)**\n",
    "\n",
    "**``loc``** : only work on index<br>\n",
    "**``iloc``** : work on position<br>\n",
    "**``at``** : get scalar values. It's a very fast loc<br>\n",
    "**``iat``** : Get scalar values. It's a very fast iloc<br>\n",
    "\n",
    "**``at``** and **``iat``** are meant to access a scalar, that is, a single element in the dataframe, while **``loc``** and **``iloc``** are ments to access several elements at the same time, potentially to perform vectorized operations."
   ]
  },
  {
   "cell_type": "code",
   "execution_count": null,
   "metadata": {},
   "outputs": [],
   "source": [
    "# By position\n",
    "\n"
   ]
  },
  {
   "cell_type": "code",
   "execution_count": null,
   "metadata": {},
   "outputs": [],
   "source": [
    "# By label\n",
    "\n"
   ]
  },
  {
   "cell_type": "markdown",
   "metadata": {},
   "source": [
    "**``iat[]``** and **``at[]``** gives only a single value output (working with scalar only), so very fast, while **``iloc[]``** and **``loc[]``** can give multiple row output. [Source](https://pandas.pydata.org/pandas-docs/stable/user_guide/indexing.html)"
   ]
  },
  {
   "cell_type": "markdown",
   "metadata": {},
   "source": [
    "## <p style=\"background-color:#FDFEFE; font-family:newtimeroman; color:#9d4f8c; font-size:150%; text-align:center; border-radius:10px 10px;\">The End of The Lab-01 Session</p>\n",
    "\n",
    "<a id=\"7\"></a>\n",
    "<a href=\"#toc\" class=\"btn btn-primary btn-sm\" role=\"button\" aria-pressed=\"true\" \n",
    "style=\"color:blue; background-color:#dfa8e4\" data-toggle=\"popover\">Content</a>"
   ]
  },
  {
   "cell_type": "markdown",
   "metadata": {},
   "source": [
    "<p style=\"text-align: center;\"><img src=\"https://docs.google.com/uc?id=1lY0Uj5R04yMY3-ZppPWxqCr5pvBLYPnV\" class=\"img-fluid\" \n",
    "alt=\"CLRSWY\"></p>\n",
    "\n",
    "## <p style=\"background-color:#FDFEFE; font-family:newtimeroman; color:#9d4f8c; font-size:100%; text-align:center; border-radius:10px 10px;\">WAY TO REINVENT YOURSELF</p>\n",
    "\n",
    "___"
   ]
  }
 ],
 "metadata": {
  "colab": {
   "name": "DAwPy-S3 (Pandas Series).ipynb",
   "provenance": []
  },
  "kernelspec": {
   "display_name": "Python 3 (ipykernel)",
   "language": "python",
   "name": "python3"
  },
  "language_info": {
   "codemirror_mode": {
    "name": "ipython",
    "version": 3
   },
   "file_extension": ".py",
   "mimetype": "text/x-python",
   "name": "python",
   "nbconvert_exporter": "python",
   "pygments_lexer": "ipython3",
   "version": "3.9.13"
  },
  "toc": {
   "base_numbering": 1,
   "nav_menu": {},
   "number_sections": false,
   "sideBar": true,
   "skip_h1_title": false,
   "title_cell": "Table of Contents",
   "title_sidebar": "Contents",
   "toc_cell": false,
   "toc_position": {
    "height": "671.804px",
    "left": "533px",
    "top": "170.051px",
    "width": "316.075px"
   },
   "toc_section_display": true,
   "toc_window_display": true
  }
 },
 "nbformat": 4,
 "nbformat_minor": 1
}
